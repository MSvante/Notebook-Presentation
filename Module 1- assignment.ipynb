{
  "nbformat": 4,
  "nbformat_minor": 0,
  "metadata": {
    "colab": {
      "name": "M1 Exam - Video Game Sales",
      "provenance": [],
      "collapsed_sections": [],
      "toc_visible": true
    },
    "kernelspec": {
      "name": "python3",
      "display_name": "Python 3"
    }
  },
  "cells": [
    {
      "cell_type": "markdown",
      "metadata": {
        "id": "Txv601DeGfB5"
      },
      "source": [
        "#Video Game Sales\n",
        "In this notebook we want to investigate the popularity of games, across publishers, platforms and years. We want to see if there is any connection to which platform the games has been published and how well they perform sales-wise. We also want to try to predict what platform a given game has been released to, when provided with the sales numbers for each region. "
      ]
    },
    {
      "cell_type": "code",
      "metadata": {
        "id": "Vyoz8RkbyWLq"
      },
      "source": [
        "#First of we preprocces and import the relevant packages. \n",
        "import pandas as pd\n",
        "import numpy as np\n",
        "import matplotlib.pyplot as plt\n",
        "import seaborn as sns\n",
        "sns.set(color_codes=True, rc={'figure.figsize':(8,8)})"
      ],
      "execution_count": null,
      "outputs": []
    },
    {
      "cell_type": "code",
      "metadata": {
        "id": "3kcbsr0dyd0z"
      },
      "source": [
        "#Importing the data. \n",
        "#Data has been grabbed from https://www.kaggle.com/gregorut/videogamesales and then reuploaded to github.\n",
        "data = pd.read_csv('https://raw.githubusercontent.com/MSvante/AAU-SDS-2020/master/Module1/vgsales.csv')\n",
        "cc = pd.read_csv('https://raw.githubusercontent.com/MSvante/AAU-SDS-2020/master/Module1/ConsoleCategory.csv')"
      ],
      "execution_count": null,
      "outputs": []
    },
    {
      "cell_type": "code",
      "metadata": {
        "id": "KxCXbMWKEXtJ",
        "colab": {
          "base_uri": "https://localhost:8080/",
          "height": 204
        },
        "outputId": "184104d3-d96f-45c6-e939-f4d984c789e5"
      },
      "source": [
        "data.head()"
      ],
      "execution_count": null,
      "outputs": [
        {
          "output_type": "execute_result",
          "data": {
            "text/html": [
              "<div>\n",
              "<style scoped>\n",
              "    .dataframe tbody tr th:only-of-type {\n",
              "        vertical-align: middle;\n",
              "    }\n",
              "\n",
              "    .dataframe tbody tr th {\n",
              "        vertical-align: top;\n",
              "    }\n",
              "\n",
              "    .dataframe thead th {\n",
              "        text-align: right;\n",
              "    }\n",
              "</style>\n",
              "<table border=\"1\" class=\"dataframe\">\n",
              "  <thead>\n",
              "    <tr style=\"text-align: right;\">\n",
              "      <th></th>\n",
              "      <th>Rank</th>\n",
              "      <th>Name</th>\n",
              "      <th>Platform</th>\n",
              "      <th>Year</th>\n",
              "      <th>Genre</th>\n",
              "      <th>Publisher</th>\n",
              "      <th>NA_Sales</th>\n",
              "      <th>EU_Sales</th>\n",
              "      <th>JP_Sales</th>\n",
              "      <th>Other_Sales</th>\n",
              "      <th>Global_Sales</th>\n",
              "    </tr>\n",
              "  </thead>\n",
              "  <tbody>\n",
              "    <tr>\n",
              "      <th>0</th>\n",
              "      <td>1</td>\n",
              "      <td>Wii Sports</td>\n",
              "      <td>Wii</td>\n",
              "      <td>2006.0</td>\n",
              "      <td>Sports</td>\n",
              "      <td>Nintendo</td>\n",
              "      <td>41.49</td>\n",
              "      <td>29.02</td>\n",
              "      <td>3.77</td>\n",
              "      <td>8.46</td>\n",
              "      <td>82.74</td>\n",
              "    </tr>\n",
              "    <tr>\n",
              "      <th>1</th>\n",
              "      <td>2</td>\n",
              "      <td>Super Mario Bros.</td>\n",
              "      <td>NES</td>\n",
              "      <td>1985.0</td>\n",
              "      <td>Platform</td>\n",
              "      <td>Nintendo</td>\n",
              "      <td>29.08</td>\n",
              "      <td>3.58</td>\n",
              "      <td>6.81</td>\n",
              "      <td>0.77</td>\n",
              "      <td>40.24</td>\n",
              "    </tr>\n",
              "    <tr>\n",
              "      <th>2</th>\n",
              "      <td>3</td>\n",
              "      <td>Mario Kart Wii</td>\n",
              "      <td>Wii</td>\n",
              "      <td>2008.0</td>\n",
              "      <td>Racing</td>\n",
              "      <td>Nintendo</td>\n",
              "      <td>15.85</td>\n",
              "      <td>12.88</td>\n",
              "      <td>3.79</td>\n",
              "      <td>3.31</td>\n",
              "      <td>35.82</td>\n",
              "    </tr>\n",
              "    <tr>\n",
              "      <th>3</th>\n",
              "      <td>4</td>\n",
              "      <td>Wii Sports Resort</td>\n",
              "      <td>Wii</td>\n",
              "      <td>2009.0</td>\n",
              "      <td>Sports</td>\n",
              "      <td>Nintendo</td>\n",
              "      <td>15.75</td>\n",
              "      <td>11.01</td>\n",
              "      <td>3.28</td>\n",
              "      <td>2.96</td>\n",
              "      <td>33.00</td>\n",
              "    </tr>\n",
              "    <tr>\n",
              "      <th>4</th>\n",
              "      <td>5</td>\n",
              "      <td>Pokemon Red/Pokemon Blue</td>\n",
              "      <td>GB</td>\n",
              "      <td>1996.0</td>\n",
              "      <td>Role-Playing</td>\n",
              "      <td>Nintendo</td>\n",
              "      <td>11.27</td>\n",
              "      <td>8.89</td>\n",
              "      <td>10.22</td>\n",
              "      <td>1.00</td>\n",
              "      <td>31.37</td>\n",
              "    </tr>\n",
              "  </tbody>\n",
              "</table>\n",
              "</div>"
            ],
            "text/plain": [
              "   Rank                      Name Platform  ...  JP_Sales Other_Sales Global_Sales\n",
              "0     1                Wii Sports      Wii  ...      3.77        8.46        82.74\n",
              "1     2         Super Mario Bros.      NES  ...      6.81        0.77        40.24\n",
              "2     3            Mario Kart Wii      Wii  ...      3.79        3.31        35.82\n",
              "3     4         Wii Sports Resort      Wii  ...      3.28        2.96        33.00\n",
              "4     5  Pokemon Red/Pokemon Blue       GB  ...     10.22        1.00        31.37\n",
              "\n",
              "[5 rows x 11 columns]"
            ]
          },
          "metadata": {
            "tags": []
          },
          "execution_count": 4
        }
      ]
    },
    {
      "cell_type": "markdown",
      "metadata": {
        "id": "SiPhJ2lFEY4P"
      },
      "source": [
        "At this point we can see that the game at rank 1 is Wii Sports. This already shows us a few things, because a google search tells us that Wii Sports came with every sold Wii Console. This tells us that the Global Sales is not necessarily actual sold copies, but rather distributed copies. Secondly, as it is such a big outlier (twice as many copies as the second highest) we want to filter it away. "
      ]
    },
    {
      "cell_type": "code",
      "metadata": {
        "id": "_SKO30xvFErN",
        "colab": {
          "base_uri": "https://localhost:8080/",
          "height": 573
        },
        "outputId": "a306db1d-fa4b-4b41-fefe-9baec1912748"
      },
      "source": [
        "#To get an idea of the distribution of the data, we can plot the global sales of each observation. \n",
        "sns.distplot(data.Global_Sales, bins=100)"
      ],
      "execution_count": null,
      "outputs": [
        {
          "output_type": "stream",
          "text": [
            "/usr/local/lib/python3.6/dist-packages/seaborn/distributions.py:2551: FutureWarning: `distplot` is a deprecated function and will be removed in a future version. Please adapt your code to use either `displot` (a figure-level function with similar flexibility) or `histplot` (an axes-level function for histograms).\n",
            "  warnings.warn(msg, FutureWarning)\n"
          ],
          "name": "stderr"
        },
        {
          "output_type": "execute_result",
          "data": {
            "text/plain": [
              "<matplotlib.axes._subplots.AxesSubplot at 0x7efeb84f2240>"
            ]
          },
          "metadata": {
            "tags": []
          },
          "execution_count": 5
        },
        {
          "output_type": "display_data",
          "data": {
            "image/png": "[encoded data removed]",
            "text/plain": [
              "<Figure size 576x576 with 1 Axes>"
            ]
          },
          "metadata": {
            "tags": []
          }
        }
      ]
    },
    {
      "cell_type": "markdown",
      "metadata": {
        "id": "C4MBGlE_GT97"
      },
      "source": [
        "As the plot shows, almost all of the data has very few Global Sales. As we want to investigate the popularity of games, we will only look at the top 1000 games. "
      ]
    },
    {
      "cell_type": "code",
      "metadata": {
        "id": "E9fKv9-QkSXt"
      },
      "source": [
        "#Filtering - remember that we don't want to include Wii Sports at index 0 as well. \n",
        "data = data[1:1001]"
      ],
      "execution_count": null,
      "outputs": []
    },
    {
      "cell_type": "code",
      "metadata": {
        "id": "gdGqdk_nzBs2",
        "colab": {
          "base_uri": "https://localhost:8080/",
          "height": 323
        },
        "outputId": "c147b1c3-eaf7-4eab-cba0-99386a9fe39d"
      },
      "source": [
        "#Now let's look at the info of the data now. \n",
        "data.info()"
      ],
      "execution_count": null,
      "outputs": [
        {
          "output_type": "stream",
          "text": [
            "<class 'pandas.core.frame.DataFrame'>\n",
            "RangeIndex: 1000 entries, 1 to 1000\n",
            "Data columns (total 11 columns):\n",
            " #   Column        Non-Null Count  Dtype  \n",
            "---  ------        --------------  -----  \n",
            " 0   Rank          1000 non-null   int64  \n",
            " 1   Name          1000 non-null   object \n",
            " 2   Platform      1000 non-null   object \n",
            " 3   Year          990 non-null    float64\n",
            " 4   Genre         1000 non-null   object \n",
            " 5   Publisher     999 non-null    object \n",
            " 6   NA_Sales      1000 non-null   float64\n",
            " 7   EU_Sales      1000 non-null   float64\n",
            " 8   JP_Sales      1000 non-null   float64\n",
            " 9   Other_Sales   1000 non-null   float64\n",
            " 10  Global_Sales  1000 non-null   float64\n",
            "dtypes: float64(6), int64(1), object(4)\n",
            "memory usage: 86.1+ KB\n"
          ],
          "name": "stdout"
        }
      ]
    },
    {
      "cell_type": "code",
      "metadata": {
        "id": "ulU_RE-m51Xz"
      },
      "source": [
        "#We can see that there are 10 observations that has no year. We drop those values. \n",
        "data = data.dropna()"
      ],
      "execution_count": null,
      "outputs": []
    },
    {
      "cell_type": "code",
      "metadata": {
        "id": "k70pw7908z7c",
        "colab": {
          "base_uri": "https://localhost:8080/",
          "height": 34
        },
        "outputId": "f5e04ad8-069b-4cc8-e033-334df0bdc9ec"
      },
      "source": [
        "data.shape"
      ],
      "execution_count": null,
      "outputs": [
        {
          "output_type": "execute_result",
          "data": {
            "text/plain": [
              "(990, 11)"
            ]
          },
          "metadata": {
            "tags": []
          },
          "execution_count": 9
        }
      ]
    },
    {
      "cell_type": "code",
      "metadata": {
        "id": "L_Cb__V1XFnY"
      },
      "source": [
        "#We change the index to be the Rank of the games. \n",
        "data.set_index('Rank', inplace=True)"
      ],
      "execution_count": null,
      "outputs": []
    },
    {
      "cell_type": "code",
      "metadata": {
        "id": "BVJa03LIXbTm",
        "colab": {
          "base_uri": "https://localhost:8080/",
          "height": 235
        },
        "outputId": "1ed856d9-a8ee-4920-e955-5210b3b0c1d7"
      },
      "source": [
        "data.head()"
      ],
      "execution_count": null,
      "outputs": [
        {
          "output_type": "execute_result",
          "data": {
            "text/html": [
              "<div>\n",
              "<style scoped>\n",
              "    .dataframe tbody tr th:only-of-type {\n",
              "        vertical-align: middle;\n",
              "    }\n",
              "\n",
              "    .dataframe tbody tr th {\n",
              "        vertical-align: top;\n",
              "    }\n",
              "\n",
              "    .dataframe thead th {\n",
              "        text-align: right;\n",
              "    }\n",
              "</style>\n",
              "<table border=\"1\" class=\"dataframe\">\n",
              "  <thead>\n",
              "    <tr style=\"text-align: right;\">\n",
              "      <th></th>\n",
              "      <th>Name</th>\n",
              "      <th>Platform</th>\n",
              "      <th>Year</th>\n",
              "      <th>Genre</th>\n",
              "      <th>Publisher</th>\n",
              "      <th>NA_Sales</th>\n",
              "      <th>EU_Sales</th>\n",
              "      <th>JP_Sales</th>\n",
              "      <th>Other_Sales</th>\n",
              "      <th>Global_Sales</th>\n",
              "    </tr>\n",
              "    <tr>\n",
              "      <th>Rank</th>\n",
              "      <th></th>\n",
              "      <th></th>\n",
              "      <th></th>\n",
              "      <th></th>\n",
              "      <th></th>\n",
              "      <th></th>\n",
              "      <th></th>\n",
              "      <th></th>\n",
              "      <th></th>\n",
              "      <th></th>\n",
              "    </tr>\n",
              "  </thead>\n",
              "  <tbody>\n",
              "    <tr>\n",
              "      <th>2</th>\n",
              "      <td>Super Mario Bros.</td>\n",
              "      <td>NES</td>\n",
              "      <td>1985.0</td>\n",
              "      <td>Platform</td>\n",
              "      <td>Nintendo</td>\n",
              "      <td>29.08</td>\n",
              "      <td>3.58</td>\n",
              "      <td>6.81</td>\n",
              "      <td>0.77</td>\n",
              "      <td>40.24</td>\n",
              "    </tr>\n",
              "    <tr>\n",
              "      <th>3</th>\n",
              "      <td>Mario Kart Wii</td>\n",
              "      <td>Wii</td>\n",
              "      <td>2008.0</td>\n",
              "      <td>Racing</td>\n",
              "      <td>Nintendo</td>\n",
              "      <td>15.85</td>\n",
              "      <td>12.88</td>\n",
              "      <td>3.79</td>\n",
              "      <td>3.31</td>\n",
              "      <td>35.82</td>\n",
              "    </tr>\n",
              "    <tr>\n",
              "      <th>4</th>\n",
              "      <td>Wii Sports Resort</td>\n",
              "      <td>Wii</td>\n",
              "      <td>2009.0</td>\n",
              "      <td>Sports</td>\n",
              "      <td>Nintendo</td>\n",
              "      <td>15.75</td>\n",
              "      <td>11.01</td>\n",
              "      <td>3.28</td>\n",
              "      <td>2.96</td>\n",
              "      <td>33.00</td>\n",
              "    </tr>\n",
              "    <tr>\n",
              "      <th>5</th>\n",
              "      <td>Pokemon Red/Pokemon Blue</td>\n",
              "      <td>GB</td>\n",
              "      <td>1996.0</td>\n",
              "      <td>Role-Playing</td>\n",
              "      <td>Nintendo</td>\n",
              "      <td>11.27</td>\n",
              "      <td>8.89</td>\n",
              "      <td>10.22</td>\n",
              "      <td>1.00</td>\n",
              "      <td>31.37</td>\n",
              "    </tr>\n",
              "    <tr>\n",
              "      <th>6</th>\n",
              "      <td>Tetris</td>\n",
              "      <td>GB</td>\n",
              "      <td>1989.0</td>\n",
              "      <td>Puzzle</td>\n",
              "      <td>Nintendo</td>\n",
              "      <td>23.20</td>\n",
              "      <td>2.26</td>\n",
              "      <td>4.22</td>\n",
              "      <td>0.58</td>\n",
              "      <td>30.26</td>\n",
              "    </tr>\n",
              "  </tbody>\n",
              "</table>\n",
              "</div>"
            ],
            "text/plain": [
              "                          Name Platform  ...  Other_Sales Global_Sales\n",
              "Rank                                     ...                          \n",
              "2            Super Mario Bros.      NES  ...         0.77        40.24\n",
              "3               Mario Kart Wii      Wii  ...         3.31        35.82\n",
              "4            Wii Sports Resort      Wii  ...         2.96        33.00\n",
              "5     Pokemon Red/Pokemon Blue       GB  ...         1.00        31.37\n",
              "6                       Tetris       GB  ...         0.58        30.26\n",
              "\n",
              "[5 rows x 10 columns]"
            ]
          },
          "metadata": {
            "tags": []
          },
          "execution_count": 11
        }
      ]
    },
    {
      "cell_type": "code",
      "metadata": {
        "id": "K4_n4wwDM-is",
        "colab": {
          "base_uri": "https://localhost:8080/",
          "height": 442
        },
        "outputId": "c273186c-04c4-42f0-bd70-36fbd5457c0c"
      },
      "source": [
        "#Lets look at the Platform column.\n",
        "data.Platform.value_counts()"
      ],
      "execution_count": null,
      "outputs": [
        {
          "output_type": "execute_result",
          "data": {
            "text/plain": [
              "PS2     162\n",
              "X360    130\n",
              "PS3     120\n",
              "PS       82\n",
              "Wii      73\n",
              "DS       67\n",
              "PS4      45\n",
              "NES      34\n",
              "PC       34\n",
              "GB       32\n",
              "N64      29\n",
              "3DS      29\n",
              "GBA      28\n",
              "SNES     26\n",
              "PSP      21\n",
              "XOne     21\n",
              "GC       15\n",
              "XB       14\n",
              "WiiU     10\n",
              "2600      7\n",
              "GEN       7\n",
              "DC        2\n",
              "PSV       1\n",
              "SAT       1\n",
              "Name: Platform, dtype: int64"
            ]
          },
          "metadata": {
            "tags": []
          },
          "execution_count": 12
        }
      ]
    },
    {
      "cell_type": "markdown",
      "metadata": {
        "id": "cb6x96BlNGeG"
      },
      "source": [
        "As we can see there are alot of different platforms the games has been distributed to. It could be where  Therefore we have created the other dataset called cc, which categorizes the platforms into 5 categories:\n",
        "* Playstation\n",
        "* Nintendo\n",
        "* Xbox\n",
        "* PC\n",
        "* Other"
      ]
    },
    {
      "cell_type": "code",
      "metadata": {
        "id": "eAxZUyKZOFrx"
      },
      "source": [
        "#Lets merge the PlatformCategory onto the dataset\n",
        "data = pd.merge(data,cc,how='left',on='Platform')"
      ],
      "execution_count": null,
      "outputs": []
    },
    {
      "cell_type": "code",
      "metadata": {
        "id": "drBdcGNJPd0o",
        "colab": {
          "base_uri": "https://localhost:8080/",
          "height": 221
        },
        "outputId": "440824f8-b072-42c3-f62d-f20308f87e59"
      },
      "source": [
        "#We should see that the Console category has been added to the dataset.\n",
        "data.head()"
      ],
      "execution_count": null,
      "outputs": [
        {
          "output_type": "execute_result",
          "data": {
            "text/html": [
              "<div>\n",
              "<style scoped>\n",
              "    .dataframe tbody tr th:only-of-type {\n",
              "        vertical-align: middle;\n",
              "    }\n",
              "\n",
              "    .dataframe tbody tr th {\n",
              "        vertical-align: top;\n",
              "    }\n",
              "\n",
              "    .dataframe thead th {\n",
              "        text-align: right;\n",
              "    }\n",
              "</style>\n",
              "<table border=\"1\" class=\"dataframe\">\n",
              "  <thead>\n",
              "    <tr style=\"text-align: right;\">\n",
              "      <th></th>\n",
              "      <th>Name</th>\n",
              "      <th>Platform</th>\n",
              "      <th>Year</th>\n",
              "      <th>Genre</th>\n",
              "      <th>Publisher</th>\n",
              "      <th>NA_Sales</th>\n",
              "      <th>EU_Sales</th>\n",
              "      <th>JP_Sales</th>\n",
              "      <th>Other_Sales</th>\n",
              "      <th>Global_Sales</th>\n",
              "      <th>ConsoleCategory</th>\n",
              "    </tr>\n",
              "  </thead>\n",
              "  <tbody>\n",
              "    <tr>\n",
              "      <th>0</th>\n",
              "      <td>Super Mario Bros.</td>\n",
              "      <td>NES</td>\n",
              "      <td>1985.0</td>\n",
              "      <td>Platform</td>\n",
              "      <td>Nintendo</td>\n",
              "      <td>29.08</td>\n",
              "      <td>3.58</td>\n",
              "      <td>6.81</td>\n",
              "      <td>0.77</td>\n",
              "      <td>40.24</td>\n",
              "      <td>Nintendo</td>\n",
              "    </tr>\n",
              "    <tr>\n",
              "      <th>1</th>\n",
              "      <td>Mario Kart Wii</td>\n",
              "      <td>Wii</td>\n",
              "      <td>2008.0</td>\n",
              "      <td>Racing</td>\n",
              "      <td>Nintendo</td>\n",
              "      <td>15.85</td>\n",
              "      <td>12.88</td>\n",
              "      <td>3.79</td>\n",
              "      <td>3.31</td>\n",
              "      <td>35.82</td>\n",
              "      <td>Nintendo</td>\n",
              "    </tr>\n",
              "    <tr>\n",
              "      <th>2</th>\n",
              "      <td>Wii Sports Resort</td>\n",
              "      <td>Wii</td>\n",
              "      <td>2009.0</td>\n",
              "      <td>Sports</td>\n",
              "      <td>Nintendo</td>\n",
              "      <td>15.75</td>\n",
              "      <td>11.01</td>\n",
              "      <td>3.28</td>\n",
              "      <td>2.96</td>\n",
              "      <td>33.00</td>\n",
              "      <td>Nintendo</td>\n",
              "    </tr>\n",
              "    <tr>\n",
              "      <th>3</th>\n",
              "      <td>Pokemon Red/Pokemon Blue</td>\n",
              "      <td>GB</td>\n",
              "      <td>1996.0</td>\n",
              "      <td>Role-Playing</td>\n",
              "      <td>Nintendo</td>\n",
              "      <td>11.27</td>\n",
              "      <td>8.89</td>\n",
              "      <td>10.22</td>\n",
              "      <td>1.00</td>\n",
              "      <td>31.37</td>\n",
              "      <td>Nintendo</td>\n",
              "    </tr>\n",
              "    <tr>\n",
              "      <th>4</th>\n",
              "      <td>Tetris</td>\n",
              "      <td>GB</td>\n",
              "      <td>1989.0</td>\n",
              "      <td>Puzzle</td>\n",
              "      <td>Nintendo</td>\n",
              "      <td>23.20</td>\n",
              "      <td>2.26</td>\n",
              "      <td>4.22</td>\n",
              "      <td>0.58</td>\n",
              "      <td>30.26</td>\n",
              "      <td>Nintendo</td>\n",
              "    </tr>\n",
              "  </tbody>\n",
              "</table>\n",
              "</div>"
            ],
            "text/plain": [
              "                       Name Platform  ...  Global_Sales ConsoleCategory\n",
              "0         Super Mario Bros.      NES  ...         40.24        Nintendo\n",
              "1            Mario Kart Wii      Wii  ...         35.82        Nintendo\n",
              "2         Wii Sports Resort      Wii  ...         33.00        Nintendo\n",
              "3  Pokemon Red/Pokemon Blue       GB  ...         31.37        Nintendo\n",
              "4                    Tetris       GB  ...         30.26        Nintendo\n",
              "\n",
              "[5 rows x 11 columns]"
            ]
          },
          "metadata": {
            "tags": []
          },
          "execution_count": 14
        }
      ]
    },
    {
      "cell_type": "markdown",
      "metadata": {
        "id": "by54AItRbrO9"
      },
      "source": [
        "Now lets start to get some insights into the dataset. First, lets see the distribution of the Platform, as well as the Genre. "
      ]
    },
    {
      "cell_type": "code",
      "metadata": {
        "id": "2bagNGmu4xU4",
        "colab": {
          "base_uri": "https://localhost:8080/",
          "height": 502
        },
        "outputId": "1e39ee16-c330-4453-fcd1-f85923ae384e"
      },
      "source": [
        "data.ConsoleCategory.value_counts(normalize=True).plot(kind='barh')"
      ],
      "execution_count": null,
      "outputs": [
        {
          "output_type": "execute_result",
          "data": {
            "text/plain": [
              "<matplotlib.axes._subplots.AxesSubplot at 0x7efeb4853208>"
            ]
          },
          "metadata": {
            "tags": []
          },
          "execution_count": 15
        },
        {
          "output_type": "display_data",
          "data": {
            "image/png": "[encoded data removed]",
            "text/plain": [
              "<Figure size 576x576 with 1 Axes>"
            ]
          },
          "metadata": {
            "tags": []
          }
        }
      ]
    },
    {
      "cell_type": "code",
      "metadata": {
        "id": "ymqcAyPy7NUN",
        "colab": {
          "base_uri": "https://localhost:8080/",
          "height": 502
        },
        "outputId": "54f1efd8-5ec6-41ba-849a-e5604f7b852b"
      },
      "source": [
        "data.Genre.value_counts(normalize=True).plot(kind='barh')"
      ],
      "execution_count": null,
      "outputs": [
        {
          "output_type": "execute_result",
          "data": {
            "text/plain": [
              "<matplotlib.axes._subplots.AxesSubplot at 0x7efeb435f7f0>"
            ]
          },
          "metadata": {
            "tags": []
          },
          "execution_count": 16
        },
        {
          "output_type": "display_data",
          "data": {
            "image/png": "[encoded data removed]",
            "text/plain": [
              "<Figure size 576x576 with 1 Axes>"
            ]
          },
          "metadata": {
            "tags": []
          }
        }
      ]
    },
    {
      "cell_type": "markdown",
      "metadata": {
        "id": "da0UosegcAyO"
      },
      "source": [
        "So in the top 1000, most games are distributed to the Playstation, and most often the Genre is Action. Theoretically we should see that Action games make up most of the games for Playstation. "
      ]
    },
    {
      "cell_type": "code",
      "metadata": {
        "id": "L2gl0E7SRTXS",
        "colab": {
          "base_uri": "https://localhost:8080/",
          "height": 452
        },
        "outputId": "8a1e838b-bc35-4ff2-8153-b1ad0c5d2c4d"
      },
      "source": [
        "#We're doing a crosstab to figure out how big a percentage of the games are split \n",
        "pd.crosstab(data.Genre, data.ConsoleCategory, normalize='columns', margins=True)"
      ],
      "execution_count": null,
      "outputs": [
        {
          "output_type": "execute_result",
          "data": {
            "text/html": [
              "<div>\n",
              "<style scoped>\n",
              "    .dataframe tbody tr th:only-of-type {\n",
              "        vertical-align: middle;\n",
              "    }\n",
              "\n",
              "    .dataframe tbody tr th {\n",
              "        vertical-align: top;\n",
              "    }\n",
              "\n",
              "    .dataframe thead th {\n",
              "        text-align: right;\n",
              "    }\n",
              "</style>\n",
              "<table border=\"1\" class=\"dataframe\">\n",
              "  <thead>\n",
              "    <tr style=\"text-align: right;\">\n",
              "      <th>ConsoleCategory</th>\n",
              "      <th>Computer</th>\n",
              "      <th>Nintendo</th>\n",
              "      <th>Other</th>\n",
              "      <th>Playstation</th>\n",
              "      <th>XBOX</th>\n",
              "      <th>All</th>\n",
              "    </tr>\n",
              "    <tr>\n",
              "      <th>Genre</th>\n",
              "      <th></th>\n",
              "      <th></th>\n",
              "      <th></th>\n",
              "      <th></th>\n",
              "      <th></th>\n",
              "      <th></th>\n",
              "    </tr>\n",
              "  </thead>\n",
              "  <tbody>\n",
              "    <tr>\n",
              "      <th>Action</th>\n",
              "      <td>0.058824</td>\n",
              "      <td>0.137026</td>\n",
              "      <td>0.176471</td>\n",
              "      <td>0.264501</td>\n",
              "      <td>0.224242</td>\n",
              "      <td>0.205051</td>\n",
              "    </tr>\n",
              "    <tr>\n",
              "      <th>Adventure</th>\n",
              "      <td>0.058824</td>\n",
              "      <td>0.020408</td>\n",
              "      <td>0.000000</td>\n",
              "      <td>0.016241</td>\n",
              "      <td>0.012121</td>\n",
              "      <td>0.018182</td>\n",
              "    </tr>\n",
              "    <tr>\n",
              "      <th>Fighting</th>\n",
              "      <td>0.000000</td>\n",
              "      <td>0.037901</td>\n",
              "      <td>0.117647</td>\n",
              "      <td>0.083527</td>\n",
              "      <td>0.030303</td>\n",
              "      <td>0.056566</td>\n",
              "    </tr>\n",
              "    <tr>\n",
              "      <th>Misc</th>\n",
              "      <td>0.088235</td>\n",
              "      <td>0.157434</td>\n",
              "      <td>0.000000</td>\n",
              "      <td>0.048724</td>\n",
              "      <td>0.066667</td>\n",
              "      <td>0.089899</td>\n",
              "    </tr>\n",
              "    <tr>\n",
              "      <th>Platform</th>\n",
              "      <td>0.000000</td>\n",
              "      <td>0.195335</td>\n",
              "      <td>0.352941</td>\n",
              "      <td>0.069606</td>\n",
              "      <td>0.000000</td>\n",
              "      <td>0.104040</td>\n",
              "    </tr>\n",
              "    <tr>\n",
              "      <th>Puzzle</th>\n",
              "      <td>0.000000</td>\n",
              "      <td>0.058309</td>\n",
              "      <td>0.058824</td>\n",
              "      <td>0.004640</td>\n",
              "      <td>0.000000</td>\n",
              "      <td>0.023232</td>\n",
              "    </tr>\n",
              "    <tr>\n",
              "      <th>Racing</th>\n",
              "      <td>0.000000</td>\n",
              "      <td>0.046647</td>\n",
              "      <td>0.058824</td>\n",
              "      <td>0.109049</td>\n",
              "      <td>0.078788</td>\n",
              "      <td>0.077778</td>\n",
              "    </tr>\n",
              "    <tr>\n",
              "      <th>Role-Playing</th>\n",
              "      <td>0.205882</td>\n",
              "      <td>0.157434</td>\n",
              "      <td>0.000000</td>\n",
              "      <td>0.078886</td>\n",
              "      <td>0.096970</td>\n",
              "      <td>0.112121</td>\n",
              "    </tr>\n",
              "    <tr>\n",
              "      <th>Shooter</th>\n",
              "      <td>0.147059</td>\n",
              "      <td>0.026239</td>\n",
              "      <td>0.176471</td>\n",
              "      <td>0.136891</td>\n",
              "      <td>0.309091</td>\n",
              "      <td>0.128283</td>\n",
              "    </tr>\n",
              "    <tr>\n",
              "      <th>Simulation</th>\n",
              "      <td>0.264706</td>\n",
              "      <td>0.064140</td>\n",
              "      <td>0.000000</td>\n",
              "      <td>0.020882</td>\n",
              "      <td>0.006061</td>\n",
              "      <td>0.041414</td>\n",
              "    </tr>\n",
              "    <tr>\n",
              "      <th>Sports</th>\n",
              "      <td>0.000000</td>\n",
              "      <td>0.087464</td>\n",
              "      <td>0.058824</td>\n",
              "      <td>0.164733</td>\n",
              "      <td>0.169697</td>\n",
              "      <td>0.131313</td>\n",
              "    </tr>\n",
              "    <tr>\n",
              "      <th>Strategy</th>\n",
              "      <td>0.176471</td>\n",
              "      <td>0.011662</td>\n",
              "      <td>0.000000</td>\n",
              "      <td>0.002320</td>\n",
              "      <td>0.006061</td>\n",
              "      <td>0.012121</td>\n",
              "    </tr>\n",
              "  </tbody>\n",
              "</table>\n",
              "</div>"
            ],
            "text/plain": [
              "ConsoleCategory  Computer  Nintendo     Other  Playstation      XBOX       All\n",
              "Genre                                                                         \n",
              "Action           0.058824  0.137026  0.176471     0.264501  0.224242  0.205051\n",
              "Adventure        0.058824  0.020408  0.000000     0.016241  0.012121  0.018182\n",
              "Fighting         0.000000  0.037901  0.117647     0.083527  0.030303  0.056566\n",
              "Misc             0.088235  0.157434  0.000000     0.048724  0.066667  0.089899\n",
              "Platform         0.000000  0.195335  0.352941     0.069606  0.000000  0.104040\n",
              "Puzzle           0.000000  0.058309  0.058824     0.004640  0.000000  0.023232\n",
              "Racing           0.000000  0.046647  0.058824     0.109049  0.078788  0.077778\n",
              "Role-Playing     0.205882  0.157434  0.000000     0.078886  0.096970  0.112121\n",
              "Shooter          0.147059  0.026239  0.176471     0.136891  0.309091  0.128283\n",
              "Simulation       0.264706  0.064140  0.000000     0.020882  0.006061  0.041414\n",
              "Sports           0.000000  0.087464  0.058824     0.164733  0.169697  0.131313\n",
              "Strategy         0.176471  0.011662  0.000000     0.002320  0.006061  0.012121"
            ]
          },
          "metadata": {
            "tags": []
          },
          "execution_count": 18
        }
      ]
    },
    {
      "cell_type": "markdown",
      "metadata": {
        "id": "oj8hTJU0eBsB"
      },
      "source": [
        "We see from this that 26% of all Playstation games are Action games, while the next highest percentage is sports games at 16%. So by a fair margin, most of the Playstation games are Action games as well. We can also reverse this and normalize it by columns, to see how many of the action games are distributed to Playstation. \n"
      ]
    },
    {
      "cell_type": "code",
      "metadata": {
        "id": "V_YdWKHGfqev",
        "colab": {
          "base_uri": "https://localhost:8080/",
          "height": 235
        },
        "outputId": "67b81a28-18e8-4331-d1de-89fd4adbd282"
      },
      "source": [
        "pd.crosstab(data.ConsoleCategory,data.Genre, normalize='columns', margins=True)"
      ],
      "execution_count": null,
      "outputs": [
        {
          "output_type": "execute_result",
          "data": {
            "text/html": [
              "<div>\n",
              "<style scoped>\n",
              "    .dataframe tbody tr th:only-of-type {\n",
              "        vertical-align: middle;\n",
              "    }\n",
              "\n",
              "    .dataframe tbody tr th {\n",
              "        vertical-align: top;\n",
              "    }\n",
              "\n",
              "    .dataframe thead th {\n",
              "        text-align: right;\n",
              "    }\n",
              "</style>\n",
              "<table border=\"1\" class=\"dataframe\">\n",
              "  <thead>\n",
              "    <tr style=\"text-align: right;\">\n",
              "      <th>Genre</th>\n",
              "      <th>Action</th>\n",
              "      <th>Adventure</th>\n",
              "      <th>Fighting</th>\n",
              "      <th>Misc</th>\n",
              "      <th>Platform</th>\n",
              "      <th>Puzzle</th>\n",
              "      <th>Racing</th>\n",
              "      <th>Role-Playing</th>\n",
              "      <th>Shooter</th>\n",
              "      <th>Simulation</th>\n",
              "      <th>Sports</th>\n",
              "      <th>Strategy</th>\n",
              "      <th>All</th>\n",
              "    </tr>\n",
              "    <tr>\n",
              "      <th>ConsoleCategory</th>\n",
              "      <th></th>\n",
              "      <th></th>\n",
              "      <th></th>\n",
              "      <th></th>\n",
              "      <th></th>\n",
              "      <th></th>\n",
              "      <th></th>\n",
              "      <th></th>\n",
              "      <th></th>\n",
              "      <th></th>\n",
              "      <th></th>\n",
              "      <th></th>\n",
              "      <th></th>\n",
              "    </tr>\n",
              "  </thead>\n",
              "  <tbody>\n",
              "    <tr>\n",
              "      <th>Computer</th>\n",
              "      <td>0.009852</td>\n",
              "      <td>0.111111</td>\n",
              "      <td>0.000000</td>\n",
              "      <td>0.033708</td>\n",
              "      <td>0.000000</td>\n",
              "      <td>0.000000</td>\n",
              "      <td>0.000000</td>\n",
              "      <td>0.063063</td>\n",
              "      <td>0.039370</td>\n",
              "      <td>0.219512</td>\n",
              "      <td>0.000000</td>\n",
              "      <td>0.500000</td>\n",
              "      <td>0.034343</td>\n",
              "    </tr>\n",
              "    <tr>\n",
              "      <th>Nintendo</th>\n",
              "      <td>0.231527</td>\n",
              "      <td>0.388889</td>\n",
              "      <td>0.232143</td>\n",
              "      <td>0.606742</td>\n",
              "      <td>0.650485</td>\n",
              "      <td>0.869565</td>\n",
              "      <td>0.207792</td>\n",
              "      <td>0.486486</td>\n",
              "      <td>0.070866</td>\n",
              "      <td>0.536585</td>\n",
              "      <td>0.230769</td>\n",
              "      <td>0.333333</td>\n",
              "      <td>0.346465</td>\n",
              "    </tr>\n",
              "    <tr>\n",
              "      <th>Other</th>\n",
              "      <td>0.014778</td>\n",
              "      <td>0.000000</td>\n",
              "      <td>0.035714</td>\n",
              "      <td>0.000000</td>\n",
              "      <td>0.058252</td>\n",
              "      <td>0.043478</td>\n",
              "      <td>0.012987</td>\n",
              "      <td>0.000000</td>\n",
              "      <td>0.023622</td>\n",
              "      <td>0.000000</td>\n",
              "      <td>0.007692</td>\n",
              "      <td>0.000000</td>\n",
              "      <td>0.017172</td>\n",
              "    </tr>\n",
              "    <tr>\n",
              "      <th>Playstation</th>\n",
              "      <td>0.561576</td>\n",
              "      <td>0.388889</td>\n",
              "      <td>0.642857</td>\n",
              "      <td>0.235955</td>\n",
              "      <td>0.291262</td>\n",
              "      <td>0.086957</td>\n",
              "      <td>0.610390</td>\n",
              "      <td>0.306306</td>\n",
              "      <td>0.464567</td>\n",
              "      <td>0.219512</td>\n",
              "      <td>0.546154</td>\n",
              "      <td>0.083333</td>\n",
              "      <td>0.435354</td>\n",
              "    </tr>\n",
              "    <tr>\n",
              "      <th>XBOX</th>\n",
              "      <td>0.182266</td>\n",
              "      <td>0.111111</td>\n",
              "      <td>0.089286</td>\n",
              "      <td>0.123596</td>\n",
              "      <td>0.000000</td>\n",
              "      <td>0.000000</td>\n",
              "      <td>0.168831</td>\n",
              "      <td>0.144144</td>\n",
              "      <td>0.401575</td>\n",
              "      <td>0.024390</td>\n",
              "      <td>0.215385</td>\n",
              "      <td>0.083333</td>\n",
              "      <td>0.166667</td>\n",
              "    </tr>\n",
              "  </tbody>\n",
              "</table>\n",
              "</div>"
            ],
            "text/plain": [
              "Genre              Action  Adventure  Fighting  ...    Sports  Strategy       All\n",
              "ConsoleCategory                                 ...                              \n",
              "Computer         0.009852   0.111111  0.000000  ...  0.000000  0.500000  0.034343\n",
              "Nintendo         0.231527   0.388889  0.232143  ...  0.230769  0.333333  0.346465\n",
              "Other            0.014778   0.000000  0.035714  ...  0.007692  0.000000  0.017172\n",
              "Playstation      0.561576   0.388889  0.642857  ...  0.546154  0.083333  0.435354\n",
              "XBOX             0.182266   0.111111  0.089286  ...  0.215385  0.083333  0.166667\n",
              "\n",
              "[5 rows x 13 columns]"
            ]
          },
          "metadata": {
            "tags": []
          },
          "execution_count": 18
        }
      ]
    },
    {
      "cell_type": "markdown",
      "metadata": {
        "id": "MKicTJVbftwf"
      },
      "source": [
        "We can see that 56% of all action games published, are published to Playstation. Now lets have a look how the different Platforms performs across the different sales regions. "
      ]
    },
    {
      "cell_type": "code",
      "metadata": {
        "id": "nK9r0UjyIC-A",
        "colab": {
          "base_uri": "https://localhost:8080/",
          "height": 235
        },
        "outputId": "033b581d-acaf-47d1-fbfe-7dc66fe9da41"
      },
      "source": [
        "#Grouping the columns by their platform to each Sales column. \n",
        "data.groupby(data['ConsoleCategory'])[['NA_Sales', 'EU_Sales', 'JP_Sales', 'Other_Sales','Global_Sales']].sum().sort_values(by='Global_Sales',ascending=False)"
      ],
      "execution_count": null,
      "outputs": [
        {
          "output_type": "execute_result",
          "data": {
            "text/html": [
              "<div>\n",
              "<style scoped>\n",
              "    .dataframe tbody tr th:only-of-type {\n",
              "        vertical-align: middle;\n",
              "    }\n",
              "\n",
              "    .dataframe tbody tr th {\n",
              "        vertical-align: top;\n",
              "    }\n",
              "\n",
              "    .dataframe thead th {\n",
              "        text-align: right;\n",
              "    }\n",
              "</style>\n",
              "<table border=\"1\" class=\"dataframe\">\n",
              "  <thead>\n",
              "    <tr style=\"text-align: right;\">\n",
              "      <th></th>\n",
              "      <th>NA_Sales</th>\n",
              "      <th>EU_Sales</th>\n",
              "      <th>JP_Sales</th>\n",
              "      <th>Other_Sales</th>\n",
              "      <th>Global_Sales</th>\n",
              "    </tr>\n",
              "    <tr>\n",
              "      <th>ConsoleCategory</th>\n",
              "      <th></th>\n",
              "      <th></th>\n",
              "      <th></th>\n",
              "      <th></th>\n",
              "      <th></th>\n",
              "    </tr>\n",
              "  </thead>\n",
              "  <tbody>\n",
              "    <tr>\n",
              "      <th>Nintendo</th>\n",
              "      <td>825.78</td>\n",
              "      <td>438.77</td>\n",
              "      <td>404.36</td>\n",
              "      <td>101.95</td>\n",
              "      <td>1770.76</td>\n",
              "    </tr>\n",
              "    <tr>\n",
              "      <th>Playstation</th>\n",
              "      <td>687.78</td>\n",
              "      <td>546.27</td>\n",
              "      <td>134.74</td>\n",
              "      <td>225.52</td>\n",
              "      <td>1594.18</td>\n",
              "    </tr>\n",
              "    <tr>\n",
              "      <th>XBOX</th>\n",
              "      <td>409.51</td>\n",
              "      <td>183.78</td>\n",
              "      <td>5.05</td>\n",
              "      <td>54.81</td>\n",
              "      <td>653.26</td>\n",
              "    </tr>\n",
              "    <tr>\n",
              "      <th>Computer</th>\n",
              "      <td>54.29</td>\n",
              "      <td>47.17</td>\n",
              "      <td>0.17</td>\n",
              "      <td>6.22</td>\n",
              "      <td>107.84</td>\n",
              "    </tr>\n",
              "    <tr>\n",
              "      <th>Other</th>\n",
              "      <td>41.96</td>\n",
              "      <td>7.29</td>\n",
              "      <td>2.64</td>\n",
              "      <td>1.19</td>\n",
              "      <td>53.11</td>\n",
              "    </tr>\n",
              "  </tbody>\n",
              "</table>\n",
              "</div>"
            ],
            "text/plain": [
              "                 NA_Sales  EU_Sales  JP_Sales  Other_Sales  Global_Sales\n",
              "ConsoleCategory                                                         \n",
              "Nintendo           825.78    438.77    404.36       101.95       1770.76\n",
              "Playstation        687.78    546.27    134.74       225.52       1594.18\n",
              "XBOX               409.51    183.78      5.05        54.81        653.26\n",
              "Computer            54.29     47.17      0.17         6.22        107.84\n",
              "Other               41.96      7.29      2.64         1.19         53.11"
            ]
          },
          "metadata": {
            "tags": []
          },
          "execution_count": 19
        }
      ]
    },
    {
      "cell_type": "markdown",
      "metadata": {
        "id": "iHLjJGG-NKJm"
      },
      "source": [
        "We have now gained the minor insight to let us know that Nintendo has sold the most copies globally, but is mainly a market leader in Japan and NA, where as Playstation is the leader in EU and Other. The distinction could be made that as most 3rd world countries are placed in the Other category, having a bigger marketshare here, would be more beneficial, when the 3rd world countries starts to develop more and more."
      ]
    },
    {
      "cell_type": "code",
      "metadata": {
        "id": "n1JxPLy3Ol4a",
        "colab": {
          "base_uri": "https://localhost:8080/",
          "height": 452
        },
        "outputId": "556ba2dc-5541-4b04-beda-4e97eed22fe0"
      },
      "source": [
        "data.groupby(data['Genre'])[['NA_Sales', 'EU_Sales', 'JP_Sales', 'Other_Sales','Global_Sales']].sum().sort_values(by='Global_Sales',ascending=False)"
      ],
      "execution_count": null,
      "outputs": [
        {
          "output_type": "execute_result",
          "data": {
            "text/html": [
              "<div>\n",
              "<style scoped>\n",
              "    .dataframe tbody tr th:only-of-type {\n",
              "        vertical-align: middle;\n",
              "    }\n",
              "\n",
              "    .dataframe tbody tr th {\n",
              "        vertical-align: top;\n",
              "    }\n",
              "\n",
              "    .dataframe thead th {\n",
              "        text-align: right;\n",
              "    }\n",
              "</style>\n",
              "<table border=\"1\" class=\"dataframe\">\n",
              "  <thead>\n",
              "    <tr style=\"text-align: right;\">\n",
              "      <th></th>\n",
              "      <th>NA_Sales</th>\n",
              "      <th>EU_Sales</th>\n",
              "      <th>JP_Sales</th>\n",
              "      <th>Other_Sales</th>\n",
              "      <th>Global_Sales</th>\n",
              "    </tr>\n",
              "    <tr>\n",
              "      <th>Genre</th>\n",
              "      <th></th>\n",
              "      <th></th>\n",
              "      <th></th>\n",
              "      <th></th>\n",
              "      <th></th>\n",
              "    </tr>\n",
              "  </thead>\n",
              "  <tbody>\n",
              "    <tr>\n",
              "      <th>Action</th>\n",
              "      <td>373.89</td>\n",
              "      <td>255.15</td>\n",
              "      <td>55.20</td>\n",
              "      <td>93.71</td>\n",
              "      <td>777.95</td>\n",
              "    </tr>\n",
              "    <tr>\n",
              "      <th>Shooter</th>\n",
              "      <td>347.23</td>\n",
              "      <td>179.94</td>\n",
              "      <td>14.09</td>\n",
              "      <td>60.75</td>\n",
              "      <td>602.01</td>\n",
              "    </tr>\n",
              "    <tr>\n",
              "      <th>Platform</th>\n",
              "      <td>285.24</td>\n",
              "      <td>127.19</td>\n",
              "      <td>92.10</td>\n",
              "      <td>30.58</td>\n",
              "      <td>535.11</td>\n",
              "    </tr>\n",
              "    <tr>\n",
              "      <th>Role-Playing</th>\n",
              "      <td>191.42</td>\n",
              "      <td>117.70</td>\n",
              "      <td>173.57</td>\n",
              "      <td>32.08</td>\n",
              "      <td>514.80</td>\n",
              "    </tr>\n",
              "    <tr>\n",
              "      <th>Sports</th>\n",
              "      <td>211.66</td>\n",
              "      <td>156.40</td>\n",
              "      <td>46.22</td>\n",
              "      <td>58.83</td>\n",
              "      <td>473.10</td>\n",
              "    </tr>\n",
              "    <tr>\n",
              "      <th>Misc</th>\n",
              "      <td>181.29</td>\n",
              "      <td>110.31</td>\n",
              "      <td>42.65</td>\n",
              "      <td>33.54</td>\n",
              "      <td>367.70</td>\n",
              "    </tr>\n",
              "    <tr>\n",
              "      <th>Racing</th>\n",
              "      <td>158.31</td>\n",
              "      <td>115.97</td>\n",
              "      <td>37.23</td>\n",
              "      <td>40.28</td>\n",
              "      <td>351.72</td>\n",
              "    </tr>\n",
              "    <tr>\n",
              "      <th>Fighting</th>\n",
              "      <td>94.83</td>\n",
              "      <td>43.44</td>\n",
              "      <td>29.20</td>\n",
              "      <td>15.28</td>\n",
              "      <td>182.79</td>\n",
              "    </tr>\n",
              "    <tr>\n",
              "      <th>Simulation</th>\n",
              "      <td>65.54</td>\n",
              "      <td>58.97</td>\n",
              "      <td>22.57</td>\n",
              "      <td>12.29</td>\n",
              "      <td>159.39</td>\n",
              "    </tr>\n",
              "    <tr>\n",
              "      <th>Puzzle</th>\n",
              "      <td>59.32</td>\n",
              "      <td>25.91</td>\n",
              "      <td>23.14</td>\n",
              "      <td>5.72</td>\n",
              "      <td>114.10</td>\n",
              "    </tr>\n",
              "    <tr>\n",
              "      <th>Adventure</th>\n",
              "      <td>28.08</td>\n",
              "      <td>20.39</td>\n",
              "      <td>7.50</td>\n",
              "      <td>4.50</td>\n",
              "      <td>60.44</td>\n",
              "    </tr>\n",
              "    <tr>\n",
              "      <th>Strategy</th>\n",
              "      <td>22.51</td>\n",
              "      <td>11.91</td>\n",
              "      <td>3.49</td>\n",
              "      <td>2.13</td>\n",
              "      <td>40.04</td>\n",
              "    </tr>\n",
              "  </tbody>\n",
              "</table>\n",
              "</div>"
            ],
            "text/plain": [
              "              NA_Sales  EU_Sales  JP_Sales  Other_Sales  Global_Sales\n",
              "Genre                                                                \n",
              "Action          373.89    255.15     55.20        93.71        777.95\n",
              "Shooter         347.23    179.94     14.09        60.75        602.01\n",
              "Platform        285.24    127.19     92.10        30.58        535.11\n",
              "Role-Playing    191.42    117.70    173.57        32.08        514.80\n",
              "Sports          211.66    156.40     46.22        58.83        473.10\n",
              "Misc            181.29    110.31     42.65        33.54        367.70\n",
              "Racing          158.31    115.97     37.23        40.28        351.72\n",
              "Fighting         94.83     43.44     29.20        15.28        182.79\n",
              "Simulation       65.54     58.97     22.57        12.29        159.39\n",
              "Puzzle           59.32     25.91     23.14         5.72        114.10\n",
              "Adventure        28.08     20.39      7.50         4.50         60.44\n",
              "Strategy         22.51     11.91      3.49         2.13         40.04"
            ]
          },
          "metadata": {
            "tags": []
          },
          "execution_count": 20
        }
      ]
    },
    {
      "cell_type": "markdown",
      "metadata": {
        "id": "YIo3obxqPOkI"
      },
      "source": [
        "Unsurprinsingly, Action games has also sold the highest amount of copies. Worth noting is though, that Action games seem to be doing a lot worse in Japan than in any other region, while Role-Playing is similar a lot more popular in the Region. I'm not going to make any conclussions about that - keep your prejudice for yourself :-)"
      ]
    },
    {
      "cell_type": "markdown",
      "metadata": {
        "id": "TooOGI9SYDI5"
      },
      "source": [
        "The last thing we could be interested in is seeing how the sales has evolved over the years. In this instance we have choosen to split up the sales columns by the Regions in one plot, and the Global Sales in its own plot. This has been done, because the Global Sales line could be mistaken for a region in itself, when it is in theory a total-column. "
      ]
    },
    {
      "cell_type": "code",
      "metadata": {
        "id": "TwMPOTfsW-w1",
        "colab": {
          "base_uri": "https://localhost:8080/",
          "height": 356
        },
        "outputId": "385214aa-90c0-4220-d37b-a36c2fb539b9"
      },
      "source": [
        "data.groupby(data['Year'])[['NA_Sales', 'EU_Sales', 'JP_Sales', 'Other_Sales']].sum().plot(figsize=(5,5))"
      ],
      "execution_count": null,
      "outputs": [
        {
          "output_type": "execute_result",
          "data": {
            "text/plain": [
              "<matplotlib.axes._subplots.AxesSubplot at 0x7f1aa44bfc88>"
            ]
          },
          "metadata": {
            "tags": []
          },
          "execution_count": 21
        },
        {
          "output_type": "display_data",
          "data": {
            "image/png": "[encoded data removed]",
            "text/plain": [
              "<Figure size 360x360 with 1 Axes>"
            ]
          },
          "metadata": {
            "tags": []
          }
        }
      ]
    },
    {
      "cell_type": "code",
      "metadata": {
        "id": "DMePrYNOYH1R",
        "colab": {
          "base_uri": "https://localhost:8080/",
          "height": 356
        },
        "outputId": "d404b78e-92ee-4756-d4b8-8fddcf05223b"
      },
      "source": [
        "data.groupby(data['Year'])[['Global_Sales']].sum().plot(figsize=(5,5))"
      ],
      "execution_count": null,
      "outputs": [
        {
          "output_type": "execute_result",
          "data": {
            "text/plain": [
              "<matplotlib.axes._subplots.AxesSubplot at 0x7f1aa448ee10>"
            ]
          },
          "metadata": {
            "tags": []
          },
          "execution_count": 22
        },
        {
          "output_type": "display_data",
          "data": {
            "image/png": "[encoded data removed]",
            "text/plain": [
              "<Figure size 360x360 with 1 Axes>"
            ]
          },
          "metadata": {
            "tags": []
          }
        }
      ]
    },
    {
      "cell_type": "markdown",
      "metadata": {
        "id": "GqIuNxkSY0D-"
      },
      "source": [
        "We can conclude that sales has been plummetting for every region in the recent years. This could look like the sales has been doing worse, but there could be several other explanations. It could be that the recent games haven't had the time to be distributed and therefore aren't at the previous years level yet. It could also be how the data is measured - like if downloads counted, or if it is only physical copies of a game.\n",
        "\n",
        "Knowledge about the market would tell you that the profit is not to be found in game-sales anymore, but within \"In-Game Purchases\" instead. This could mean that distributors doesn't care that much about their sales-numbers, as long as their profit is the same as always."
      ]
    },
    {
      "cell_type": "markdown",
      "metadata": {
        "id": "vtz72pMvDNC5"
      },
      "source": [
        "#Unsupervised Machine Learning"
      ]
    },
    {
      "cell_type": "markdown",
      "metadata": {
        "id": "WGUZASGnxH0s"
      },
      "source": [
        "First off, we want to search for patterns in the data, that we haven't already seen. To do this, we will use unsupervised machine learning to regocnize any patterns in the data. "
      ]
    },
    {
      "cell_type": "code",
      "metadata": {
        "id": "Xs2wgd_UAVar"
      },
      "source": [
        "# To do any kind of unsupervised machine leaning we only want the numerical values, so we take every column from NA_sales to Global_sales, both included.\n",
        "games_numeric = data.loc[:,\"NA_Sales\":\"Global_Sales\"]"
      ],
      "execution_count": null,
      "outputs": []
    },
    {
      "cell_type": "code",
      "metadata": {
        "id": "iUKB-HK_8bQJ",
        "colab": {
          "base_uri": "https://localhost:8080/",
          "height": 221
        },
        "outputId": "b1248536-7cf5-4e05-8c05-daa1eb90d030"
      },
      "source": [
        "# Now we've only got 5 columns.\n",
        "games_numeric.info()"
      ],
      "execution_count": null,
      "outputs": [
        {
          "output_type": "stream",
          "text": [
            "<class 'pandas.core.frame.DataFrame'>\n",
            "Int64Index: 990 entries, 0 to 989\n",
            "Data columns (total 5 columns):\n",
            " #   Column        Non-Null Count  Dtype  \n",
            "---  ------        --------------  -----  \n",
            " 0   NA_Sales      990 non-null    float64\n",
            " 1   EU_Sales      990 non-null    float64\n",
            " 2   JP_Sales      990 non-null    float64\n",
            " 3   Other_Sales   990 non-null    float64\n",
            " 4   Global_Sales  990 non-null    float64\n",
            "dtypes: float64(5)\n",
            "memory usage: 46.4 KB\n"
          ],
          "name": "stdout"
        }
      ]
    },
    {
      "cell_type": "code",
      "metadata": {
        "id": "LGNKQ8sY8h-I",
        "colab": {
          "base_uri": "https://localhost:8080/",
          "height": 119
        },
        "outputId": "0616e1e4-8ac4-4bca-d183-0e29309c245b"
      },
      "source": [
        "# Checking the mean of the 5 collumns. This is used as a reference to show how StandardScaler transform these later.\n",
        "games_numeric.mean()"
      ],
      "execution_count": null,
      "outputs": [
        {
          "output_type": "execute_result",
          "data": {
            "text/plain": [
              "NA_Sales        2.039717\n",
              "EU_Sales        1.235636\n",
              "JP_Sales        0.552485\n",
              "Other_Sales     0.393626\n",
              "Global_Sales    4.221364\n",
              "dtype: float64"
            ]
          },
          "metadata": {
            "tags": []
          },
          "execution_count": 25
        }
      ]
    },
    {
      "cell_type": "code",
      "metadata": {
        "id": "xiEK4MS480kC",
        "colab": {
          "base_uri": "https://localhost:8080/",
          "height": 119
        },
        "outputId": "0cae93ee-b6ed-4f67-a056-455dc40ae9e9"
      },
      "source": [
        "# Same as before but with the variance\n",
        "games_numeric.var()"
      ],
      "execution_count": null,
      "outputs": [
        {
          "output_type": "execute_result",
          "data": {
            "text/plain": [
              "NA_Sales         5.334645\n",
              "EU_Sales         1.875929\n",
              "JP_Sales         1.075477\n",
              "Other_Sales      0.352529\n",
              "Global_Sales    17.166730\n",
              "dtype: float64"
            ]
          },
          "metadata": {
            "tags": []
          },
          "execution_count": 26
        }
      ]
    },
    {
      "cell_type": "markdown",
      "metadata": {
        "id": "pEjH8SIty5eq"
      },
      "source": [
        "We need to import the StandardScaler. This needs to be done because the numeric values that are used in the Machine Learning doesn't operate within the same scale. Therefore StandardScaler recalculates the values of each variable, for easier calculations and comparisons. "
      ]
    },
    {
      "cell_type": "code",
      "metadata": {
        "id": "BW_iIG0U85A2"
      },
      "source": [
        "from sklearn.preprocessing import StandardScaler"
      ],
      "execution_count": null,
      "outputs": []
    },
    {
      "cell_type": "code",
      "metadata": {
        "id": "Gato6M-Y9nYn"
      },
      "source": [
        "scaler = StandardScaler()"
      ],
      "execution_count": null,
      "outputs": []
    },
    {
      "cell_type": "code",
      "metadata": {
        "id": "KrfD93Z_9sx0"
      },
      "source": [
        "# Using the StandardScaler to transform the numeric numbers. After the transformation every column has a mean of 0 and a variance of 1.\n",
        "# All the values are changed but they are still the same relative to eachother, so we have the same information just in a different scale.\n",
        "games_scaled = scaler.fit_transform(games_numeric)"
      ],
      "execution_count": null,
      "outputs": []
    },
    {
      "cell_type": "code",
      "metadata": {
        "id": "VxBPE1Qc9_lH",
        "colab": {
          "base_uri": "https://localhost:8080/",
          "height": 34
        },
        "outputId": "4f5fa7a3-d74f-4398-a46d-da71bd1b0b37"
      },
      "source": [
        "# Got a very small number so we used round to show that it's effectivly 0\n",
        "round(games_scaled.mean())"
      ],
      "execution_count": null,
      "outputs": [
        {
          "output_type": "execute_result",
          "data": {
            "text/plain": [
              "0.0"
            ]
          },
          "metadata": {
            "tags": []
          },
          "execution_count": 30
        }
      ]
    },
    {
      "cell_type": "code",
      "metadata": {
        "id": "BzIeWtz4-bNr",
        "colab": {
          "base_uri": "https://localhost:8080/",
          "height": 34
        },
        "outputId": "4b68e76e-44de-4bc5-90e6-75f7d13bfa4a"
      },
      "source": [
        "# The varaiance is 1 after the StandardScaler\n",
        "games_scaled.var()"
      ],
      "execution_count": null,
      "outputs": [
        {
          "output_type": "execute_result",
          "data": {
            "text/plain": [
              "1.0"
            ]
          },
          "metadata": {
            "tags": []
          },
          "execution_count": 31
        }
      ]
    },
    {
      "cell_type": "code",
      "metadata": {
        "id": "1wb-h0D5SsmD",
        "colab": {
          "base_uri": "https://localhost:8080/",
          "height": 297
        },
        "outputId": "1de28c61-db4c-4b59-c752-d63f040f10e3"
      },
      "source": [
        "# Different way of showing the mean and variance.\n",
        "pd.DataFrame(games_scaled).describe()"
      ],
      "execution_count": null,
      "outputs": [
        {
          "output_type": "execute_result",
          "data": {
            "text/html": [
              "<div>\n",
              "<style scoped>\n",
              "    .dataframe tbody tr th:only-of-type {\n",
              "        vertical-align: middle;\n",
              "    }\n",
              "\n",
              "    .dataframe tbody tr th {\n",
              "        vertical-align: top;\n",
              "    }\n",
              "\n",
              "    .dataframe thead th {\n",
              "        text-align: right;\n",
              "    }\n",
              "</style>\n",
              "<table border=\"1\" class=\"dataframe\">\n",
              "  <thead>\n",
              "    <tr style=\"text-align: right;\">\n",
              "      <th></th>\n",
              "      <th>0</th>\n",
              "      <th>1</th>\n",
              "      <th>2</th>\n",
              "      <th>3</th>\n",
              "      <th>4</th>\n",
              "    </tr>\n",
              "  </thead>\n",
              "  <tbody>\n",
              "    <tr>\n",
              "      <th>count</th>\n",
              "      <td>9.900000e+02</td>\n",
              "      <td>9.900000e+02</td>\n",
              "      <td>9.900000e+02</td>\n",
              "      <td>9.900000e+02</td>\n",
              "      <td>9.900000e+02</td>\n",
              "    </tr>\n",
              "    <tr>\n",
              "      <th>mean</th>\n",
              "      <td>-4.239033e-17</td>\n",
              "      <td>-2.723971e-16</td>\n",
              "      <td>7.403730e-16</td>\n",
              "      <td>7.233271e-18</td>\n",
              "      <td>8.164064e-17</td>\n",
              "    </tr>\n",
              "    <tr>\n",
              "      <th>std</th>\n",
              "      <td>1.000505e+00</td>\n",
              "      <td>1.000505e+00</td>\n",
              "      <td>1.000505e+00</td>\n",
              "      <td>1.000505e+00</td>\n",
              "      <td>1.000505e+00</td>\n",
              "    </tr>\n",
              "    <tr>\n",
              "      <th>min</th>\n",
              "      <td>-8.835612e-01</td>\n",
              "      <td>-9.026137e-01</td>\n",
              "      <td>-5.330149e-01</td>\n",
              "      <td>-6.632943e-01</td>\n",
              "      <td>-5.943625e-01</td>\n",
              "    </tr>\n",
              "    <tr>\n",
              "      <th>25%</th>\n",
              "      <td>-4.666271e-01</td>\n",
              "      <td>-5.446761e-01</td>\n",
              "      <td>-5.233673e-01</td>\n",
              "      <td>-4.442331e-01</td>\n",
              "      <td>-4.953570e-01</td>\n",
              "    </tr>\n",
              "    <tr>\n",
              "      <th>50%</th>\n",
              "      <td>-2.381255e-01</td>\n",
              "      <td>-2.378725e-01</td>\n",
              "      <td>-4.558342e-01</td>\n",
              "      <td>-2.588735e-01</td>\n",
              "      <td>-3.214936e-01</td>\n",
              "    </tr>\n",
              "    <tr>\n",
              "      <th>75%</th>\n",
              "      <td>8.242639e-02</td>\n",
              "      <td>1.711991e-01</td>\n",
              "      <td>1.302571e-01</td>\n",
              "      <td>7.814376e-02</td>\n",
              "      <td>4.072179e-02</td>\n",
              "    </tr>\n",
              "    <tr>\n",
              "      <th>max</th>\n",
              "      <td>1.171326e+01</td>\n",
              "      <td>8.506032e+00</td>\n",
              "      <td>9.326825e+00</td>\n",
              "      <td>1.714807e+01</td>\n",
              "      <td>8.697670e+00</td>\n",
              "    </tr>\n",
              "  </tbody>\n",
              "</table>\n",
              "</div>"
            ],
            "text/plain": [
              "                  0             1             2             3             4\n",
              "count  9.900000e+02  9.900000e+02  9.900000e+02  9.900000e+02  9.900000e+02\n",
              "mean  -4.239033e-17 -2.723971e-16  7.403730e-16  7.233271e-18  8.164064e-17\n",
              "std    1.000505e+00  1.000505e+00  1.000505e+00  1.000505e+00  1.000505e+00\n",
              "min   -8.835612e-01 -9.026137e-01 -5.330149e-01 -6.632943e-01 -5.943625e-01\n",
              "25%   -4.666271e-01 -5.446761e-01 -5.233673e-01 -4.442331e-01 -4.953570e-01\n",
              "50%   -2.381255e-01 -2.378725e-01 -4.558342e-01 -2.588735e-01 -3.214936e-01\n",
              "75%    8.242639e-02  1.711991e-01  1.302571e-01  7.814376e-02  4.072179e-02\n",
              "max    1.171326e+01  8.506032e+00  9.326825e+00  1.714807e+01  8.697670e+00"
            ]
          },
          "metadata": {
            "tags": []
          },
          "execution_count": 32
        }
      ]
    },
    {
      "cell_type": "code",
      "metadata": {
        "id": "CA2JC188EAS-"
      },
      "source": [
        "from sklearn.decomposition import PCA"
      ],
      "execution_count": null,
      "outputs": []
    },
    {
      "cell_type": "markdown",
      "metadata": {
        "id": "2wIBj1AXyGIr"
      },
      "source": [
        "To get better results from machine learning we use dimensional reduction. This mean that we transform all the numerical data into diffent variables. These variables is a combination of different data and are made by finding patterns in the data. Here we will use two of the most common unsupervised machine learning algorithms, to reduce the data and compare results. "
      ]
    },
    {
      "cell_type": "code",
      "metadata": {
        "id": "Bspmwwi8ECkM"
      },
      "source": [
        "# We decided to reduce the data to 2 variables since the explained variance ratio got much lower after that point.\n",
        "pca = PCA(n_components=2)"
      ],
      "execution_count": null,
      "outputs": []
    },
    {
      "cell_type": "code",
      "metadata": {
        "id": "JefnXTO4EUif"
      },
      "source": [
        "# Making the 2 new variabels based on the scaled dataset.\n",
        "games_reduced = pca.fit_transform(games_scaled)"
      ],
      "execution_count": null,
      "outputs": []
    },
    {
      "cell_type": "code",
      "metadata": {
        "id": "Ss08yXvdEeJ0",
        "colab": {
          "base_uri": "https://localhost:8080/",
          "height": 34
        },
        "outputId": "dfc11ba0-f4af-449a-c28b-f4390cd12eef"
      },
      "source": [
        "# We now got 990 rows as before but only 2 columns now. This is because PCA has transformed our 5 columns into 2. \n",
        "games_reduced.shape"
      ],
      "execution_count": null,
      "outputs": [
        {
          "output_type": "execute_result",
          "data": {
            "text/plain": [
              "(990, 2)"
            ]
          },
          "metadata": {
            "tags": []
          },
          "execution_count": 36
        }
      ]
    },
    {
      "cell_type": "code",
      "metadata": {
        "id": "t737bRkjE_t9",
        "colab": {
          "base_uri": "https://localhost:8080/",
          "height": 34
        },
        "outputId": "77edbbf1-46c6-4935-f8cf-6cb253a83fd2"
      },
      "source": [
        "# 81,7 % of the variance in the dataset is explained in the 2 new variables. We could include more variables but the result would be diminishing for every variable.\n",
        "pca.explained_variance_ratio_.cumsum()"
      ],
      "execution_count": null,
      "outputs": [
        {
          "output_type": "execute_result",
          "data": {
            "text/plain": [
              "array([0.63848486, 0.81724493])"
            ]
          },
          "metadata": {
            "tags": []
          },
          "execution_count": 37
        }
      ]
    },
    {
      "cell_type": "code",
      "metadata": {
        "id": "lCzXT2iyHZoX"
      },
      "source": [
        "# To see if we could figure out which data the 2 variables contained we decided to print the 10 highest and lowers scores of each.\n",
        "test = pd.DataFrame(games_reduced)\n",
        "top10_1 = test[0].sort_values(ascending=False).index[2:12]\n",
        "bottom10_1 = test[0].sort_values(ascending=True).index[0:10]\n",
        "top10_2 = test[1].sort_values(ascending=False).index[2:12]\n",
        "bottom10_2 = test[1].sort_values(ascending=True).index[2:12]"
      ],
      "execution_count": null,
      "outputs": []
    },
    {
      "cell_type": "code",
      "metadata": {
        "id": "R4UJMIDTITNR",
        "colab": {
          "base_uri": "https://localhost:8080/",
          "height": 204
        },
        "outputId": "70175197-460c-41fe-8be5-2543c440f24d"
      },
      "source": [
        "# The first variable is heavily correlated with global sales. These are the 10 games with highest value and they are all some of the best selling games. We might even be able to say that it has to do with the popular games in Japan. \n",
        "data.Name[top10_1]"
      ],
      "execution_count": null,
      "outputs": [
        {
          "output_type": "execute_result",
          "data": {
            "text/plain": [
              "2                 Wii Sports Resort\n",
              "3          Pokemon Red/Pokemon Blue\n",
              "5             New Super Mario Bros.\n",
              "6                          Wii Play\n",
              "7         New Super Mario Bros. Wii\n",
              "16    Grand Theft Auto: San Andreas\n",
              "9                        Nintendogs\n",
              "4                            Tetris\n",
              "15               Grand Theft Auto V\n",
              "10                    Mario Kart DS\n",
              "Name: Name, dtype: object"
            ]
          },
          "metadata": {
            "tags": []
          },
          "execution_count": 39
        }
      ]
    },
    {
      "cell_type": "code",
      "metadata": {
        "id": "jMmcm93tJGcu",
        "colab": {
          "base_uri": "https://localhost:8080/",
          "height": 204
        },
        "outputId": "9443f300-30bd-4832-a4ae-63590f86d7fe"
      },
      "source": [
        "# These are some of the worst selling games of the dataset. Remember that this is still the top 1000ish games, so there is still 15k games worse selling than these.\n",
        "data.Name[bottom10_1]"
      ],
      "execution_count": null,
      "outputs": [
        {
          "output_type": "execute_result",
          "data": {
            "text/plain": [
              "943                                   The Sims: Hot Date\n",
              "942                                         Namco Museum\n",
              "867                        Who wants to be a millionaire\n",
              "953                                        Madden NFL 07\n",
              "971                                        Madden NFL 25\n",
              "913                                        Madden NFL 06\n",
              "987    2 Games in 1 Double Pack: The Incredibles / Fi...\n",
              "977                                         WWF Attitude\n",
              "983                             Tom Clancy's Ghost Recon\n",
              "853                          E.T.: The Extra Terrestrial\n",
              "Name: Name, dtype: object"
            ]
          },
          "metadata": {
            "tags": []
          },
          "execution_count": 40
        }
      ]
    },
    {
      "cell_type": "code",
      "metadata": {
        "id": "JgmcrIO9hN7C",
        "colab": {
          "base_uri": "https://localhost:8080/",
          "height": 204
        },
        "outputId": "65fcae15-73d0-452e-e7ab-cd4252a2b705"
      },
      "source": [
        "# The second variable is not as obvious as the first. Our best guess is that it has something to do with the ratio of sales between different regions.\n",
        "# Many of these got big sales in NA and EU but almost none elsewhere. Others are big in Japan but not anywhere else (relativly to the market size)\n",
        "data.Name[top10_2]"
      ],
      "execution_count": null,
      "outputs": [
        {
          "output_type": "execute_result",
          "data": {
            "text/plain": [
              "15             Grand Theft Auto V\n",
              "33     Call of Duty: Black Ops II\n",
              "346     Pro Evolution Soccer 2008\n",
              "32      Call of Duty: Black Ops 3\n",
              "436                FIFA Soccer 08\n",
              "81                 FIFA Soccer 13\n",
              "43             Grand Theft Auto V\n",
              "9                      Nintendogs\n",
              "111                       FIFA 14\n",
              "53                 Gran Turismo 5\n",
              "Name: Name, dtype: object"
            ]
          },
          "metadata": {
            "tags": []
          },
          "execution_count": 41
        }
      ]
    },
    {
      "cell_type": "code",
      "metadata": {
        "id": "_qoA5FXJhpi-",
        "colab": {
          "base_uri": "https://localhost:8080/",
          "height": 204
        },
        "outputId": "68725e73-b4d7-4ec9-f7d9-0557166690fd"
      },
      "source": [
        "#The same thing goes for the bottom10 in the second variable. Nothing completely obvious, but could tell something about this being popular games in Japan, and not popular in NA/EU. \n",
        "data.Name[bottom10_2]"
      ],
      "execution_count": null,
      "outputs": [
        {
          "output_type": "execute_result",
          "data": {
            "text/plain": [
              "11                        Pokemon Gold/Pokemon Silver\n",
              "212                          Monster Hunter Freedom 3\n",
              "24                      Pokemon Ruby/Pokemon Sapphire\n",
              "4                                              Tetris\n",
              "25                        Pokemon Black/Pokemon White\n",
              "148    Dragon Quest IX: Sentinels of the Starry Skies\n",
              "240                Dragon Quest VII: Warriors of Eden\n",
              "19                      Pokemon Diamond/Pokemon Pearl\n",
              "20                                   Super Mario Land\n",
              "310                                Dragon Warrior III\n",
              "Name: Name, dtype: object"
            ]
          },
          "metadata": {
            "tags": []
          },
          "execution_count": 42
        }
      ]
    },
    {
      "cell_type": "markdown",
      "metadata": {
        "id": "rZvQ8T2UyzgJ"
      },
      "source": [
        "Now we move onto plotting the different variables compared to each other. "
      ]
    },
    {
      "cell_type": "code",
      "metadata": {
        "id": "Jrj_tA-9Jl96",
        "colab": {
          "base_uri": "https://localhost:8080/",
          "height": 556
        },
        "outputId": "aafd10e9-7215-4afe-b25f-949982d6be7e"
      },
      "source": [
        "# Plotting the 2 variables with global sales as hue.\n",
        "sns.scatterplot(games_reduced[:,0], games_reduced[:,1],hue=data.Global_Sales)"
      ],
      "execution_count": null,
      "outputs": [
        {
          "output_type": "stream",
          "text": [
            "/usr/local/lib/python3.6/dist-packages/seaborn/_decorators.py:43: FutureWarning: Pass the following variables as keyword args: x, y. From version 0.12, the only valid positional argument will be `data`, and passing other arguments without an explicit keyword will result in an error or misinterpretation.\n",
            "  FutureWarning\n"
          ],
          "name": "stderr"
        },
        {
          "output_type": "execute_result",
          "data": {
            "text/plain": [
              "<matplotlib.axes._subplots.AxesSubplot at 0x7f1aa0d89630>"
            ]
          },
          "metadata": {
            "tags": []
          },
          "execution_count": 43
        },
        {
          "output_type": "display_data",
          "data": {
            "image/png": "[encoded data removed]",
            "text/plain": [
              "<Figure size 576x576 with 1 Axes>"
            ]
          },
          "metadata": {
            "tags": []
          }
        }
      ]
    },
    {
      "cell_type": "markdown",
      "metadata": {
        "id": "tlEE6MEe13bP"
      },
      "source": [
        "As we can see, we sort of get a result that makes sense. It is easy to see that the more to the right on the x-axis the better the game has sold. On the y-axis, it can be a bit more difficult to enterpret exactly what the trigger is. From the previous top10 and bottom10 we could expect it to be related to what region a game has sold the most in."
      ]
    },
    {
      "cell_type": "code",
      "metadata": {
        "id": "PjNwagnZJ-XV"
      },
      "source": [
        "import umap"
      ],
      "execution_count": null,
      "outputs": []
    },
    {
      "cell_type": "code",
      "metadata": {
        "id": "_uXqJSKxKBJv"
      },
      "source": [
        "# We also try dimensional reduction with umap, just to see if it makes any difference\n",
        "reducer = umap.UMAP(n_components=2)"
      ],
      "execution_count": null,
      "outputs": []
    },
    {
      "cell_type": "code",
      "metadata": {
        "id": "B4-oAu2GSA6C",
        "colab": {
          "base_uri": "https://localhost:8080/",
          "height": 34
        },
        "outputId": "2cdbbce2-7f52-4fac-f8fc-b8bedce94695"
      },
      "source": [
        "# We fit it to the scaled data just as before. And we confirm that we only got 2 columns by printing the shape\n",
        "games_umap = reducer.fit_transform(games_scaled)\n",
        "games_umap.shape"
      ],
      "execution_count": null,
      "outputs": [
        {
          "output_type": "execute_result",
          "data": {
            "text/plain": [
              "(990, 2)"
            ]
          },
          "metadata": {
            "tags": []
          },
          "execution_count": 46
        }
      ]
    },
    {
      "cell_type": "code",
      "metadata": {
        "id": "d_d6aPYWVPwr",
        "colab": {
          "base_uri": "https://localhost:8080/",
          "height": 556
        },
        "outputId": "5cadbcc7-ef5f-4050-b524-2eed81e0e2ce"
      },
      "source": [
        "# Umap does a better job at clustering the data or at least at visualizing the data.\n",
        "sns.scatterplot(games_umap[:,0], games_umap[:,1],hue=data.Global_Sales)"
      ],
      "execution_count": null,
      "outputs": [
        {
          "output_type": "stream",
          "text": [
            "/usr/local/lib/python3.6/dist-packages/seaborn/_decorators.py:43: FutureWarning: Pass the following variables as keyword args: x, y. From version 0.12, the only valid positional argument will be `data`, and passing other arguments without an explicit keyword will result in an error or misinterpretation.\n",
            "  FutureWarning\n"
          ],
          "name": "stderr"
        },
        {
          "output_type": "execute_result",
          "data": {
            "text/plain": [
              "<matplotlib.axes._subplots.AxesSubplot at 0x7f1a97b62a90>"
            ]
          },
          "metadata": {
            "tags": []
          },
          "execution_count": 47
        },
        {
          "output_type": "display_data",
          "data": {
            "image/png": "[encoded data removed]",
            "text/plain": [
              "<Figure size 576x576 with 1 Axes>"
            ]
          },
          "metadata": {
            "tags": []
          }
        }
      ]
    },
    {
      "cell_type": "markdown",
      "metadata": {
        "id": "LpALqKQO22et"
      },
      "source": [
        "Again we see that with umaps dimensions, we are able to see the best sellers in the topleft corner. We try to plot UMAP with the ConsoleCategories aswell to see if there are a bit more explanation found there. "
      ]
    },
    {
      "cell_type": "code",
      "metadata": {
        "id": "FLCTzuk7WxEq",
        "colab": {
          "base_uri": "https://localhost:8080/",
          "height": 556
        },
        "outputId": "540d5070-3286-4933-849f-1a31eaf9b332"
      },
      "source": [
        "sns.scatterplot(games_umap[:,0], games_umap[:,1],hue=data.ConsoleCategory)"
      ],
      "execution_count": null,
      "outputs": [
        {
          "output_type": "stream",
          "text": [
            "/usr/local/lib/python3.6/dist-packages/seaborn/_decorators.py:43: FutureWarning: Pass the following variables as keyword args: x, y. From version 0.12, the only valid positional argument will be `data`, and passing other arguments without an explicit keyword will result in an error or misinterpretation.\n",
            "  FutureWarning\n"
          ],
          "name": "stderr"
        },
        {
          "output_type": "execute_result",
          "data": {
            "text/plain": [
              "<matplotlib.axes._subplots.AxesSubplot at 0x7f1a97b3ae48>"
            ]
          },
          "metadata": {
            "tags": []
          },
          "execution_count": 48
        },
        {
          "output_type": "display_data",
          "data": {
            "image/png": "[encoded data removed]",
            "text/plain": [
              "<Figure size 576x576 with 1 Axes>"
            ]
          },
          "metadata": {
            "tags": []
          }
        }
      ]
    },
    {
      "cell_type": "markdown",
      "metadata": {
        "id": "Mcs5kLVr36_D"
      },
      "source": [
        "Interestingly umap does, to some degree, map the games based on their platform. This is especially interesting because UMAP hasn't been fed any information about the datas platform. \n",
        "\n",
        "Now we import KMeans to create clusters for the data. The cluster can be used to show a way to devide the data into 3 categories."
      ]
    },
    {
      "cell_type": "code",
      "metadata": {
        "id": "dtr15xHDoWql"
      },
      "source": [
        "from sklearn.cluster import KMeans"
      ],
      "execution_count": null,
      "outputs": []
    },
    {
      "cell_type": "code",
      "metadata": {
        "id": "YNpBhHXyoXwc",
        "colab": {
          "base_uri": "https://localhost:8080/",
          "height": 68
        },
        "outputId": "3862aa5f-93ee-4d19-e5e5-3623dbca0324"
      },
      "source": [
        "# We make 3 clusters to see if we can find any patterns in the different clusters\n",
        "clusters = KMeans(n_clusters=3)\n",
        "clusters.fit(games_umap)"
      ],
      "execution_count": null,
      "outputs": [
        {
          "output_type": "execute_result",
          "data": {
            "text/plain": [
              "KMeans(algorithm='auto', copy_x=True, init='k-means++', max_iter=300,\n",
              "       n_clusters=3, n_init=10, n_jobs=None, precompute_distances='auto',\n",
              "       random_state=None, tol=0.0001, verbose=0)"
            ]
          },
          "metadata": {
            "tags": []
          },
          "execution_count": 50
        }
      ]
    },
    {
      "cell_type": "code",
      "metadata": {
        "id": "zm5L6-sNotZL",
        "colab": {
          "base_uri": "https://localhost:8080/",
          "height": 556
        },
        "outputId": "93b328ce-475b-4ab1-a378-354d39346d4d"
      },
      "source": [
        "# All the best selling games seems to be in the same cluster. There isn't anything about the \n",
        "sns.scatterplot(games_umap[:,0], games_umap[:,1],hue=clusters.labels_)"
      ],
      "execution_count": null,
      "outputs": [
        {
          "output_type": "stream",
          "text": [
            "/usr/local/lib/python3.6/dist-packages/seaborn/_decorators.py:43: FutureWarning: Pass the following variables as keyword args: x, y. From version 0.12, the only valid positional argument will be `data`, and passing other arguments without an explicit keyword will result in an error or misinterpretation.\n",
            "  FutureWarning\n"
          ],
          "name": "stderr"
        },
        {
          "output_type": "execute_result",
          "data": {
            "text/plain": [
              "<matplotlib.axes._subplots.AxesSubplot at 0x7f1a97df72e8>"
            ]
          },
          "metadata": {
            "tags": []
          },
          "execution_count": 51
        },
        {
          "output_type": "display_data",
          "data": {
            "image/png": "[encoded data removed]",
            "text/plain": [
              "<Figure size 576x576 with 1 Axes>"
            ]
          },
          "metadata": {
            "tags": []
          }
        }
      ]
    },
    {
      "cell_type": "code",
      "metadata": {
        "id": "QxQCz2gspDSP",
        "colab": {
          "base_uri": "https://localhost:8080/",
          "height": 173
        },
        "outputId": "ba4510ff-f8ca-40b8-cb83-f5f5823c8633"
      },
      "source": [
        "# We can now use the KMeans clustering to compare to the Genre, to see if there is any correlation between those. Genre doesn't really show us anything of use.\n",
        "pd.crosstab(clusters.labels_,data.Genre, normalize=\"columns\")"
      ],
      "execution_count": null,
      "outputs": [
        {
          "output_type": "execute_result",
          "data": {
            "text/html": [
              "<div>\n",
              "<style scoped>\n",
              "    .dataframe tbody tr th:only-of-type {\n",
              "        vertical-align: middle;\n",
              "    }\n",
              "\n",
              "    .dataframe tbody tr th {\n",
              "        vertical-align: top;\n",
              "    }\n",
              "\n",
              "    .dataframe thead th {\n",
              "        text-align: right;\n",
              "    }\n",
              "</style>\n",
              "<table border=\"1\" class=\"dataframe\">\n",
              "  <thead>\n",
              "    <tr style=\"text-align: right;\">\n",
              "      <th>Genre</th>\n",
              "      <th>Action</th>\n",
              "      <th>Adventure</th>\n",
              "      <th>Fighting</th>\n",
              "      <th>Misc</th>\n",
              "      <th>Platform</th>\n",
              "      <th>Puzzle</th>\n",
              "      <th>Racing</th>\n",
              "      <th>Role-Playing</th>\n",
              "      <th>Shooter</th>\n",
              "      <th>Simulation</th>\n",
              "      <th>Sports</th>\n",
              "      <th>Strategy</th>\n",
              "    </tr>\n",
              "    <tr>\n",
              "      <th>row_0</th>\n",
              "      <th></th>\n",
              "      <th></th>\n",
              "      <th></th>\n",
              "      <th></th>\n",
              "      <th></th>\n",
              "      <th></th>\n",
              "      <th></th>\n",
              "      <th></th>\n",
              "      <th></th>\n",
              "      <th></th>\n",
              "      <th></th>\n",
              "      <th></th>\n",
              "    </tr>\n",
              "  </thead>\n",
              "  <tbody>\n",
              "    <tr>\n",
              "      <th>0</th>\n",
              "      <td>0.236453</td>\n",
              "      <td>0.444444</td>\n",
              "      <td>0.410714</td>\n",
              "      <td>0.303371</td>\n",
              "      <td>0.553398</td>\n",
              "      <td>0.608696</td>\n",
              "      <td>0.259740</td>\n",
              "      <td>0.621622</td>\n",
              "      <td>0.047244</td>\n",
              "      <td>0.390244</td>\n",
              "      <td>0.200000</td>\n",
              "      <td>0.25</td>\n",
              "    </tr>\n",
              "    <tr>\n",
              "      <th>1</th>\n",
              "      <td>0.497537</td>\n",
              "      <td>0.388889</td>\n",
              "      <td>0.535714</td>\n",
              "      <td>0.438202</td>\n",
              "      <td>0.262136</td>\n",
              "      <td>0.260870</td>\n",
              "      <td>0.480519</td>\n",
              "      <td>0.171171</td>\n",
              "      <td>0.551181</td>\n",
              "      <td>0.414634</td>\n",
              "      <td>0.430769</td>\n",
              "      <td>0.50</td>\n",
              "    </tr>\n",
              "    <tr>\n",
              "      <th>2</th>\n",
              "      <td>0.266010</td>\n",
              "      <td>0.166667</td>\n",
              "      <td>0.053571</td>\n",
              "      <td>0.258427</td>\n",
              "      <td>0.184466</td>\n",
              "      <td>0.130435</td>\n",
              "      <td>0.259740</td>\n",
              "      <td>0.207207</td>\n",
              "      <td>0.401575</td>\n",
              "      <td>0.195122</td>\n",
              "      <td>0.369231</td>\n",
              "      <td>0.25</td>\n",
              "    </tr>\n",
              "  </tbody>\n",
              "</table>\n",
              "</div>"
            ],
            "text/plain": [
              "Genre    Action  Adventure  Fighting  ...  Simulation    Sports  Strategy\n",
              "row_0                                 ...                                \n",
              "0      0.236453   0.444444  0.410714  ...    0.390244  0.200000      0.25\n",
              "1      0.497537   0.388889  0.535714  ...    0.414634  0.430769      0.50\n",
              "2      0.266010   0.166667  0.053571  ...    0.195122  0.369231      0.25\n",
              "\n",
              "[3 rows x 12 columns]"
            ]
          },
          "metadata": {
            "tags": []
          },
          "execution_count": 52
        }
      ]
    },
    {
      "cell_type": "code",
      "metadata": {
        "id": "2_SUA7gPDpcq",
        "colab": {
          "base_uri": "https://localhost:8080/",
          "height": 173
        },
        "outputId": "370ebc45-8d9a-412d-a28a-d3cbcd07dea9"
      },
      "source": [
        "# When we use the Consoles Category as a measure, we can see a bit more information, like Nintendo would most likely be placed in variable 2. \n",
        "pd.crosstab(clusters.labels_,data.ConsoleCategory)\n"
      ],
      "execution_count": null,
      "outputs": [
        {
          "output_type": "execute_result",
          "data": {
            "text/html": [
              "<div>\n",
              "<style scoped>\n",
              "    .dataframe tbody tr th:only-of-type {\n",
              "        vertical-align: middle;\n",
              "    }\n",
              "\n",
              "    .dataframe tbody tr th {\n",
              "        vertical-align: top;\n",
              "    }\n",
              "\n",
              "    .dataframe thead th {\n",
              "        text-align: right;\n",
              "    }\n",
              "</style>\n",
              "<table border=\"1\" class=\"dataframe\">\n",
              "  <thead>\n",
              "    <tr style=\"text-align: right;\">\n",
              "      <th>ConsoleCategory</th>\n",
              "      <th>Computer</th>\n",
              "      <th>Nintendo</th>\n",
              "      <th>Other</th>\n",
              "      <th>Playstation</th>\n",
              "      <th>XBOX</th>\n",
              "    </tr>\n",
              "    <tr>\n",
              "      <th>row_0</th>\n",
              "      <th></th>\n",
              "      <th></th>\n",
              "      <th></th>\n",
              "      <th></th>\n",
              "      <th></th>\n",
              "    </tr>\n",
              "  </thead>\n",
              "  <tbody>\n",
              "    <tr>\n",
              "      <th>0</th>\n",
              "      <td>6</td>\n",
              "      <td>219</td>\n",
              "      <td>4</td>\n",
              "      <td>84</td>\n",
              "      <td>4</td>\n",
              "    </tr>\n",
              "    <tr>\n",
              "      <th>1</th>\n",
              "      <td>18</td>\n",
              "      <td>66</td>\n",
              "      <td>8</td>\n",
              "      <td>214</td>\n",
              "      <td>109</td>\n",
              "    </tr>\n",
              "    <tr>\n",
              "      <th>2</th>\n",
              "      <td>10</td>\n",
              "      <td>58</td>\n",
              "      <td>5</td>\n",
              "      <td>133</td>\n",
              "      <td>52</td>\n",
              "    </tr>\n",
              "  </tbody>\n",
              "</table>\n",
              "</div>"
            ],
            "text/plain": [
              "ConsoleCategory  Computer  Nintendo  Other  Playstation  XBOX\n",
              "row_0                                                        \n",
              "0                       6       219      4           84     4\n",
              "1                      18        66      8          214   109\n",
              "2                      10        58      5          133    52"
            ]
          },
          "metadata": {
            "tags": []
          },
          "execution_count": 53
        }
      ]
    },
    {
      "cell_type": "markdown",
      "metadata": {
        "id": "1u-0KR8DOQHa"
      },
      "source": [
        "#Supervised machine learning\n"
      ]
    },
    {
      "cell_type": "code",
      "metadata": {
        "id": "6YTEr54NhW_a"
      },
      "source": [
        "#We import the LabelEncoder, to be able to give a label to the testing data when predicting.\n",
        "from sklearn.preprocessing import LabelEncoder"
      ],
      "execution_count": null,
      "outputs": []
    },
    {
      "cell_type": "code",
      "metadata": {
        "id": "c3N6EytvjCyd"
      },
      "source": [
        "X = games_numeric"
      ],
      "execution_count": null,
      "outputs": []
    },
    {
      "cell_type": "code",
      "metadata": {
        "id": "IN33zcYOU72t"
      },
      "source": [
        "#We encode a categorical variable. \n",
        "\n",
        "y = data.ConsoleCategory\n",
        "labelencoder_y = LabelEncoder()\n",
        "y = labelencoder_y.fit_transform(y)\n"
      ],
      "execution_count": null,
      "outputs": []
    },
    {
      "cell_type": "code",
      "metadata": {
        "id": "f6xpLOG9Va49"
      },
      "source": [
        "#Now we split our data into to components; the training set and the test set. We want 20% to be test size, and the remaining 80% to be our training size.\n",
        "from sklearn.model_selection import train_test_split\n",
        "X_train, X_test, y_train, y_test = train_test_split(X, y, test_size = 0.2, random_state = 21)"
      ],
      "execution_count": null,
      "outputs": []
    },
    {
      "cell_type": "code",
      "metadata": {
        "id": "ARl3T8WHVfKf",
        "colab": {
          "base_uri": "https://localhost:8080/",
          "height": 238
        },
        "outputId": "a6c62759-8a3e-4af3-c974-9a04f6d5daf5"
      },
      "source": [
        "#When we have split the data into each test size, we use a Linear Regression model to fit the training set.\n",
        "from sklearn.linear_model import LogisticRegression\n",
        "model = LogisticRegression()\n",
        "model.fit(X_train, y_train)"
      ],
      "execution_count": null,
      "outputs": [
        {
          "output_type": "stream",
          "text": [
            "/usr/local/lib/python3.6/dist-packages/sklearn/linear_model/_logistic.py:940: ConvergenceWarning: lbfgs failed to converge (status=1):\n",
            "STOP: TOTAL NO. of ITERATIONS REACHED LIMIT.\n",
            "\n",
            "Increase the number of iterations (max_iter) or scale the data as shown in:\n",
            "    https://scikit-learn.org/stable/modules/preprocessing.html\n",
            "Please also refer to the documentation for alternative solver options:\n",
            "    https://scikit-learn.org/stable/modules/linear_model.html#logistic-regression\n",
            "  extra_warning_msg=_LOGISTIC_SOLVER_CONVERGENCE_MSG)\n"
          ],
          "name": "stderr"
        },
        {
          "output_type": "execute_result",
          "data": {
            "text/plain": [
              "LogisticRegression(C=1.0, class_weight=None, dual=False, fit_intercept=True,\n",
              "                   intercept_scaling=1, l1_ratio=None, max_iter=100,\n",
              "                   multi_class='auto', n_jobs=None, penalty='l2',\n",
              "                   random_state=None, solver='lbfgs', tol=0.0001, verbose=0,\n",
              "                   warm_start=False)"
            ]
          },
          "metadata": {
            "tags": []
          },
          "execution_count": 58
        }
      ]
    },
    {
      "cell_type": "code",
      "metadata": {
        "id": "DY8RvoK8kDxT",
        "colab": {
          "base_uri": "https://localhost:8080/",
          "height": 34
        },
        "outputId": "146e72ff-7daa-45d5-e366-a65bfd440763"
      },
      "source": [
        "#Now lets see the R^2 score to determine how good our model is. \n",
        "model.score(X_test,y_test)"
      ],
      "execution_count": null,
      "outputs": [
        {
          "output_type": "execute_result",
          "data": {
            "text/plain": [
              "0.6464646464646465"
            ]
          },
          "metadata": {
            "tags": []
          },
          "execution_count": 59
        }
      ]
    },
    {
      "cell_type": "markdown",
      "metadata": {
        "id": "5dvBlnHhjXVn"
      },
      "source": [
        "In this instance, the score of .64 tells us about the correlation between the predicted labels and the true labels. Although it is not entirely true, there is some truth to saying that the model correctly predicts the label for the video game 64% of the times. Impressive? No."
      ]
    },
    {
      "cell_type": "code",
      "metadata": {
        "id": "Y9B1LuOGVj6B"
      },
      "source": [
        "#We can now obtain the labels from both of the testing sets, to see if the model managed to correctly set the labels\n",
        "true_console = labelencoder_y.inverse_transform(y_test)\n",
        "\n",
        "predicted_console = labelencoder_y.inverse_transform(model.predict(X_test))"
      ],
      "execution_count": null,
      "outputs": []
    },
    {
      "cell_type": "code",
      "metadata": {
        "id": "PZw49PWAVtPW",
        "colab": {
          "base_uri": "https://localhost:8080/",
          "height": 235
        },
        "outputId": "fe4b4e61-7abb-4c02-f89b-51814f46b7ba"
      },
      "source": [
        "#We simply create a dataframe, with the true labels and the predicted labels, and then crosstab it.\n",
        "df = pd.DataFrame({'true_console': true_console, 'predicted_console': predicted_console}) \n",
        "\n",
        "pd.crosstab(df.true_console, df.predicted_console)"
      ],
      "execution_count": null,
      "outputs": [
        {
          "output_type": "execute_result",
          "data": {
            "text/html": [
              "<div>\n",
              "<style scoped>\n",
              "    .dataframe tbody tr th:only-of-type {\n",
              "        vertical-align: middle;\n",
              "    }\n",
              "\n",
              "    .dataframe tbody tr th {\n",
              "        vertical-align: top;\n",
              "    }\n",
              "\n",
              "    .dataframe thead th {\n",
              "        text-align: right;\n",
              "    }\n",
              "</style>\n",
              "<table border=\"1\" class=\"dataframe\">\n",
              "  <thead>\n",
              "    <tr style=\"text-align: right;\">\n",
              "      <th>predicted_console</th>\n",
              "      <th>Computer</th>\n",
              "      <th>Nintendo</th>\n",
              "      <th>Playstation</th>\n",
              "      <th>XBOX</th>\n",
              "    </tr>\n",
              "    <tr>\n",
              "      <th>true_console</th>\n",
              "      <th></th>\n",
              "      <th></th>\n",
              "      <th></th>\n",
              "      <th></th>\n",
              "    </tr>\n",
              "  </thead>\n",
              "  <tbody>\n",
              "    <tr>\n",
              "      <th>Computer</th>\n",
              "      <td>1</td>\n",
              "      <td>0</td>\n",
              "      <td>4</td>\n",
              "      <td>3</td>\n",
              "    </tr>\n",
              "    <tr>\n",
              "      <th>Nintendo</th>\n",
              "      <td>0</td>\n",
              "      <td>39</td>\n",
              "      <td>15</td>\n",
              "      <td>5</td>\n",
              "    </tr>\n",
              "    <tr>\n",
              "      <th>Other</th>\n",
              "      <td>0</td>\n",
              "      <td>0</td>\n",
              "      <td>1</td>\n",
              "      <td>1</td>\n",
              "    </tr>\n",
              "    <tr>\n",
              "      <th>Playstation</th>\n",
              "      <td>0</td>\n",
              "      <td>11</td>\n",
              "      <td>74</td>\n",
              "      <td>7</td>\n",
              "    </tr>\n",
              "    <tr>\n",
              "      <th>XBOX</th>\n",
              "      <td>0</td>\n",
              "      <td>0</td>\n",
              "      <td>23</td>\n",
              "      <td>14</td>\n",
              "    </tr>\n",
              "  </tbody>\n",
              "</table>\n",
              "</div>"
            ],
            "text/plain": [
              "predicted_console  Computer  Nintendo  Playstation  XBOX\n",
              "true_console                                            \n",
              "Computer                  1         0            4     3\n",
              "Nintendo                  0        39           15     5\n",
              "Other                     0         0            1     1\n",
              "Playstation               0        11           74     7\n",
              "XBOX                      0         0           23    14"
            ]
          },
          "metadata": {
            "tags": []
          },
          "execution_count": 61
        }
      ]
    },
    {
      "cell_type": "markdown",
      "metadata": {
        "id": "BgY4onfeoIIx"
      },
      "source": [
        "From the crosstab we can see that the model hasn't predicted any games as in the \"other\" category. We also see that the model has been pretty good at predicting when a game was a Nintendo game, but struggled a bit more with predicting Xbox vs Playstation games. To get more precise than the crosstab we can use classification_reports."
      ]
    },
    {
      "cell_type": "code",
      "metadata": {
        "id": "2Dn5tVS7mdCu"
      },
      "source": [
        "from sklearn.metrics import classification_report"
      ],
      "execution_count": null,
      "outputs": []
    },
    {
      "cell_type": "code",
      "metadata": {
        "id": "QKYBdYBrl0qw",
        "colab": {
          "base_uri": "https://localhost:8080/",
          "height": 255
        },
        "outputId": "cdc7d8ce-83c0-4e59-c302-e9afd64c83bd"
      },
      "source": [
        "# Precision = TP/(TP+FP)\n",
        "# Recall = TP/P\n",
        "# The f1-score is the weighted average of precision and recall\n",
        "# support is the amount of true observations in the test set\n",
        "\n",
        "print(classification_report(true_console,predicted_console, labels=labelencoder_y.classes_))"
      ],
      "execution_count": null,
      "outputs": [
        {
          "output_type": "stream",
          "text": [
            "              precision    recall  f1-score   support\n",
            "\n",
            "    Computer       1.00      0.12      0.22         8\n",
            "    Nintendo       0.78      0.66      0.72        59\n",
            "       Other       0.00      0.00      0.00         2\n",
            " Playstation       0.63      0.80      0.71        92\n",
            "        XBOX       0.47      0.38      0.42        37\n",
            "\n",
            "    accuracy                           0.65       198\n",
            "   macro avg       0.58      0.39      0.41       198\n",
            "weighted avg       0.65      0.65      0.63       198\n",
            "\n"
          ],
          "name": "stdout"
        },
        {
          "output_type": "stream",
          "text": [
            "/usr/local/lib/python3.6/dist-packages/sklearn/metrics/_classification.py:1272: UndefinedMetricWarning: Precision and F-score are ill-defined and being set to 0.0 in labels with no predicted samples. Use `zero_division` parameter to control this behavior.\n",
            "  _warn_prf(average, modifier, msg_start, len(result))\n"
          ],
          "name": "stderr"
        }
      ]
    },
    {
      "cell_type": "markdown",
      "metadata": {
        "id": "pkdBQaT02cij"
      },
      "source": [
        "The model does predict right most of the times, but it's definitely not perfect. Nintento gets a precision of 0.74 which means that 74% of the Nintendo guesses are true positives and the remaning 26% are false positives. \n",
        "Nintendo gets a recall of 0.66 which means that 66% of Nintendo games are predicted right and the remaining are predicted as another console\n",
        "The F1-score is just an average of the vales above.\n"
      ]
    },
    {
      "cell_type": "markdown",
      "metadata": {
        "id": "CZkVApW5qBgX"
      },
      "source": [
        "Now we import the relevant packages for the XGBoost algorithm aswell. We want to try to do the machine learning on several different algorithms to see if we could potentially enhance the R^2 result. In this instance we youse the XGBoost to do so. We do a lot of the same things as with linear regression, but with slighty different parameters. "
      ]
    },
    {
      "cell_type": "code",
      "metadata": {
        "id": "z-JbkwSvmyqc"
      },
      "source": [
        "#Here we import the XGboost\n",
        "from xgboost import XGBClassifier\n",
        "from sklearn.model_selection import GridSearchCV\n",
        "from sklearn.metrics import make_scorer \n",
        "from sklearn.metrics import mean_squared_error \n",
        "from sklearn.metrics import r2_score"
      ],
      "execution_count": null,
      "outputs": []
    },
    {
      "cell_type": "code",
      "metadata": {
        "id": "ca_ux1qEm3W9",
        "colab": {
          "base_uri": "https://localhost:8080/",
          "height": 136
        },
        "outputId": "3dda237f-7e1b-4f0b-937a-c58e8bc4bfa4"
      },
      "source": [
        "model_xgb = XGBClassifier()\n",
        "model_xgb.fit(X_train, y_train)"
      ],
      "execution_count": null,
      "outputs": [
        {
          "output_type": "execute_result",
          "data": {
            "text/plain": [
              "XGBClassifier(base_score=0.5, booster='gbtree', colsample_bylevel=1,\n",
              "              colsample_bynode=1, colsample_bytree=1, gamma=0,\n",
              "              learning_rate=0.1, max_delta_step=0, max_depth=3,\n",
              "              min_child_weight=1, missing=None, n_estimators=100, n_jobs=1,\n",
              "              nthread=None, objective='multi:softprob', random_state=0,\n",
              "              reg_alpha=0, reg_lambda=1, scale_pos_weight=1, seed=None,\n",
              "              silent=None, subsample=1, verbosity=1)"
            ]
          },
          "metadata": {
            "tags": []
          },
          "execution_count": 65
        }
      ]
    },
    {
      "cell_type": "code",
      "metadata": {
        "id": "UikvpuCJm_VY",
        "colab": {
          "base_uri": "https://localhost:8080/",
          "height": 34
        },
        "outputId": "4608ff65-ddfd-4621-a682-2f964b653ad5"
      },
      "source": [
        "# Again we can test the score of the model, to see how well the new model fits.\n",
        "model_xgb.score(X_test,y_test)"
      ],
      "execution_count": null,
      "outputs": [
        {
          "output_type": "execute_result",
          "data": {
            "text/plain": [
              "0.696969696969697"
            ]
          },
          "metadata": {
            "tags": []
          },
          "execution_count": 66
        }
      ]
    },
    {
      "cell_type": "code",
      "metadata": {
        "id": "EinGhGbdk683",
        "colab": {
          "base_uri": "https://localhost:8080/",
          "height": 221
        },
        "outputId": "4bf51d1b-ff96-460a-ca2f-3bc71868c88c"
      },
      "source": [
        "# Just as a reminder\n",
        "# Precision = TP/(TP+FP)\n",
        "# Recall = TP/P\n",
        "# The f1-score is the weighted average of precision and recall\n",
        "# support is the amount of true observations in the test set\n",
        "predicted_console_xgb = labelencoder_y.inverse_transform(model_xgb.predict(X_test))\n",
        "\n",
        "print(classification_report(true_console,predicted_console_xgb, labels=labelencoder_y.classes_))"
      ],
      "execution_count": null,
      "outputs": [
        {
          "output_type": "stream",
          "text": [
            "              precision    recall  f1-score   support\n",
            "\n",
            "    Computer       0.50      0.38      0.43         8\n",
            "    Nintendo       0.65      0.75      0.69        59\n",
            "       Other       0.00      0.00      0.00         2\n",
            " Playstation       0.74      0.75      0.75        92\n",
            "        XBOX       0.73      0.59      0.66        37\n",
            "\n",
            "    accuracy                           0.70       198\n",
            "   macro avg       0.52      0.49      0.50       198\n",
            "weighted avg       0.69      0.70      0.69       198\n",
            "\n"
          ],
          "name": "stdout"
        }
      ]
    },
    {
      "cell_type": "markdown",
      "metadata": {
        "id": "JZkwBKf12gTa"
      },
      "source": [
        "XGBoost does a better job at predicting the consoles. The F1 score of Nintendo falls to 0.69, but the rest of the consoles are predicted more accurately. Especially Xbox is much better and went from a F1-score of 0.34 with LinearRegression to 0.66 with XGBoost.\n"
      ]
    },
    {
      "cell_type": "code",
      "metadata": {
        "id": "v3HzA8ujoAjC",
        "colab": {
          "base_uri": "https://localhost:8080/",
          "height": 235
        },
        "outputId": "fde04aed-44f7-439f-bb84-493a6f6557b1"
      },
      "source": [
        "#Here we again create the crosstab to see how well the prediction has turned out with XGboost\n",
        "df_xgb = pd.DataFrame({'true_console': true_console, 'predicted_console_xgb': predicted_console_xgb}) \n",
        "\n",
        "pd.crosstab(df_xgb.true_console, df_xgb.predicted_console_xgb)"
      ],
      "execution_count": null,
      "outputs": [
        {
          "output_type": "execute_result",
          "data": {
            "text/html": [
              "<div>\n",
              "<style scoped>\n",
              "    .dataframe tbody tr th:only-of-type {\n",
              "        vertical-align: middle;\n",
              "    }\n",
              "\n",
              "    .dataframe tbody tr th {\n",
              "        vertical-align: top;\n",
              "    }\n",
              "\n",
              "    .dataframe thead th {\n",
              "        text-align: right;\n",
              "    }\n",
              "</style>\n",
              "<table border=\"1\" class=\"dataframe\">\n",
              "  <thead>\n",
              "    <tr style=\"text-align: right;\">\n",
              "      <th>predicted_console_xgb</th>\n",
              "      <th>Computer</th>\n",
              "      <th>Nintendo</th>\n",
              "      <th>Other</th>\n",
              "      <th>Playstation</th>\n",
              "      <th>XBOX</th>\n",
              "    </tr>\n",
              "    <tr>\n",
              "      <th>true_console</th>\n",
              "      <th></th>\n",
              "      <th></th>\n",
              "      <th></th>\n",
              "      <th></th>\n",
              "      <th></th>\n",
              "    </tr>\n",
              "  </thead>\n",
              "  <tbody>\n",
              "    <tr>\n",
              "      <th>Computer</th>\n",
              "      <td>3</td>\n",
              "      <td>0</td>\n",
              "      <td>0</td>\n",
              "      <td>5</td>\n",
              "      <td>0</td>\n",
              "    </tr>\n",
              "    <tr>\n",
              "      <th>Nintendo</th>\n",
              "      <td>1</td>\n",
              "      <td>44</td>\n",
              "      <td>0</td>\n",
              "      <td>10</td>\n",
              "      <td>4</td>\n",
              "    </tr>\n",
              "    <tr>\n",
              "      <th>Other</th>\n",
              "      <td>0</td>\n",
              "      <td>1</td>\n",
              "      <td>0</td>\n",
              "      <td>1</td>\n",
              "      <td>0</td>\n",
              "    </tr>\n",
              "    <tr>\n",
              "      <th>Playstation</th>\n",
              "      <td>1</td>\n",
              "      <td>18</td>\n",
              "      <td>0</td>\n",
              "      <td>69</td>\n",
              "      <td>4</td>\n",
              "    </tr>\n",
              "    <tr>\n",
              "      <th>XBOX</th>\n",
              "      <td>1</td>\n",
              "      <td>5</td>\n",
              "      <td>1</td>\n",
              "      <td>8</td>\n",
              "      <td>22</td>\n",
              "    </tr>\n",
              "  </tbody>\n",
              "</table>\n",
              "</div>"
            ],
            "text/plain": [
              "predicted_console_xgb  Computer  Nintendo  Other  Playstation  XBOX\n",
              "true_console                                                       \n",
              "Computer                      3         0      0            5     0\n",
              "Nintendo                      1        44      0           10     4\n",
              "Other                         0         1      0            1     0\n",
              "Playstation                   1        18      0           69     4\n",
              "XBOX                          1         5      1            8    22"
            ]
          },
          "metadata": {
            "tags": []
          },
          "execution_count": 68
        }
      ]
    },
    {
      "cell_type": "markdown",
      "metadata": {
        "id": "TsVD6b_FwOwE"
      },
      "source": [
        "The major difference with this crosstab and the linear regression one, is the ability to seperate Playstation and Xbox from each other. While one game has been predicted as the \"other\" platform, the model makes a mistake as it was really an XBOX game. "
      ]
    },
    {
      "cell_type": "code",
      "metadata": {
        "id": "RGdNlJiaRlZR"
      },
      "source": [
        "#These are the parameteres that the XGBoost uses to make the model for the GridSearch.\n",
        "parameters_xgb = {\"max_depth\": [1,6],\n",
        "\"learning_rate\": [0.3,0.5],\n",
        "'min_child_weight': [0.5,1],\n",
        "\"alpha\": [0,0.5],\n",
        "\"gamma\": [0,1],\n",
        "'n_estimators': [100,200,300]}"
      ],
      "execution_count": null,
      "outputs": []
    },
    {
      "cell_type": "code",
      "metadata": {
        "id": "hbUKTnRo7I1P"
      },
      "source": [
        "scorer = make_scorer(mean_squared_error)\n",
        "grid_obj = GridSearchCV(model_xgb, parameters_xgb, scoring=scorer)"
      ],
      "execution_count": null,
      "outputs": []
    },
    {
      "cell_type": "code",
      "metadata": {
        "id": "LEmS4H0E76yr"
      },
      "source": [
        "#With the 6 parameters, which all have 2 or 3 variables to be testet for, a total of 96 combinations will be testet.\n",
        "#This takes 3 minutes to run right now - if we add just one more variable, it takes between 45 and 60 minutes.\n",
        "grid_fit = grid_obj.fit(X,y)"
      ],
      "execution_count": null,
      "outputs": []
    },
    {
      "cell_type": "code",
      "metadata": {
        "id": "FABFcP9O8HKD",
        "colab": {
          "base_uri": "https://localhost:8080/",
          "height": 136
        },
        "outputId": "c531288e-7966-497c-bcf9-dbc8a7c88868"
      },
      "source": [
        "#We take the best estimator from the GridSearchCV and set is as best_reg\n",
        "best_reg = grid_fit.best_estimator_\n",
        "best_reg.fit(X_train, y_train)"
      ],
      "execution_count": null,
      "outputs": [
        {
          "output_type": "execute_result",
          "data": {
            "text/plain": [
              "XGBClassifier(alpha=0, base_score=0.5, booster='gbtree', colsample_bylevel=1,\n",
              "              colsample_bynode=1, colsample_bytree=1, gamma=0,\n",
              "              learning_rate=0.5, max_delta_step=0, max_depth=6,\n",
              "              min_child_weight=1, missing=None, n_estimators=300, n_jobs=1,\n",
              "              nthread=None, objective='multi:softprob', random_state=0,\n",
              "              reg_alpha=0, reg_lambda=1, scale_pos_weight=1, seed=None,\n",
              "              silent=None, subsample=1, verbosity=1)"
            ]
          },
          "metadata": {
            "tags": []
          },
          "execution_count": 72
        }
      ]
    },
    {
      "cell_type": "code",
      "metadata": {
        "id": "cVGGOqA782c_",
        "colab": {
          "base_uri": "https://localhost:8080/",
          "height": 34
        },
        "outputId": "4f579575-a9b6-4c63-93e4-8acdef35a05f"
      },
      "source": [
        "#Now we test the R^2 score of the best_reg aswell.\n",
        "best_reg.score(X_test,y_test)"
      ],
      "execution_count": null,
      "outputs": [
        {
          "output_type": "execute_result",
          "data": {
            "text/plain": [
              "0.7323232323232324"
            ]
          },
          "metadata": {
            "tags": []
          },
          "execution_count": 73
        }
      ]
    },
    {
      "cell_type": "markdown",
      "metadata": {
        "id": "D7p30r3j13Mu"
      },
      "source": [
        "Random Forest Regressor is a third/fourth way for us to try to predict the label of the game. As everything used here has already been described, we will not do that in this case."
      ]
    },
    {
      "cell_type": "code",
      "metadata": {
        "id": "6irwt8-00CFa"
      },
      "source": [
        "from sklearn.ensemble import RandomForestRegressor"
      ],
      "execution_count": null,
      "outputs": []
    },
    {
      "cell_type": "code",
      "metadata": {
        "id": "sYMm51uF0IwM"
      },
      "source": [
        "model_rf = RandomForestRegressor()"
      ],
      "execution_count": null,
      "outputs": []
    },
    {
      "cell_type": "code",
      "metadata": {
        "id": "QB5H6esj0PDj",
        "colab": {
          "base_uri": "https://localhost:8080/",
          "height": 136
        },
        "outputId": "723a6b13-331a-4f40-8513-625f3678ad41"
      },
      "source": [
        "model_rf.fit(X_train,y_train)"
      ],
      "execution_count": null,
      "outputs": [
        {
          "output_type": "execute_result",
          "data": {
            "text/plain": [
              "RandomForestRegressor(bootstrap=True, ccp_alpha=0.0, criterion='mse',\n",
              "                      max_depth=None, max_features='auto', max_leaf_nodes=None,\n",
              "                      max_samples=None, min_impurity_decrease=0.0,\n",
              "                      min_impurity_split=None, min_samples_leaf=1,\n",
              "                      min_samples_split=2, min_weight_fraction_leaf=0.0,\n",
              "                      n_estimators=100, n_jobs=None, oob_score=False,\n",
              "                      random_state=None, verbose=0, warm_start=False)"
            ]
          },
          "metadata": {
            "tags": []
          },
          "execution_count": 76
        }
      ]
    },
    {
      "cell_type": "code",
      "metadata": {
        "id": "659sYQp10aCe",
        "colab": {
          "base_uri": "https://localhost:8080/",
          "height": 34
        },
        "outputId": "8ea7736a-9d7e-4ee8-b266-0f90ed81974f"
      },
      "source": [
        "model_rf.score(X_test,y_test)"
      ],
      "execution_count": null,
      "outputs": [
        {
          "output_type": "execute_result",
          "data": {
            "text/plain": [
              "0.3903593936112615"
            ]
          },
          "metadata": {
            "tags": []
          },
          "execution_count": 77
        }
      ]
    },
    {
      "cell_type": "markdown",
      "metadata": {
        "id": "49vmg_p3zwch"
      },
      "source": [
        "With a score that much lower than the score for both the Linear Regression and the XGBoost, there is no reason to dive deeper into the Random Forest."
      ]
    },
    {
      "cell_type": "code",
      "metadata": {
        "id": "oJoHqciuXxk6",
        "colab": {
          "base_uri": "https://localhost:8080/",
          "height": 51
        },
        "outputId": "47900b7b-15dc-496b-a6bb-192c4ee8a576"
      },
      "source": [
        "!jupyter nbconvert --to html \"Video_Game_Sales.ipynb\""
      ],
      "execution_count": null,
      "outputs": [
        {
          "output_type": "stream",
          "text": [
            "[NbConvertApp] Converting notebook Video_Game_Sales.ipynb to html\n",
            "[NbConvertApp] Writing 887874 bytes to Video_Game_Sales.html\n"
          ],
          "name": "stdout"
        }
      ]
    }
  ]
}
