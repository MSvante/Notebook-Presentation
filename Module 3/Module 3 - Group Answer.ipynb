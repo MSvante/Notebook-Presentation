{
  "nbformat": 4,
  "nbformat_minor": 0,
  "metadata": {
    "colab": {
      "name": "M3/M4 Project",
      "provenance": [],
      "collapsed_sections": [],
      "toc_visible": true
    },
    "kernelspec": {
      "name": "python3",
      "display_name": "Python 3"
    }
  },
  "cells": [
    {
      "cell_type": "markdown",
      "metadata": {
        "id": "GblUaInoECDB"
      },
      "source": [
        "#M3 Project - stockprices predicted with Neural Networks and LSTM."
      ]
    },
    {
      "cell_type": "markdown",
      "metadata": {
        "id": "XUBDpMVDEIwU"
      },
      "source": [
        "This assignment tries to predict the future stockprice, of the amazon stock. \r\n",
        "It functions as a base for the project in M4, thus is made rather simple and are expected to be improved in M4.\r\n",
        "\r\n",
        "In this instance, trends from Google have been imported, an used as a weight towards a change in stock prices, from the idea that when a stock rises people will search for it, or perhaps that a stock rises when people search for it (perhaps due to hype)\r\n",
        "\r\n",
        "Link to colab: https://bit.ly/3a7RtHd"
      ]
    },
    {
      "cell_type": "markdown",
      "metadata": {
        "id": "0dLIU7cWFYyF"
      },
      "source": [
        "#Setup\r\n",
        "We use pytrends to download the google trends and yfinance (yahoo finance) to import stock-prices"
      ]
    },
    {
      "cell_type": "code",
      "metadata": {
        "id": "lt8Ox1adwmNo"
      },
      "source": [
        "!pip install pytrends"
      ],
      "execution_count": null,
      "outputs": []
    },
    {
      "cell_type": "code",
      "metadata": {
        "id": "roip2O1dG7rs"
      },
      "source": [
        "!pip install yfinance"
      ],
      "execution_count": null,
      "outputs": []
    },
    {
      "cell_type": "code",
      "metadata": {
        "id": "ytyWFVYhhN8w"
      },
      "source": [
        "# Importing the necessary packages\n",
        "import numpy as np\n",
        "import pandas as pd\n",
        "from pandas_datareader import data as web\n",
        "from yfinance import Ticker\n",
        "import datetime\n",
        "import yfinance as yf\n",
        "from sklearn.preprocessing import MinMaxScaler\n",
        "import matplotlib.pyplot as plt\n",
        "from pytrends import dailydata\n",
        "from sklearn.svm import SVR\n",
        "from keras.preprocessing.sequence import TimeseriesGenerator\n",
        "import keras\n",
        "from keras.models import Sequential\n",
        "from keras.layers import Dense\n",
        "from keras.layers import LSTM\n",
        "from keras.layers import Dropout"
      ],
      "execution_count": null,
      "outputs": []
    },
    {
      "cell_type": "markdown",
      "metadata": {
        "id": "yp0_l42MGWl7"
      },
      "source": [
        "#Preproccesing the data\r\n",
        "We have chosen to use the Amazon Stock. There is basically no reason behind it, beside we wanted it to be a stock from one of the bigger companies in the world. We therefore use the widely famed 5-3-1 method, where from a list of 5 stocks, one chose 3 stocks while the other chose 1 out of the 3 remaining, thus we ended with Amazon.\r\n",
        "\r\n",
        "We have defined the starting-date to be today 5 years ago, for easily setting the date 5 years ago. For M4 we might look into using the current year and previous 4 or 5 years, as this corrects for potential seasonal swings in the stock price, such as right before or after reports being published."
      ]
    },
    {
      "cell_type": "code",
      "metadata": {
        "id": "FJ-OCc0HFZ5I"
      },
      "source": [
        "stock = 'AMZN'\n",
        "start_date = (datetime.datetime.now() - datetime.timedelta(days=1825)).strftime(\"%Y-%m-%d\")\n",
        "today = datetime.datetime.now().strftime(\"%Y-%m-%d\")"
      ],
      "execution_count": null,
      "outputs": []
    },
    {
      "cell_type": "code",
      "metadata": {
        "id": "mDGs-I-dFoBp"
      },
      "source": [
        "#This code imports the stock-data\r\n",
        "df = yf.download(stock, start=start_date, end=today, progress=False, interval='1d')"
      ],
      "execution_count": null,
      "outputs": []
    },
    {
      "cell_type": "code",
      "metadata": {
        "colab": {
          "base_uri": "https://localhost:8080/",
          "height": 235
        },
        "id": "y5iVKrVJMtSs",
        "outputId": "74907d86-361f-4aff-9341-e65e2fea6841"
      },
      "source": [
        "df.head()"
      ],
      "execution_count": null,
      "outputs": [
        {
          "output_type": "execute_result",
          "data": {
            "text/html": [
              "<div>\n",
              "<style scoped>\n",
              "    .dataframe tbody tr th:only-of-type {\n",
              "        vertical-align: middle;\n",
              "    }\n",
              "\n",
              "    .dataframe tbody tr th {\n",
              "        vertical-align: top;\n",
              "    }\n",
              "\n",
              "    .dataframe thead th {\n",
              "        text-align: right;\n",
              "    }\n",
              "</style>\n",
              "<table border=\"1\" class=\"dataframe\">\n",
              "  <thead>\n",
              "    <tr style=\"text-align: right;\">\n",
              "      <th></th>\n",
              "      <th>Open</th>\n",
              "      <th>High</th>\n",
              "      <th>Low</th>\n",
              "      <th>Close</th>\n",
              "      <th>Adj Close</th>\n",
              "      <th>Volume</th>\n",
              "    </tr>\n",
              "    <tr>\n",
              "      <th>Date</th>\n",
              "      <th></th>\n",
              "      <th></th>\n",
              "      <th></th>\n",
              "      <th></th>\n",
              "      <th></th>\n",
              "      <th></th>\n",
              "    </tr>\n",
              "  </thead>\n",
              "  <tbody>\n",
              "    <tr>\n",
              "      <th>2015-12-11</th>\n",
              "      <td>651.229980</td>\n",
              "      <td>657.880005</td>\n",
              "      <td>639.619995</td>\n",
              "      <td>640.150024</td>\n",
              "      <td>640.150024</td>\n",
              "      <td>5474400</td>\n",
              "    </tr>\n",
              "    <tr>\n",
              "      <th>2015-12-14</th>\n",
              "      <td>641.750000</td>\n",
              "      <td>658.590027</td>\n",
              "      <td>635.270020</td>\n",
              "      <td>657.909973</td>\n",
              "      <td>657.909973</td>\n",
              "      <td>4329700</td>\n",
              "    </tr>\n",
              "    <tr>\n",
              "      <th>2015-12-15</th>\n",
              "      <td>665.030029</td>\n",
              "      <td>671.500000</td>\n",
              "      <td>657.349976</td>\n",
              "      <td>658.640015</td>\n",
              "      <td>658.640015</td>\n",
              "      <td>4753400</td>\n",
              "    </tr>\n",
              "    <tr>\n",
              "      <th>2015-12-16</th>\n",
              "      <td>663.559998</td>\n",
              "      <td>677.349976</td>\n",
              "      <td>659.320007</td>\n",
              "      <td>675.770020</td>\n",
              "      <td>675.770020</td>\n",
              "      <td>3964500</td>\n",
              "    </tr>\n",
              "    <tr>\n",
              "      <th>2015-12-17</th>\n",
              "      <td>680.000000</td>\n",
              "      <td>682.500000</td>\n",
              "      <td>670.650024</td>\n",
              "      <td>670.650024</td>\n",
              "      <td>670.650024</td>\n",
              "      <td>3681600</td>\n",
              "    </tr>\n",
              "  </tbody>\n",
              "</table>\n",
              "</div>"
            ],
            "text/plain": [
              "                  Open        High         Low       Close   Adj Close   Volume\n",
              "Date                                                                           \n",
              "2015-12-11  651.229980  657.880005  639.619995  640.150024  640.150024  5474400\n",
              "2015-12-14  641.750000  658.590027  635.270020  657.909973  657.909973  4329700\n",
              "2015-12-15  665.030029  671.500000  657.349976  658.640015  658.640015  4753400\n",
              "2015-12-16  663.559998  677.349976  659.320007  675.770020  675.770020  3964500\n",
              "2015-12-17  680.000000  682.500000  670.650024  670.650024  670.650024  3681600"
            ]
          },
          "metadata": {
            "tags": []
          },
          "execution_count": 75
        }
      ]
    },
    {
      "cell_type": "code",
      "metadata": {
        "id": "aEggogdNkcTA"
      },
      "source": [
        "df.columns = [w.lower() for w in df.columns]\n",
        "df.drop(['adj close'],axis=1,inplace=True)\n",
        "df['close_y'] = df['close'].shift(-1, fill_value=df['close'].iloc[-1])\n",
        "df['movement'] = df.close - df.open"
      ],
      "execution_count": null,
      "outputs": []
    },
    {
      "cell_type": "markdown",
      "metadata": {
        "id": "PjkW1HRHTqEP"
      },
      "source": [
        "The stock-data itself doesn't really hold some information of value. Since we want to predict the closing stock price for the following day, we just shift the closing price one day to get our y value.\r\n",
        "\r\n",
        "Fortunately the yfinance package has build-in the ticker-function, which can import certain information such as `info` which prints out a JSON containing a lot of interesting information, such as the company’s full name, business summary, the industry in which it operates, on which exchange it is listed (also the country, time zone) and many more information\r\n",
        "\r\n",
        "It could also be some of the big trading-houses recommendations, or the same institutional holders, which both are shown below."
      ]
    },
    {
      "cell_type": "code",
      "metadata": {
        "id": "lgi89Su2Hqj1"
      },
      "source": [
        "ticker = yf.Ticker(stock)"
      ],
      "execution_count": null,
      "outputs": []
    },
    {
      "cell_type": "code",
      "metadata": {
        "colab": {
          "base_uri": "https://localhost:8080/",
          "height": 450
        },
        "id": "2b-qYciWXjv5",
        "outputId": "a2f6f5f2-4bd7-49ed-8bfe-63d085019f50"
      },
      "source": [
        "recom = ticker.recommendations\r\n",
        "recom"
      ],
      "execution_count": null,
      "outputs": [
        {
          "output_type": "execute_result",
          "data": {
            "text/html": [
              "<div>\n",
              "<style scoped>\n",
              "    .dataframe tbody tr th:only-of-type {\n",
              "        vertical-align: middle;\n",
              "    }\n",
              "\n",
              "    .dataframe tbody tr th {\n",
              "        vertical-align: top;\n",
              "    }\n",
              "\n",
              "    .dataframe thead th {\n",
              "        text-align: right;\n",
              "    }\n",
              "</style>\n",
              "<table border=\"1\" class=\"dataframe\">\n",
              "  <thead>\n",
              "    <tr style=\"text-align: right;\">\n",
              "      <th></th>\n",
              "      <th>Firm</th>\n",
              "      <th>To Grade</th>\n",
              "      <th>From Grade</th>\n",
              "      <th>Action</th>\n",
              "    </tr>\n",
              "    <tr>\n",
              "      <th>Date</th>\n",
              "      <th></th>\n",
              "      <th></th>\n",
              "      <th></th>\n",
              "      <th></th>\n",
              "    </tr>\n",
              "  </thead>\n",
              "  <tbody>\n",
              "    <tr>\n",
              "      <th>2011-12-29 12:47:00</th>\n",
              "      <td>PiperJaffray</td>\n",
              "      <td></td>\n",
              "      <td></td>\n",
              "      <td>main</td>\n",
              "    </tr>\n",
              "    <tr>\n",
              "      <th>2012-02-15 07:33:00</th>\n",
              "      <td>PiperJaffray</td>\n",
              "      <td>Overweight</td>\n",
              "      <td></td>\n",
              "      <td>main</td>\n",
              "    </tr>\n",
              "    <tr>\n",
              "      <th>2012-02-16 06:17:00</th>\n",
              "      <td>Morgan Stanley</td>\n",
              "      <td>Equal-Weight</td>\n",
              "      <td></td>\n",
              "      <td>down</td>\n",
              "    </tr>\n",
              "    <tr>\n",
              "      <th>2012-04-02 06:06:00</th>\n",
              "      <td>Bank oferica</td>\n",
              "      <td>Neutral</td>\n",
              "      <td></td>\n",
              "      <td>down</td>\n",
              "    </tr>\n",
              "    <tr>\n",
              "      <th>2012-04-27 06:21:00</th>\n",
              "      <td>Bank oferica</td>\n",
              "      <td>Buy</td>\n",
              "      <td></td>\n",
              "      <td>up</td>\n",
              "    </tr>\n",
              "    <tr>\n",
              "      <th>...</th>\n",
              "      <td>...</td>\n",
              "      <td>...</td>\n",
              "      <td>...</td>\n",
              "      <td>...</td>\n",
              "    </tr>\n",
              "    <tr>\n",
              "      <th>2020-10-30 12:31:05</th>\n",
              "      <td>Credit Suisse</td>\n",
              "      <td>Outperform</td>\n",
              "      <td></td>\n",
              "      <td>main</td>\n",
              "    </tr>\n",
              "    <tr>\n",
              "      <th>2020-10-30 16:53:12</th>\n",
              "      <td>Piper Sandler</td>\n",
              "      <td>Overweight</td>\n",
              "      <td></td>\n",
              "      <td>main</td>\n",
              "    </tr>\n",
              "    <tr>\n",
              "      <th>2020-10-30 17:12:40</th>\n",
              "      <td>Benchmark</td>\n",
              "      <td>Buy</td>\n",
              "      <td></td>\n",
              "      <td>main</td>\n",
              "    </tr>\n",
              "    <tr>\n",
              "      <th>2020-11-03 16:15:15</th>\n",
              "      <td>Citigroup</td>\n",
              "      <td>Buy</td>\n",
              "      <td></td>\n",
              "      <td>main</td>\n",
              "    </tr>\n",
              "    <tr>\n",
              "      <th>2020-11-04 11:58:33</th>\n",
              "      <td>China Renaissance</td>\n",
              "      <td>Buy</td>\n",
              "      <td>Hold</td>\n",
              "      <td>up</td>\n",
              "    </tr>\n",
              "  </tbody>\n",
              "</table>\n",
              "<p>401 rows × 4 columns</p>\n",
              "</div>"
            ],
            "text/plain": [
              "                                  Firm      To Grade From Grade Action\n",
              "Date                                                                  \n",
              "2011-12-29 12:47:00       PiperJaffray                            main\n",
              "2012-02-15 07:33:00       PiperJaffray    Overweight              main\n",
              "2012-02-16 06:17:00     Morgan Stanley  Equal-Weight              down\n",
              "2012-04-02 06:06:00       Bank oferica       Neutral              down\n",
              "2012-04-27 06:21:00       Bank oferica           Buy                up\n",
              "...                                ...           ...        ...    ...\n",
              "2020-10-30 12:31:05      Credit Suisse    Outperform              main\n",
              "2020-10-30 16:53:12      Piper Sandler    Overweight              main\n",
              "2020-10-30 17:12:40          Benchmark           Buy              main\n",
              "2020-11-03 16:15:15          Citigroup           Buy              main\n",
              "2020-11-04 11:58:33  China Renaissance           Buy       Hold     up\n",
              "\n",
              "[401 rows x 4 columns]"
            ]
          },
          "metadata": {
            "tags": []
          },
          "execution_count": 78
        }
      ]
    },
    {
      "cell_type": "code",
      "metadata": {
        "colab": {
          "base_uri": "https://localhost:8080/",
          "height": 359
        },
        "id": "Is8w0_ViYhO9",
        "outputId": "12dfc3a1-ca88-4562-95d9-d5a96509d0c5"
      },
      "source": [
        "ih = ticker.institutional_holders \r\n",
        "ih"
      ],
      "execution_count": null,
      "outputs": [
        {
          "output_type": "execute_result",
          "data": {
            "text/html": [
              "<div>\n",
              "<style scoped>\n",
              "    .dataframe tbody tr th:only-of-type {\n",
              "        vertical-align: middle;\n",
              "    }\n",
              "\n",
              "    .dataframe tbody tr th {\n",
              "        vertical-align: top;\n",
              "    }\n",
              "\n",
              "    .dataframe thead th {\n",
              "        text-align: right;\n",
              "    }\n",
              "</style>\n",
              "<table border=\"1\" class=\"dataframe\">\n",
              "  <thead>\n",
              "    <tr style=\"text-align: right;\">\n",
              "      <th></th>\n",
              "      <th>Holder</th>\n",
              "      <th>Shares</th>\n",
              "      <th>Date Reported</th>\n",
              "      <th>% Out</th>\n",
              "      <th>Value</th>\n",
              "    </tr>\n",
              "  </thead>\n",
              "  <tbody>\n",
              "    <tr>\n",
              "      <th>0</th>\n",
              "      <td>Vanguard Group, Inc. (The)</td>\n",
              "      <td>32783886</td>\n",
              "      <td>2020-09-29</td>\n",
              "      <td>0.0653</td>\n",
              "      <td>103227605364</td>\n",
              "    </tr>\n",
              "    <tr>\n",
              "      <th>1</th>\n",
              "      <td>Blackrock Inc.</td>\n",
              "      <td>27661214</td>\n",
              "      <td>2020-09-29</td>\n",
              "      <td>0.0551</td>\n",
              "      <td>87097694358</td>\n",
              "    </tr>\n",
              "    <tr>\n",
              "      <th>2</th>\n",
              "      <td>State Street Corporation</td>\n",
              "      <td>16344982</td>\n",
              "      <td>2020-09-29</td>\n",
              "      <td>0.0326</td>\n",
              "      <td>51465935172</td>\n",
              "    </tr>\n",
              "    <tr>\n",
              "      <th>3</th>\n",
              "      <td>FMR, LLC</td>\n",
              "      <td>15880342</td>\n",
              "      <td>2020-09-29</td>\n",
              "      <td>0.0316</td>\n",
              "      <td>50002909265</td>\n",
              "    </tr>\n",
              "    <tr>\n",
              "      <th>4</th>\n",
              "      <td>Price (T.Rowe) Associates Inc</td>\n",
              "      <td>15700902</td>\n",
              "      <td>2020-09-29</td>\n",
              "      <td>0.0313</td>\n",
              "      <td>49437901154</td>\n",
              "    </tr>\n",
              "    <tr>\n",
              "      <th>5</th>\n",
              "      <td>Geode Capital Management, LLC</td>\n",
              "      <td>6398830</td>\n",
              "      <td>2020-09-29</td>\n",
              "      <td>0.0128</td>\n",
              "      <td>20148187985</td>\n",
              "    </tr>\n",
              "    <tr>\n",
              "      <th>6</th>\n",
              "      <td>Northern Trust Corporation</td>\n",
              "      <td>5016332</td>\n",
              "      <td>2020-09-29</td>\n",
              "      <td>0.0100</td>\n",
              "      <td>15795075058</td>\n",
              "    </tr>\n",
              "    <tr>\n",
              "      <th>7</th>\n",
              "      <td>Morgan Stanley</td>\n",
              "      <td>4875392</td>\n",
              "      <td>2020-09-29</td>\n",
              "      <td>0.0097</td>\n",
              "      <td>15351293052</td>\n",
              "    </tr>\n",
              "    <tr>\n",
              "      <th>8</th>\n",
              "      <td>Norges Bank Investment Management</td>\n",
              "      <td>4367787</td>\n",
              "      <td>2019-12-30</td>\n",
              "      <td>0.0087</td>\n",
              "      <td>8070971530</td>\n",
              "    </tr>\n",
              "    <tr>\n",
              "      <th>9</th>\n",
              "      <td>Bank Of New York Mellon Corporation</td>\n",
              "      <td>4287954</td>\n",
              "      <td>2020-09-29</td>\n",
              "      <td>0.0085</td>\n",
              "      <td>13501609398</td>\n",
              "    </tr>\n",
              "  </tbody>\n",
              "</table>\n",
              "</div>"
            ],
            "text/plain": [
              "                                Holder    Shares  ...   % Out         Value\n",
              "0           Vanguard Group, Inc. (The)  32783886  ...  0.0653  103227605364\n",
              "1                       Blackrock Inc.  27661214  ...  0.0551   87097694358\n",
              "2             State Street Corporation  16344982  ...  0.0326   51465935172\n",
              "3                             FMR, LLC  15880342  ...  0.0316   50002909265\n",
              "4        Price (T.Rowe) Associates Inc  15700902  ...  0.0313   49437901154\n",
              "5        Geode Capital Management, LLC   6398830  ...  0.0128   20148187985\n",
              "6           Northern Trust Corporation   5016332  ...  0.0100   15795075058\n",
              "7                       Morgan Stanley   4875392  ...  0.0097   15351293052\n",
              "8    Norges Bank Investment Management   4367787  ...  0.0087    8070971530\n",
              "9  Bank Of New York Mellon Corporation   4287954  ...  0.0085   13501609398\n",
              "\n",
              "[10 rows x 5 columns]"
            ]
          },
          "metadata": {
            "tags": []
          },
          "execution_count": 79
        }
      ]
    },
    {
      "cell_type": "markdown",
      "metadata": {
        "id": "cASaaInxZJMZ"
      },
      "source": [
        "We could use these data in a vary of combinations, which in the end would provide us with more information about the stock itself. We see Morgan Stanley on both tables, which could be combined to see if their recommendations hold value against their position. "
      ]
    },
    {
      "cell_type": "code",
      "metadata": {
        "colab": {
          "base_uri": "https://localhost:8080/",
          "height": 762
        },
        "id": "28KWpP2laMFE",
        "outputId": "b5b2b8fb-a14c-44f9-af60-f0e19eb340db"
      },
      "source": [
        "recom[recom.Firm == 'Morgan Stanley']"
      ],
      "execution_count": null,
      "outputs": [
        {
          "output_type": "execute_result",
          "data": {
            "text/html": [
              "<div>\n",
              "<style scoped>\n",
              "    .dataframe tbody tr th:only-of-type {\n",
              "        vertical-align: middle;\n",
              "    }\n",
              "\n",
              "    .dataframe tbody tr th {\n",
              "        vertical-align: top;\n",
              "    }\n",
              "\n",
              "    .dataframe thead th {\n",
              "        text-align: right;\n",
              "    }\n",
              "</style>\n",
              "<table border=\"1\" class=\"dataframe\">\n",
              "  <thead>\n",
              "    <tr style=\"text-align: right;\">\n",
              "      <th></th>\n",
              "      <th>Firm</th>\n",
              "      <th>To Grade</th>\n",
              "      <th>From Grade</th>\n",
              "      <th>Action</th>\n",
              "    </tr>\n",
              "    <tr>\n",
              "      <th>Date</th>\n",
              "      <th></th>\n",
              "      <th></th>\n",
              "      <th></th>\n",
              "      <th></th>\n",
              "    </tr>\n",
              "  </thead>\n",
              "  <tbody>\n",
              "    <tr>\n",
              "      <th>2012-02-16 06:17:00</th>\n",
              "      <td>Morgan Stanley</td>\n",
              "      <td>Equal-Weight</td>\n",
              "      <td></td>\n",
              "      <td>down</td>\n",
              "    </tr>\n",
              "    <tr>\n",
              "      <th>2013-01-07 06:32:45</th>\n",
              "      <td>Morgan Stanley</td>\n",
              "      <td>Overweight</td>\n",
              "      <td>Equal-Weight</td>\n",
              "      <td>up</td>\n",
              "    </tr>\n",
              "    <tr>\n",
              "      <th>2014-01-06 06:47:14</th>\n",
              "      <td>Morgan Stanley</td>\n",
              "      <td>Overweight</td>\n",
              "      <td></td>\n",
              "      <td>main</td>\n",
              "    </tr>\n",
              "    <tr>\n",
              "      <th>2014-10-29 07:55:37</th>\n",
              "      <td>Morgan Stanley</td>\n",
              "      <td>Overweight</td>\n",
              "      <td></td>\n",
              "      <td>init</td>\n",
              "    </tr>\n",
              "    <tr>\n",
              "      <th>2015-07-24 03:58:28</th>\n",
              "      <td>Morgan Stanley</td>\n",
              "      <td>Overweight</td>\n",
              "      <td></td>\n",
              "      <td>main</td>\n",
              "    </tr>\n",
              "    <tr>\n",
              "      <th>2016-10-05 14:51:14</th>\n",
              "      <td>Morgan Stanley</td>\n",
              "      <td>Overweight</td>\n",
              "      <td></td>\n",
              "      <td>main</td>\n",
              "    </tr>\n",
              "    <tr>\n",
              "      <th>2017-07-20 19:08:50</th>\n",
              "      <td>Morgan Stanley</td>\n",
              "      <td>Overweight</td>\n",
              "      <td></td>\n",
              "      <td>main</td>\n",
              "    </tr>\n",
              "    <tr>\n",
              "      <th>2018-01-26 19:43:29</th>\n",
              "      <td>Morgan Stanley</td>\n",
              "      <td>Overweight</td>\n",
              "      <td>Overweight</td>\n",
              "      <td>main</td>\n",
              "    </tr>\n",
              "    <tr>\n",
              "      <th>2018-02-02 14:11:04</th>\n",
              "      <td>Morgan Stanley</td>\n",
              "      <td>Overweight</td>\n",
              "      <td>Overweight</td>\n",
              "      <td>main</td>\n",
              "    </tr>\n",
              "    <tr>\n",
              "      <th>2018-04-19 11:51:28</th>\n",
              "      <td>Morgan Stanley</td>\n",
              "      <td>Overweight</td>\n",
              "      <td>Overweight</td>\n",
              "      <td>main</td>\n",
              "    </tr>\n",
              "    <tr>\n",
              "      <th>2018-07-27 15:36:14</th>\n",
              "      <td>Morgan Stanley</td>\n",
              "      <td>Overweight</td>\n",
              "      <td>Overweight</td>\n",
              "      <td>main</td>\n",
              "    </tr>\n",
              "    <tr>\n",
              "      <th>2018-08-29 11:17:58</th>\n",
              "      <td>Morgan Stanley</td>\n",
              "      <td>Overweight</td>\n",
              "      <td>Overweight</td>\n",
              "      <td>main</td>\n",
              "    </tr>\n",
              "    <tr>\n",
              "      <th>2019-07-15 12:34:35</th>\n",
              "      <td>Morgan Stanley</td>\n",
              "      <td>Overweight</td>\n",
              "      <td></td>\n",
              "      <td>main</td>\n",
              "    </tr>\n",
              "    <tr>\n",
              "      <th>2019-09-23 12:20:47</th>\n",
              "      <td>Morgan Stanley</td>\n",
              "      <td>Overweight</td>\n",
              "      <td></td>\n",
              "      <td>main</td>\n",
              "    </tr>\n",
              "    <tr>\n",
              "      <th>2019-10-25 12:15:22</th>\n",
              "      <td>Morgan Stanley</td>\n",
              "      <td>Overweight</td>\n",
              "      <td></td>\n",
              "      <td>main</td>\n",
              "    </tr>\n",
              "    <tr>\n",
              "      <th>2020-01-16 13:57:33</th>\n",
              "      <td>Morgan Stanley</td>\n",
              "      <td>Overweight</td>\n",
              "      <td></td>\n",
              "      <td>main</td>\n",
              "    </tr>\n",
              "    <tr>\n",
              "      <th>2020-01-31 15:45:43</th>\n",
              "      <td>Morgan Stanley</td>\n",
              "      <td>Overweight</td>\n",
              "      <td></td>\n",
              "      <td>main</td>\n",
              "    </tr>\n",
              "    <tr>\n",
              "      <th>2020-05-01 11:27:55</th>\n",
              "      <td>Morgan Stanley</td>\n",
              "      <td>Overweight</td>\n",
              "      <td></td>\n",
              "      <td>main</td>\n",
              "    </tr>\n",
              "    <tr>\n",
              "      <th>2020-06-01 12:07:53</th>\n",
              "      <td>Morgan Stanley</td>\n",
              "      <td>Overweight</td>\n",
              "      <td></td>\n",
              "      <td>main</td>\n",
              "    </tr>\n",
              "    <tr>\n",
              "      <th>2020-07-31 11:46:26</th>\n",
              "      <td>Morgan Stanley</td>\n",
              "      <td>Overweight</td>\n",
              "      <td></td>\n",
              "      <td>main</td>\n",
              "    </tr>\n",
              "    <tr>\n",
              "      <th>2020-10-15 11:33:00</th>\n",
              "      <td>Morgan Stanley</td>\n",
              "      <td>Overweight</td>\n",
              "      <td></td>\n",
              "      <td>main</td>\n",
              "    </tr>\n",
              "    <tr>\n",
              "      <th>2020-10-16 12:15:33</th>\n",
              "      <td>Morgan Stanley</td>\n",
              "      <td>Overweight</td>\n",
              "      <td></td>\n",
              "      <td>main</td>\n",
              "    </tr>\n",
              "  </tbody>\n",
              "</table>\n",
              "</div>"
            ],
            "text/plain": [
              "                               Firm      To Grade    From Grade Action\n",
              "Date                                                                  \n",
              "2012-02-16 06:17:00  Morgan Stanley  Equal-Weight                 down\n",
              "2013-01-07 06:32:45  Morgan Stanley    Overweight  Equal-Weight     up\n",
              "2014-01-06 06:47:14  Morgan Stanley    Overweight                 main\n",
              "2014-10-29 07:55:37  Morgan Stanley    Overweight                 init\n",
              "2015-07-24 03:58:28  Morgan Stanley    Overweight                 main\n",
              "2016-10-05 14:51:14  Morgan Stanley    Overweight                 main\n",
              "2017-07-20 19:08:50  Morgan Stanley    Overweight                 main\n",
              "2018-01-26 19:43:29  Morgan Stanley    Overweight    Overweight   main\n",
              "2018-02-02 14:11:04  Morgan Stanley    Overweight    Overweight   main\n",
              "2018-04-19 11:51:28  Morgan Stanley    Overweight    Overweight   main\n",
              "2018-07-27 15:36:14  Morgan Stanley    Overweight    Overweight   main\n",
              "2018-08-29 11:17:58  Morgan Stanley    Overweight    Overweight   main\n",
              "2019-07-15 12:34:35  Morgan Stanley    Overweight                 main\n",
              "2019-09-23 12:20:47  Morgan Stanley    Overweight                 main\n",
              "2019-10-25 12:15:22  Morgan Stanley    Overweight                 main\n",
              "2020-01-16 13:57:33  Morgan Stanley    Overweight                 main\n",
              "2020-01-31 15:45:43  Morgan Stanley    Overweight                 main\n",
              "2020-05-01 11:27:55  Morgan Stanley    Overweight                 main\n",
              "2020-06-01 12:07:53  Morgan Stanley    Overweight                 main\n",
              "2020-07-31 11:46:26  Morgan Stanley    Overweight                 main\n",
              "2020-10-15 11:33:00  Morgan Stanley    Overweight                 main\n",
              "2020-10-16 12:15:33  Morgan Stanley    Overweight                 main"
            ]
          },
          "metadata": {
            "tags": []
          },
          "execution_count": 80
        }
      ]
    },
    {
      "cell_type": "markdown",
      "metadata": {
        "id": "DuIKQMGUaNn5"
      },
      "source": [
        "So you can see that Morgan Stanley thinks their portfolio of Amazon is overweight, or that the stock is trading for less than what they value it at. Judged by their position, one could suggest the latter definition of overweight being what Morgan Stanley uses."
      ]
    },
    {
      "cell_type": "markdown",
      "metadata": {
        "id": "CpsQTu4Xamd3"
      },
      "source": [
        "#Google Trends\r\n",
        "\r\n",
        "In this section, we import the data used from Google Trends. \r\n",
        "The `get_daily_data` uses the keyword first, then the start and stop, year and month. This part should've been relative dates, but that has caused too much of a problem compared to its necesity for it to be build right now.\r\n",
        "\r\n",
        "In this case, we could've used the stock ticker AMZN as the search keyword, rather than amazon, but we figured we would hit a wider audience using amazon. Both have their pros and cons of course, but we suspect that some people also will be searching for amazon stock or something similar, thus making amazon the keyword a much wider searchterm."
      ]
    },
    {
      "cell_type": "code",
      "metadata": {
        "id": "AR2EKNkfC2re"
      },
      "source": [
        "amazon_data = dailydata.get_daily_data(\"amazon\", start_year=2015, start_mon=1, stop_year=2020, stop_mon=12)"
      ],
      "execution_count": null,
      "outputs": []
    },
    {
      "cell_type": "code",
      "metadata": {
        "id": "xuqtGtjGJwD2"
      },
      "source": [
        "data = amazon_data.copy()"
      ],
      "execution_count": null,
      "outputs": []
    },
    {
      "cell_type": "code",
      "metadata": {
        "colab": {
          "base_uri": "https://localhost:8080/",
          "height": 235
        },
        "id": "EskkPEjBtmHR",
        "outputId": "cfd82d52-6d67-49c5-ace6-885eb8166302"
      },
      "source": [
        "data.head()"
      ],
      "execution_count": null,
      "outputs": [
        {
          "output_type": "execute_result",
          "data": {
            "text/html": [
              "<div>\n",
              "<style scoped>\n",
              "    .dataframe tbody tr th:only-of-type {\n",
              "        vertical-align: middle;\n",
              "    }\n",
              "\n",
              "    .dataframe tbody tr th {\n",
              "        vertical-align: top;\n",
              "    }\n",
              "\n",
              "    .dataframe thead th {\n",
              "        text-align: right;\n",
              "    }\n",
              "</style>\n",
              "<table border=\"1\" class=\"dataframe\">\n",
              "  <thead>\n",
              "    <tr style=\"text-align: right;\">\n",
              "      <th></th>\n",
              "      <th>amazon_unscaled</th>\n",
              "      <th>amazon_monthly</th>\n",
              "      <th>isPartial</th>\n",
              "      <th>scale</th>\n",
              "      <th>amazon</th>\n",
              "    </tr>\n",
              "    <tr>\n",
              "      <th>date</th>\n",
              "      <th></th>\n",
              "      <th></th>\n",
              "      <th></th>\n",
              "      <th></th>\n",
              "      <th></th>\n",
              "    </tr>\n",
              "  </thead>\n",
              "  <tbody>\n",
              "    <tr>\n",
              "      <th>2015-01-01</th>\n",
              "      <td>91</td>\n",
              "      <td>56.0</td>\n",
              "      <td>False</td>\n",
              "      <td>0.56</td>\n",
              "      <td>50.96</td>\n",
              "    </tr>\n",
              "    <tr>\n",
              "      <th>2015-01-02</th>\n",
              "      <td>99</td>\n",
              "      <td>56.0</td>\n",
              "      <td>NaN</td>\n",
              "      <td>0.56</td>\n",
              "      <td>55.44</td>\n",
              "    </tr>\n",
              "    <tr>\n",
              "      <th>2015-01-03</th>\n",
              "      <td>99</td>\n",
              "      <td>56.0</td>\n",
              "      <td>NaN</td>\n",
              "      <td>0.56</td>\n",
              "      <td>55.44</td>\n",
              "    </tr>\n",
              "    <tr>\n",
              "      <th>2015-01-04</th>\n",
              "      <td>100</td>\n",
              "      <td>56.0</td>\n",
              "      <td>NaN</td>\n",
              "      <td>0.56</td>\n",
              "      <td>56.00</td>\n",
              "    </tr>\n",
              "    <tr>\n",
              "      <th>2015-01-05</th>\n",
              "      <td>90</td>\n",
              "      <td>56.0</td>\n",
              "      <td>NaN</td>\n",
              "      <td>0.56</td>\n",
              "      <td>50.40</td>\n",
              "    </tr>\n",
              "  </tbody>\n",
              "</table>\n",
              "</div>"
            ],
            "text/plain": [
              "            amazon_unscaled  amazon_monthly isPartial  scale  amazon\n",
              "date                                                                \n",
              "2015-01-01               91            56.0     False   0.56   50.96\n",
              "2015-01-02               99            56.0       NaN   0.56   55.44\n",
              "2015-01-03               99            56.0       NaN   0.56   55.44\n",
              "2015-01-04              100            56.0       NaN   0.56   56.00\n",
              "2015-01-05               90            56.0       NaN   0.56   50.40"
            ]
          },
          "metadata": {
            "tags": []
          },
          "execution_count": 83
        }
      ]
    },
    {
      "cell_type": "markdown",
      "metadata": {
        "id": "J9A6q9m9bcxN"
      },
      "source": [
        "The data here is an indexed number, meaning that the date (or dates in this instance) where the term has been searched for the most times has an index of 100 and the least of 0. Absolute numbers are only available if we purchase them from Google, which we are not interested in.\r\n",
        "\r\n",
        "We merge this data with the stock-data from earlier"
      ]
    },
    {
      "cell_type": "code",
      "metadata": {
        "id": "Q6GJJIFjTWHh"
      },
      "source": [
        "data.drop(['isPartial','scale','amazon_monthly','amazon_unscaled'], axis=1, inplace=True)"
      ],
      "execution_count": null,
      "outputs": []
    },
    {
      "cell_type": "code",
      "metadata": {
        "id": "rofrB62uoPS3"
      },
      "source": [
        "merged = pd.merge(df, data, left_index=True, right_index=True)"
      ],
      "execution_count": null,
      "outputs": []
    },
    {
      "cell_type": "code",
      "metadata": {
        "colab": {
          "base_uri": "https://localhost:8080/",
          "height": 204
        },
        "id": "v4oIMQv_ouQt",
        "outputId": "dea66aef-983e-4c7d-bd1c-e02001c73c2f"
      },
      "source": [
        "merged.head()"
      ],
      "execution_count": null,
      "outputs": [
        {
          "output_type": "execute_result",
          "data": {
            "text/html": [
              "<div>\n",
              "<style scoped>\n",
              "    .dataframe tbody tr th:only-of-type {\n",
              "        vertical-align: middle;\n",
              "    }\n",
              "\n",
              "    .dataframe tbody tr th {\n",
              "        vertical-align: top;\n",
              "    }\n",
              "\n",
              "    .dataframe thead th {\n",
              "        text-align: right;\n",
              "    }\n",
              "</style>\n",
              "<table border=\"1\" class=\"dataframe\">\n",
              "  <thead>\n",
              "    <tr style=\"text-align: right;\">\n",
              "      <th></th>\n",
              "      <th>open</th>\n",
              "      <th>high</th>\n",
              "      <th>low</th>\n",
              "      <th>close</th>\n",
              "      <th>volume</th>\n",
              "      <th>close_y</th>\n",
              "      <th>movement</th>\n",
              "      <th>amazon_unscaled</th>\n",
              "      <th>amazon_monthly</th>\n",
              "      <th>amazon</th>\n",
              "    </tr>\n",
              "  </thead>\n",
              "  <tbody>\n",
              "    <tr>\n",
              "      <th>2015-12-11</th>\n",
              "      <td>651.229980</td>\n",
              "      <td>657.880005</td>\n",
              "      <td>639.619995</td>\n",
              "      <td>640.150024</td>\n",
              "      <td>5474400</td>\n",
              "      <td>657.909973</td>\n",
              "      <td>-11.079956</td>\n",
              "      <td>81</td>\n",
              "      <td>85.0</td>\n",
              "      <td>68.85</td>\n",
              "    </tr>\n",
              "    <tr>\n",
              "      <th>2015-12-14</th>\n",
              "      <td>641.750000</td>\n",
              "      <td>658.590027</td>\n",
              "      <td>635.270020</td>\n",
              "      <td>657.909973</td>\n",
              "      <td>4329700</td>\n",
              "      <td>658.640015</td>\n",
              "      <td>16.159973</td>\n",
              "      <td>89</td>\n",
              "      <td>85.0</td>\n",
              "      <td>75.65</td>\n",
              "    </tr>\n",
              "    <tr>\n",
              "      <th>2015-12-15</th>\n",
              "      <td>665.030029</td>\n",
              "      <td>671.500000</td>\n",
              "      <td>657.349976</td>\n",
              "      <td>658.640015</td>\n",
              "      <td>4753400</td>\n",
              "      <td>675.770020</td>\n",
              "      <td>-6.390015</td>\n",
              "      <td>85</td>\n",
              "      <td>85.0</td>\n",
              "      <td>72.25</td>\n",
              "    </tr>\n",
              "    <tr>\n",
              "      <th>2015-12-16</th>\n",
              "      <td>663.559998</td>\n",
              "      <td>677.349976</td>\n",
              "      <td>659.320007</td>\n",
              "      <td>675.770020</td>\n",
              "      <td>3964500</td>\n",
              "      <td>670.650024</td>\n",
              "      <td>12.210022</td>\n",
              "      <td>85</td>\n",
              "      <td>85.0</td>\n",
              "      <td>72.25</td>\n",
              "    </tr>\n",
              "    <tr>\n",
              "      <th>2015-12-17</th>\n",
              "      <td>680.000000</td>\n",
              "      <td>682.500000</td>\n",
              "      <td>670.650024</td>\n",
              "      <td>670.650024</td>\n",
              "      <td>3681600</td>\n",
              "      <td>664.140015</td>\n",
              "      <td>-9.349976</td>\n",
              "      <td>84</td>\n",
              "      <td>85.0</td>\n",
              "      <td>71.40</td>\n",
              "    </tr>\n",
              "  </tbody>\n",
              "</table>\n",
              "</div>"
            ],
            "text/plain": [
              "                  open        high  ...  amazon_monthly  amazon\n",
              "2015-12-11  651.229980  657.880005  ...            85.0   68.85\n",
              "2015-12-14  641.750000  658.590027  ...            85.0   75.65\n",
              "2015-12-15  665.030029  671.500000  ...            85.0   72.25\n",
              "2015-12-16  663.559998  677.349976  ...            85.0   72.25\n",
              "2015-12-17  680.000000  682.500000  ...            85.0   71.40\n",
              "\n",
              "[5 rows x 10 columns]"
            ]
          },
          "metadata": {
            "tags": []
          },
          "execution_count": 86
        }
      ]
    },
    {
      "cell_type": "markdown",
      "metadata": {
        "id": "F4SDNOr4EOQD"
      },
      "source": [
        "As a final precausion, we want to compare the stock-price to the trends. Therefore we subset it into only those two columns, then scale it to easily compare them using the minmaxscaler, then turning it into a dataframe and plotting it."
      ]
    },
    {
      "cell_type": "code",
      "metadata": {
        "id": "9ghV1oY7Bn1A"
      },
      "source": [
        "plotting = merged.loc[:,['close_y','amazon']]"
      ],
      "execution_count": null,
      "outputs": []
    },
    {
      "cell_type": "code",
      "metadata": {
        "id": "do3yAL0UCQ1i"
      },
      "source": [
        "plotscaling = MinMaxScaler(feature_range=(-1, 1))"
      ],
      "execution_count": null,
      "outputs": []
    },
    {
      "cell_type": "code",
      "metadata": {
        "id": "dKX3olCqCXbI"
      },
      "source": [
        "plotting = plotscaling.fit_transform(plotting)"
      ],
      "execution_count": null,
      "outputs": []
    },
    {
      "cell_type": "code",
      "metadata": {
        "id": "MV_KQ7CCCfPf"
      },
      "source": [
        "plotting = pd.DataFrame(plotting)"
      ],
      "execution_count": null,
      "outputs": []
    },
    {
      "cell_type": "code",
      "metadata": {
        "colab": {
          "base_uri": "https://localhost:8080/",
          "height": 282
        },
        "id": "_8sp7g8gEAWN",
        "outputId": "195fc73a-4f35-40c6-9170-e1ceae5e714f"
      },
      "source": [
        "plotting.plot()"
      ],
      "execution_count": null,
      "outputs": [
        {
          "output_type": "execute_result",
          "data": {
            "text/plain": [
              "<matplotlib.axes._subplots.AxesSubplot at 0x7f7a40eeecf8>"
            ]
          },
          "metadata": {
            "tags": []
          },
          "execution_count": 91
        },
        {
          "output_type": "display_data",
          "data": {
            "image/png": "[encoded data removed]",
            "text/plain": [
              "<Figure size 432x288 with 1 Axes>"
            ]
          },
          "metadata": {
            "tags": [],
            "needs_background": "light"
          }
        }
      ]
    },
    {
      "cell_type": "markdown",
      "metadata": {
        "id": "YeILahADF4Yp"
      },
      "source": [
        "This basically shows us that there is close to none correlation between the search keyword amazon and their stock-price. "
      ]
    },
    {
      "cell_type": "markdown",
      "metadata": {
        "id": "MppZM3qGfacE"
      },
      "source": [
        "#Testing with supervised machine learning\r\n",
        "\r\n",
        "So to be able to press our neural network further, we want to test how a basic supervised machine learning model works. This also \"shows\" us that if the SML model is decent, there may not be a need to build a neural network.\r\n",
        "\r\n",
        "Since we are working with sequential data, we dont use train_test_split. Insted we pick the first 80% of obersavations as training set, and the remaning as testing set."
      ]
    },
    {
      "cell_type": "code",
      "metadata": {
        "id": "ivSOoWll8FAH"
      },
      "source": [
        "test_size = int(len(merged) * 0.1)\r\n",
        "sml_train = merged.iloc[:-test_size,:].copy() \r\n",
        "sml_test = merged.iloc[-test_size:,:].copy()"
      ],
      "execution_count": null,
      "outputs": []
    },
    {
      "cell_type": "markdown",
      "metadata": {
        "id": "pDHMZ2ygv8zl"
      },
      "source": [
        "We split the dataset into x values and y values. We also specify .values, since the date is not relevant for the training and doesn't work with some of the later preprocessing"
      ]
    },
    {
      "cell_type": "code",
      "metadata": {
        "id": "RXNXTSKU8Mdu"
      },
      "source": [
        "sml_X_train = sml_train.drop(['close_y'],axis=1).values\r\n",
        "sml_y_train = sml_train.close_y.values\r\n",
        "\r\n",
        "sml_X_test = sml_test.drop(['close_y'],axis=1).values\r\n",
        "sml_y_test = sml_test.close_y.values"
      ],
      "execution_count": null,
      "outputs": []
    },
    {
      "cell_type": "code",
      "metadata": {
        "id": "uMY79ZABaJo8"
      },
      "source": [
        "sml_x_scaler = MinMaxScaler(feature_range=(-1, 1))\n",
        "sml_y_scaler = MinMaxScaler(feature_range=(-1, 1))"
      ],
      "execution_count": null,
      "outputs": []
    },
    {
      "cell_type": "markdown",
      "metadata": {
        "id": "zTPIlToqxT-X"
      },
      "source": [
        "We scale all our values to be between -1 and 1. This should help the accuracy of the model."
      ]
    },
    {
      "cell_type": "code",
      "metadata": {
        "id": "4kgPnMaAaOsj"
      },
      "source": [
        "sml_X_train = sml_x_scaler.fit_transform(sml_X_train)\n",
        "sml_y_train = sml_y_scaler.fit_transform(sml_y_train.reshape(-1,1))\n",
        "\n",
        "\n",
        "sml_X_test = sml_x_scaler.transform(sml_X_test)\n",
        "sml_y_test = sml_y_scaler.transform(sml_y_test.reshape(-1,1))\n"
      ],
      "execution_count": null,
      "outputs": []
    },
    {
      "cell_type": "markdown",
      "metadata": {
        "id": "5mhvt-Zg-1kZ"
      },
      "source": [
        "Since we are trying to predict a stocks price, we cannot use the linear regression, as we from heart know that a stock will not develop linear, we need to use a model that can take into account that the value can also drop. Because the output of the model is a real number, it becomes very difficult to predict the information at hand, because it has infinite possibilities. However, the main idea is always the same: to minimize error, individualizing the hyperplane which maximizes the margin, keeping in mind that part of the error is tolerated."
      ]
    },
    {
      "cell_type": "code",
      "metadata": {
        "id": "pk4M-22p8ozU"
      },
      "source": [
        "model = SVR()\r\n",
        "model.fit(sml_X_train, sml_y_train)"
      ],
      "execution_count": null,
      "outputs": []
    },
    {
      "cell_type": "code",
      "metadata": {
        "colab": {
          "base_uri": "https://localhost:8080/"
        },
        "id": "lM0Yxra-8tgn",
        "outputId": "ad443074-7f7c-4d5c-e559-10334b758517"
      },
      "source": [
        "model.score(sml_X_test,sml_y_test)"
      ],
      "execution_count": null,
      "outputs": [
        {
          "output_type": "execute_result",
          "data": {
            "text/plain": [
              "-35.928706963461885"
            ]
          },
          "metadata": {
            "tags": []
          },
          "execution_count": 97
        }
      ]
    },
    {
      "cell_type": "markdown",
      "metadata": {
        "id": "EH-BVhS6CEh_"
      },
      "source": [
        "From the documentation of SVR:\r\n",
        "\r\n",
        "*`Best possible score is 1.0 and it can be negative (because the model can be arbitrarily worse). A constant model that always predicts the expected value of y, disregarding the input features, would get a R^2 score of 0.0.`*\r\n",
        "\r\n",
        "So basically the model is doing far worse than just regular regression. This can make sense - as the amazon stock in general has risen, it is not entirely wrongful that the model is worse than regular linear regression, but should a downfall eventually come, this model most likely would perform better anyways."
      ]
    },
    {
      "cell_type": "markdown",
      "metadata": {
        "id": "irHkGwQbjtlZ"
      },
      "source": [
        "#Preproccessing for Neural Networks\r\n",
        "\r\n",
        "In this module we will take somewhat of the similar steps as in the preproccesing for the machine learning, as most of the same steps are done. The explanation for each step is therefore left out."
      ]
    },
    {
      "cell_type": "code",
      "metadata": {
        "id": "tGpJjtq2XCSx"
      },
      "source": [
        "train = df.iloc[:-test_size,:].copy() \n",
        "test = df.iloc[-test_size:,:].copy()"
      ],
      "execution_count": null,
      "outputs": []
    },
    {
      "cell_type": "code",
      "metadata": {
        "id": "TxR30dN2XQgv"
      },
      "source": [
        "X_train = train.drop(['close_y'],axis=1).values\n",
        "y_train = train.close_y.values\n",
        "\n",
        "X_test = test.drop(['close_y'],axis=1).values\n",
        "y_test = test.close_y.values"
      ],
      "execution_count": null,
      "outputs": []
    },
    {
      "cell_type": "code",
      "metadata": {
        "id": "2mMz_2jkmpUx"
      },
      "source": [
        "x_scaler = MinMaxScaler(feature_range=(-1, 1))\n",
        "y_scaler = MinMaxScaler(feature_range=(-1, 1))"
      ],
      "execution_count": null,
      "outputs": []
    },
    {
      "cell_type": "code",
      "metadata": {
        "id": "N3QBPs3fmpUx"
      },
      "source": [
        "X_train = x_scaler.fit_transform(X_train)\n",
        "y_train = y_scaler.fit_transform(y_train.reshape(-1,1))\n",
        "\n",
        "\n",
        "X_test = x_scaler.transform(X_test)\n",
        "y_test = y_scaler.transform(y_test.reshape(-1,1))\n"
      ],
      "execution_count": null,
      "outputs": []
    },
    {
      "cell_type": "markdown",
      "metadata": {
        "id": "nEVkSS3ZxrRp"
      },
      "source": [
        "#Building and training the neural network model\n",
        "\n",
        "n_input = how many days we look in the past to predict the next sample. We chose 20 mostly by trial and error.\n",
        "\n",
        "We set epochs to 100. It's our experience that the more you train the model, the more it will try to predict the daily volatility. If we only trained it for eg. 10 epochs, the model would make a soft curve which didn't look like a real stock development. By trail and error we found 100 to be the best training amount."
      ]
    },
    {
      "cell_type": "code",
      "metadata": {
        "id": "utykwCALadZB"
      },
      "source": [
        "n_input = 20\n",
        "n_features= X_train.shape[1] # how many predictors/Xs/features we have to predict y\n",
        "b_size = 30 # Number of timeseries samples in each batch\n",
        "epochs = 100\n",
        "generator = TimeseriesGenerator(X_train, y_train, length=n_input, batch_size=b_size)"
      ],
      "execution_count": null,
      "outputs": []
    },
    {
      "cell_type": "code",
      "metadata": {
        "colab": {
          "base_uri": "https://localhost:8080/"
        },
        "id": "vZ3cir1rfpRN",
        "outputId": "b70d7c69-f872-4e56-df7d-938912106613"
      },
      "source": [
        "print(generator[0][0].shape)"
      ],
      "execution_count": null,
      "outputs": [
        {
          "output_type": "stream",
          "text": [
            "(30, 20, 6)\n"
          ],
          "name": "stdout"
        }
      ]
    },
    {
      "cell_type": "code",
      "metadata": {
        "colab": {
          "base_uri": "https://localhost:8080/"
        },
        "id": "XYc7SgejbUXK",
        "outputId": "76270d00-e009-4542-9383-384c3f3e23fc"
      },
      "source": [
        "test_generator = TimeseriesGenerator(X_test, np.zeros(len(X_test)), length=n_input, batch_size=b_size)\n",
        "print(test_generator[0][0].shape)"
      ],
      "execution_count": null,
      "outputs": [
        {
          "output_type": "stream",
          "text": [
            "(30, 20, 6)\n"
          ],
          "name": "stdout"
        }
      ]
    },
    {
      "cell_type": "markdown",
      "metadata": {
        "id": "4m7-UV5c9gIx"
      },
      "source": [
        "Since we are working with sequential stock data we chose an LSTM model, which is a RNN model.\n",
        "Activation function is set to relu, and optimizer is adam, since these are the standard for this kind of task.\n",
        "We chose 2 layers with 50 units each, and once again done by trial and error.\n",
        "\n",
        "Since we want to predict the actual stock price we use mse(mean squared error) as our loss fuction."
      ]
    },
    {
      "cell_type": "code",
      "metadata": {
        "colab": {
          "base_uri": "https://localhost:8080/"
        },
        "id": "Bv9kBQ-OatKf",
        "outputId": "accedf98-041c-429d-e28d-229671cda831"
      },
      "source": [
        "model = Sequential()\n",
        "model.add(LSTM(50, activation='relu',return_sequences=True, input_shape=(n_input, n_features)))\n",
        "model.add(LSTM(50, activation='relu'))\n",
        "model.add(Dense(1))\n",
        "model.compile(optimizer='adam', loss='mse')\n",
        "model.summary()"
      ],
      "execution_count": null,
      "outputs": [
        {
          "output_type": "stream",
          "text": [
            "Model: \"sequential_2\"\n",
            "_________________________________________________________________\n",
            "Layer (type)                 Output Shape              Param #   \n",
            "=================================================================\n",
            "lstm_4 (LSTM)                (None, 20, 50)            11400     \n",
            "_________________________________________________________________\n",
            "lstm_5 (LSTM)                (None, 50)                20200     \n",
            "_________________________________________________________________\n",
            "dense_2 (Dense)              (None, 1)                 51        \n",
            "=================================================================\n",
            "Total params: 31,651\n",
            "Trainable params: 31,651\n",
            "Non-trainable params: 0\n",
            "_________________________________________________________________\n"
          ],
          "name": "stdout"
        }
      ]
    },
    {
      "cell_type": "code",
      "metadata": {
        "id": "sA7G_XY0a11w"
      },
      "source": [
        "model.fit(generator,epochs=epochs,verbose=0,validation_data=test_generator)"
      ],
      "execution_count": null,
      "outputs": []
    },
    {
      "cell_type": "markdown",
      "metadata": {
        "id": "mfxayDqTMJEU"
      },
      "source": [
        "This looks like overfitting, but it works the best in our case."
      ]
    },
    {
      "cell_type": "code",
      "metadata": {
        "colab": {
          "base_uri": "https://localhost:8080/",
          "height": 265
        },
        "id": "iXILfC3mbAoL",
        "outputId": "e42761ed-5d5c-4533-a5cf-d3076af28ce5"
      },
      "source": [
        "loss_per_epoch = model.history.history['loss']\n",
        "plt.plot(range(len(loss_per_epoch)),loss_per_epoch);"
      ],
      "execution_count": null,
      "outputs": [
        {
          "output_type": "display_data",
          "data": {
            "image/png": "[encoded data removed]",
            "text/plain": [
              "<Figure size 432x288 with 1 Axes>"
            ]
          },
          "metadata": {
            "tags": [],
            "needs_background": "light"
          }
        }
      ]
    },
    {
      "cell_type": "code",
      "metadata": {
        "colab": {
          "base_uri": "https://localhost:8080/",
          "height": 419
        },
        "id": "sk4a-T-fdVTQ",
        "outputId": "a3c91b1c-d012-4ee4-de15-2f9068fa2495"
      },
      "source": [
        "pd.DataFrame(X_test)"
      ],
      "execution_count": null,
      "outputs": [
        {
          "output_type": "execute_result",
          "data": {
            "text/html": [
              "<div>\n",
              "<style scoped>\n",
              "    .dataframe tbody tr th:only-of-type {\n",
              "        vertical-align: middle;\n",
              "    }\n",
              "\n",
              "    .dataframe tbody tr th {\n",
              "        vertical-align: top;\n",
              "    }\n",
              "\n",
              "    .dataframe thead th {\n",
              "        text-align: right;\n",
              "    }\n",
              "</style>\n",
              "<table border=\"1\" class=\"dataframe\">\n",
              "  <thead>\n",
              "    <tr style=\"text-align: right;\">\n",
              "      <th></th>\n",
              "      <th>0</th>\n",
              "      <th>1</th>\n",
              "      <th>2</th>\n",
              "      <th>3</th>\n",
              "      <th>4</th>\n",
              "      <th>5</th>\n",
              "    </tr>\n",
              "  </thead>\n",
              "  <tbody>\n",
              "    <tr>\n",
              "      <th>0</th>\n",
              "      <td>0.959584</td>\n",
              "      <td>0.909487</td>\n",
              "      <td>0.885785</td>\n",
              "      <td>0.905393</td>\n",
              "      <td>-0.419997</td>\n",
              "      <td>-0.480539</td>\n",
              "    </tr>\n",
              "    <tr>\n",
              "      <th>1</th>\n",
              "      <td>0.890724</td>\n",
              "      <td>0.875855</td>\n",
              "      <td>0.890106</td>\n",
              "      <td>0.930941</td>\n",
              "      <td>-0.619503</td>\n",
              "      <td>0.337652</td>\n",
              "    </tr>\n",
              "    <tr>\n",
              "      <th>2</th>\n",
              "      <td>0.976927</td>\n",
              "      <td>0.908159</td>\n",
              "      <td>0.953296</td>\n",
              "      <td>0.970278</td>\n",
              "      <td>-0.655145</td>\n",
              "      <td>-0.068843</td>\n",
              "    </tr>\n",
              "    <tr>\n",
              "      <th>3</th>\n",
              "      <td>1.002307</td>\n",
              "      <td>0.939565</td>\n",
              "      <td>1.005167</td>\n",
              "      <td>0.994024</td>\n",
              "      <td>-0.736057</td>\n",
              "      <td>-0.083164</td>\n",
              "    </tr>\n",
              "    <tr>\n",
              "      <th>4</th>\n",
              "      <td>1.001855</td>\n",
              "      <td>0.943729</td>\n",
              "      <td>1.009153</td>\n",
              "      <td>1.006031</td>\n",
              "      <td>-0.795138</td>\n",
              "      <td>0.024760</td>\n",
              "    </tr>\n",
              "    <tr>\n",
              "      <th>...</th>\n",
              "      <td>...</td>\n",
              "      <td>...</td>\n",
              "      <td>...</td>\n",
              "      <td>...</td>\n",
              "      <td>...</td>\n",
              "      <td>...</td>\n",
              "    </tr>\n",
              "    <tr>\n",
              "      <th>120</th>\n",
              "      <td>1.532213</td>\n",
              "      <td>1.457321</td>\n",
              "      <td>1.508303</td>\n",
              "      <td>1.513610</td>\n",
              "      <td>-0.713333</td>\n",
              "      <td>-0.175966</td>\n",
              "    </tr>\n",
              "    <tr>\n",
              "      <th>121</th>\n",
              "      <td>1.517270</td>\n",
              "      <td>1.454306</td>\n",
              "      <td>1.515783</td>\n",
              "      <td>1.498093</td>\n",
              "      <td>-0.743594</td>\n",
              "      <td>-0.180847</td>\n",
              "    </tr>\n",
              "    <tr>\n",
              "      <th>122</th>\n",
              "      <td>1.510579</td>\n",
              "      <td>1.427000</td>\n",
              "      <td>1.494829</td>\n",
              "      <td>1.475787</td>\n",
              "      <td>-0.740839</td>\n",
              "      <td>-0.316052</td>\n",
              "    </tr>\n",
              "    <tr>\n",
              "      <th>123</th>\n",
              "      <td>1.472065</td>\n",
              "      <td>1.411342</td>\n",
              "      <td>1.478966</td>\n",
              "      <td>1.471557</td>\n",
              "      <td>-0.761536</td>\n",
              "      <td>-0.018841</td>\n",
              "    </tr>\n",
              "    <tr>\n",
              "      <th>124</th>\n",
              "      <td>1.474298</td>\n",
              "      <td>1.414366</td>\n",
              "      <td>1.458829</td>\n",
              "      <td>1.489374</td>\n",
              "      <td>-0.694332</td>\n",
              "      <td>0.116125</td>\n",
              "    </tr>\n",
              "  </tbody>\n",
              "</table>\n",
              "<p>125 rows × 6 columns</p>\n",
              "</div>"
            ],
            "text/plain": [
              "            0         1         2         3         4         5\n",
              "0    0.959584  0.909487  0.885785  0.905393 -0.419997 -0.480539\n",
              "1    0.890724  0.875855  0.890106  0.930941 -0.619503  0.337652\n",
              "2    0.976927  0.908159  0.953296  0.970278 -0.655145 -0.068843\n",
              "3    1.002307  0.939565  1.005167  0.994024 -0.736057 -0.083164\n",
              "4    1.001855  0.943729  1.009153  1.006031 -0.795138  0.024760\n",
              "..        ...       ...       ...       ...       ...       ...\n",
              "120  1.532213  1.457321  1.508303  1.513610 -0.713333 -0.175966\n",
              "121  1.517270  1.454306  1.515783  1.498093 -0.743594 -0.180847\n",
              "122  1.510579  1.427000  1.494829  1.475787 -0.740839 -0.316052\n",
              "123  1.472065  1.411342  1.478966  1.471557 -0.761536 -0.018841\n",
              "124  1.474298  1.414366  1.458829  1.489374 -0.694332  0.116125\n",
              "\n",
              "[125 rows x 6 columns]"
            ]
          },
          "metadata": {
            "tags": []
          },
          "execution_count": 108
        }
      ]
    },
    {
      "cell_type": "markdown",
      "metadata": {
        "id": "fpS5IOM_Ftp1"
      },
      "source": [
        "#Results of the Neural Network\r\n",
        "\r\n",
        "We do some data processing to get it back to the orginal format, so we can compare the real data to the predictions."
      ]
    },
    {
      "cell_type": "code",
      "metadata": {
        "colab": {
          "base_uri": "https://localhost:8080/"
        },
        "id": "cYdKlL4ub6zR",
        "outputId": "20dd8101-afeb-4241-b06f-02f3a42479c8"
      },
      "source": [
        "y_pred_scaled = model.predict(test_generator)\n",
        "y_pred = y_scaler.inverse_transform(y_pred_scaled)\n",
        "y_test = y_scaler.inverse_transform(y_test)\n",
        "results = pd.DataFrame({'y_true':y_test.flatten()[n_input:],'y_pred':y_pred.flatten()})\n",
        "print(results)"
      ],
      "execution_count": null,
      "outputs": [
        {
          "output_type": "stream",
          "text": [
            "          y_true       y_pred\n",
            "0    3084.000000  2997.022461\n",
            "1    3008.870117  3021.085693\n",
            "2    2999.899902  3170.117432\n",
            "3    2961.969971  3166.101807\n",
            "4    3196.840088  3165.543213\n",
            "..           ...          ...\n",
            "100  3186.729980  3146.289062\n",
            "101  3162.580078  3149.609619\n",
            "102  3158.000000  3124.087402\n",
            "103  3177.290039  3157.810059\n",
            "104  3177.290039  3143.394531\n",
            "\n",
            "[105 rows x 2 columns]\n"
          ],
          "name": "stdout"
        }
      ]
    },
    {
      "cell_type": "code",
      "metadata": {
        "id": "BEgiq3_L5ViP"
      },
      "source": [
        "model.evaluate(test_generator)"
      ],
      "execution_count": null,
      "outputs": []
    },
    {
      "cell_type": "markdown",
      "metadata": {
        "id": "BTriiKUfF312"
      },
      "source": [
        "Looks like the predictions follow the real data to some extent. It follows most of the ups and downs, but doesn't predict that well overall. Also, the model is not very consistant - sometimes it's pretty good and other times it's way off. This alone probably removes any kind of usefullnes for actually trading stocks based on this."
      ]
    },
    {
      "cell_type": "code",
      "metadata": {
        "colab": {
          "base_uri": "https://localhost:8080/",
          "height": 282
        },
        "id": "PRaUtsJwlCDc",
        "outputId": "b5ee7d32-8747-41db-b83b-bddebff3b658"
      },
      "source": [
        "results.plot()"
      ],
      "execution_count": null,
      "outputs": [
        {
          "output_type": "execute_result",
          "data": {
            "text/plain": [
              "<matplotlib.axes._subplots.AxesSubplot at 0x7f7a3eeecfd0>"
            ]
          },
          "metadata": {
            "tags": []
          },
          "execution_count": 111
        },
        {
          "output_type": "display_data",
          "data": {
            "image/png": "[encoded data removed]",
            "text/plain": [
              "<Figure size 432x288 with 1 Axes>"
            ]
          },
          "metadata": {
            "tags": [],
            "needs_background": "light"
          }
        }
      ]
    },
    {
      "cell_type": "code",
      "metadata": {
        "id": "jq3cfcZOlsgP"
      },
      "source": [
        "results[\"difference\"] = results[\"y_true\"]-results[\"y_pred\"]"
      ],
      "execution_count": null,
      "outputs": []
    },
    {
      "cell_type": "code",
      "metadata": {
        "id": "2lV9zj0SmFzC"
      },
      "source": [
        "results['change_true'] = results[\"y_true\"] - results['y_true'].shift(+1, fill_value=train['close'].iloc[-1])\n",
        "results['change_pred'] = results[\"y_pred\"] - results['y_pred'].shift(+1, fill_value=train['close'].iloc[-1])\n",
        "results[\"change_dif\"] = results[\"change_true\"]-results[\"change_pred\"]"
      ],
      "execution_count": null,
      "outputs": []
    },
    {
      "cell_type": "code",
      "metadata": {
        "colab": {
          "base_uri": "https://localhost:8080/",
          "height": 419
        },
        "id": "7bY685EZl9aT",
        "outputId": "5c477414-084d-4152-ef1c-fe5624a44ae0"
      },
      "source": [
        "results"
      ],
      "execution_count": null,
      "outputs": [
        {
          "output_type": "execute_result",
          "data": {
            "text/html": [
              "<div>\n",
              "<style scoped>\n",
              "    .dataframe tbody tr th:only-of-type {\n",
              "        vertical-align: middle;\n",
              "    }\n",
              "\n",
              "    .dataframe tbody tr th {\n",
              "        vertical-align: top;\n",
              "    }\n",
              "\n",
              "    .dataframe thead th {\n",
              "        text-align: right;\n",
              "    }\n",
              "</style>\n",
              "<table border=\"1\" class=\"dataframe\">\n",
              "  <thead>\n",
              "    <tr style=\"text-align: right;\">\n",
              "      <th></th>\n",
              "      <th>y_true</th>\n",
              "      <th>y_pred</th>\n",
              "      <th>difference</th>\n",
              "      <th>change_true</th>\n",
              "      <th>change_pred</th>\n",
              "      <th>change_dif</th>\n",
              "    </tr>\n",
              "  </thead>\n",
              "  <tbody>\n",
              "    <tr>\n",
              "      <th>0</th>\n",
              "      <td>3084.000000</td>\n",
              "      <td>2997.022461</td>\n",
              "      <td>86.977539</td>\n",
              "      <td>526.040039</td>\n",
              "      <td>439.062500</td>\n",
              "      <td>86.977539</td>\n",
              "    </tr>\n",
              "    <tr>\n",
              "      <th>1</th>\n",
              "      <td>3008.870117</td>\n",
              "      <td>3021.085693</td>\n",
              "      <td>-12.215576</td>\n",
              "      <td>-75.129883</td>\n",
              "      <td>24.063232</td>\n",
              "      <td>-99.193115</td>\n",
              "    </tr>\n",
              "    <tr>\n",
              "      <th>2</th>\n",
              "      <td>2999.899902</td>\n",
              "      <td>3170.117432</td>\n",
              "      <td>-170.217529</td>\n",
              "      <td>-8.970215</td>\n",
              "      <td>149.031738</td>\n",
              "      <td>-158.001953</td>\n",
              "    </tr>\n",
              "    <tr>\n",
              "      <th>3</th>\n",
              "      <td>2961.969971</td>\n",
              "      <td>3166.101807</td>\n",
              "      <td>-204.131836</td>\n",
              "      <td>-37.929932</td>\n",
              "      <td>-4.015625</td>\n",
              "      <td>-33.914307</td>\n",
              "    </tr>\n",
              "    <tr>\n",
              "      <th>4</th>\n",
              "      <td>3196.840088</td>\n",
              "      <td>3165.543213</td>\n",
              "      <td>31.296875</td>\n",
              "      <td>234.870117</td>\n",
              "      <td>-0.558594</td>\n",
              "      <td>235.428711</td>\n",
              "    </tr>\n",
              "    <tr>\n",
              "      <th>...</th>\n",
              "      <td>...</td>\n",
              "      <td>...</td>\n",
              "      <td>...</td>\n",
              "      <td>...</td>\n",
              "      <td>...</td>\n",
              "      <td>...</td>\n",
              "    </tr>\n",
              "    <tr>\n",
              "      <th>100</th>\n",
              "      <td>3186.729980</td>\n",
              "      <td>3146.289062</td>\n",
              "      <td>40.440918</td>\n",
              "      <td>-16.800049</td>\n",
              "      <td>40.440186</td>\n",
              "      <td>-57.240234</td>\n",
              "    </tr>\n",
              "    <tr>\n",
              "      <th>101</th>\n",
              "      <td>3162.580078</td>\n",
              "      <td>3149.609619</td>\n",
              "      <td>12.970459</td>\n",
              "      <td>-24.149902</td>\n",
              "      <td>3.320557</td>\n",
              "      <td>-27.470459</td>\n",
              "    </tr>\n",
              "    <tr>\n",
              "      <th>102</th>\n",
              "      <td>3158.000000</td>\n",
              "      <td>3124.087402</td>\n",
              "      <td>33.912598</td>\n",
              "      <td>-4.580078</td>\n",
              "      <td>-25.522217</td>\n",
              "      <td>20.942139</td>\n",
              "    </tr>\n",
              "    <tr>\n",
              "      <th>103</th>\n",
              "      <td>3177.290039</td>\n",
              "      <td>3157.810059</td>\n",
              "      <td>19.479980</td>\n",
              "      <td>19.290039</td>\n",
              "      <td>33.722656</td>\n",
              "      <td>-14.432617</td>\n",
              "    </tr>\n",
              "    <tr>\n",
              "      <th>104</th>\n",
              "      <td>3177.290039</td>\n",
              "      <td>3143.394531</td>\n",
              "      <td>33.895508</td>\n",
              "      <td>0.000000</td>\n",
              "      <td>-14.415527</td>\n",
              "      <td>14.415527</td>\n",
              "    </tr>\n",
              "  </tbody>\n",
              "</table>\n",
              "<p>105 rows × 6 columns</p>\n",
              "</div>"
            ],
            "text/plain": [
              "          y_true       y_pred  difference  change_true  change_pred  change_dif\n",
              "0    3084.000000  2997.022461   86.977539   526.040039   439.062500   86.977539\n",
              "1    3008.870117  3021.085693  -12.215576   -75.129883    24.063232  -99.193115\n",
              "2    2999.899902  3170.117432 -170.217529    -8.970215   149.031738 -158.001953\n",
              "3    2961.969971  3166.101807 -204.131836   -37.929932    -4.015625  -33.914307\n",
              "4    3196.840088  3165.543213   31.296875   234.870117    -0.558594  235.428711\n",
              "..           ...          ...         ...          ...          ...         ...\n",
              "100  3186.729980  3146.289062   40.440918   -16.800049    40.440186  -57.240234\n",
              "101  3162.580078  3149.609619   12.970459   -24.149902     3.320557  -27.470459\n",
              "102  3158.000000  3124.087402   33.912598    -4.580078   -25.522217   20.942139\n",
              "103  3177.290039  3157.810059   19.479980    19.290039    33.722656  -14.432617\n",
              "104  3177.290039  3143.394531   33.895508     0.000000   -14.415527   14.415527\n",
              "\n",
              "[105 rows x 6 columns]"
            ]
          },
          "metadata": {
            "tags": []
          },
          "execution_count": 114
        }
      ]
    },
    {
      "cell_type": "markdown",
      "metadata": {
        "id": "zQFOsqqWQdVd"
      },
      "source": [
        "this shows the actual daily change and the predicted daily change.\n",
        "At this it actually does a pretty good job. The changes are not always in the right direction, but they are of a reasonable size."
      ]
    },
    {
      "cell_type": "code",
      "metadata": {
        "colab": {
          "base_uri": "https://localhost:8080/",
          "height": 282
        },
        "id": "HzAIjuy3pes-",
        "outputId": "54d4b41d-45cb-4635-f787-ddf0d1ce258e"
      },
      "source": [
        "results.iloc[:,3:5].plot()"
      ],
      "execution_count": null,
      "outputs": [
        {
          "output_type": "execute_result",
          "data": {
            "text/plain": [
              "<matplotlib.axes._subplots.AxesSubplot at 0x7f7a3ee5f7b8>"
            ]
          },
          "metadata": {
            "tags": []
          },
          "execution_count": 115
        },
        {
          "output_type": "display_data",
          "data": {
            "image/png": "[encoded data removed]",
            "text/plain": [
              "<Figure size 432x288 with 1 Axes>"
            ]
          },
          "metadata": {
            "tags": [],
            "needs_background": "light"
          }
        }
      ]
    },
    {
      "cell_type": "markdown",
      "metadata": {
        "id": "-WuRlsBFqOhj"
      },
      "source": [
        "#Preproccesing for Neural Networks with Google Trends\r\n",
        "\r\n",
        "Next we want to make a similar model, but we include trends from google trends. Our hypothesis is that stock prices follows the public interest in the company/product. So we download google trends data for the same period as the stock. We only want the collum called \"amazon\" which is normalized over the period."
      ]
    },
    {
      "cell_type": "code",
      "metadata": {
        "id": "f4llddMTfNEF"
      },
      "source": [
        "train2 = merged.iloc[:-test_size,:].copy() \n",
        "test2 = merged.iloc[-test_size:,:].copy()"
      ],
      "execution_count": null,
      "outputs": []
    },
    {
      "cell_type": "code",
      "metadata": {
        "id": "mk2aGoV6eB-a"
      },
      "source": [
        "X_train2 = train2.drop(['close_y'],axis=1).values\n",
        "y_train2 = train2.close_y.values\n",
        "\n",
        "X_test2 = test2.drop(['close_y'],axis=1).values\n",
        "y_test2 = test2.close_y.values"
      ],
      "execution_count": null,
      "outputs": []
    },
    {
      "cell_type": "code",
      "metadata": {
        "id": "OvU9vYRpd17z"
      },
      "source": [
        "X_train2 = x_scaler.fit_transform(X_train2)\n",
        "y_train2 = y_scaler.fit_transform(y_train2.reshape(-1,1))\n",
        "\n",
        "X_test2 = x_scaler.transform(X_test2)\n",
        "y_test2 = y_scaler.transform(y_test2.reshape(-1,1))"
      ],
      "execution_count": null,
      "outputs": []
    },
    {
      "cell_type": "code",
      "metadata": {
        "id": "CHpCAgsVeJgf"
      },
      "source": [
        "generator2 = TimeseriesGenerator(X_train2, y_train2, length=n_input, batch_size=b_size)"
      ],
      "execution_count": null,
      "outputs": []
    },
    {
      "cell_type": "code",
      "metadata": {
        "id": "vRfU8eoii8fF"
      },
      "source": [
        "n_features2 = X_train2.shape[1] # how many predictors/Xs/features we have to predict y"
      ],
      "execution_count": null,
      "outputs": []
    },
    {
      "cell_type": "markdown",
      "metadata": {
        "id": "lBVwXWwluPUS"
      },
      "source": [
        "#Building and training the neural network model with Google Trends\r\n",
        "\r\n",
        "In this part of the assignment, we use the exact same model as we used before. The only difference is that this time, we've included the search-index from Google Trends"
      ]
    },
    {
      "cell_type": "code",
      "metadata": {
        "colab": {
          "base_uri": "https://localhost:8080/"
        },
        "id": "0qluZOv2dnuw",
        "outputId": "8d13feb8-0209-44a5-a355-b7c87be14c40"
      },
      "source": [
        "model2 = Sequential()\n",
        "model2.add(LSTM(50, activation='relu',return_sequences=True, input_shape=(n_input, n_features2)))\n",
        "model2.add(LSTM(50, activation='relu'))\n",
        "model2.add(Dense(1))\n",
        "model2.compile(optimizer='adam', loss='mse')\n",
        "model2.summary()"
      ],
      "execution_count": null,
      "outputs": [
        {
          "output_type": "stream",
          "text": [
            "Model: \"sequential_3\"\n",
            "_________________________________________________________________\n",
            "Layer (type)                 Output Shape              Param #   \n",
            "=================================================================\n",
            "lstm_6 (LSTM)                (None, 20, 50)            12000     \n",
            "_________________________________________________________________\n",
            "lstm_7 (LSTM)                (None, 50)                20200     \n",
            "_________________________________________________________________\n",
            "dense_3 (Dense)              (None, 1)                 51        \n",
            "=================================================================\n",
            "Total params: 32,251\n",
            "Trainable params: 32,251\n",
            "Non-trainable params: 0\n",
            "_________________________________________________________________\n"
          ],
          "name": "stdout"
        }
      ]
    },
    {
      "cell_type": "code",
      "metadata": {
        "colab": {
          "base_uri": "https://localhost:8080/"
        },
        "id": "usqt7uChecjA",
        "outputId": "dfcc2d39-0d8b-4be1-ea37-5984c17cadd7"
      },
      "source": [
        "test_generator2 = TimeseriesGenerator(X_test2, np.zeros(len(X_test2)), length=n_input, batch_size=b_size)\n",
        "print(test_generator2[0][0].shape)"
      ],
      "execution_count": null,
      "outputs": [
        {
          "output_type": "stream",
          "text": [
            "(30, 20, 9)\n"
          ],
          "name": "stdout"
        }
      ]
    },
    {
      "cell_type": "code",
      "metadata": {
        "id": "0IK7PdxbeU1A"
      },
      "source": [
        "model2.fit(generator2,epochs=epochs,verbose=1,validation_data=test_generator2)"
      ],
      "execution_count": null,
      "outputs": []
    },
    {
      "cell_type": "code",
      "metadata": {
        "id": "69_Rw14M5n7C"
      },
      "source": [
        "model2.evaluate(test_generator2)"
      ],
      "execution_count": null,
      "outputs": []
    },
    {
      "cell_type": "code",
      "metadata": {
        "colab": {
          "base_uri": "https://localhost:8080/"
        },
        "id": "Ut8ZIXwgfY0r",
        "outputId": "af24f51f-40aa-4ea9-a922-973b72ce5a40"
      },
      "source": [
        "y_pred_scaled2 = model2.predict(test_generator2)\n",
        "y_pred2 = y_scaler.inverse_transform(y_pred_scaled2)\n",
        "y_test2 = y_scaler.inverse_transform(y_test2)\n",
        "results2 = pd.DataFrame({'y_true':y_test2.flatten()[n_input:],'y_pred':y_pred2.flatten()})\n",
        "print(results2)"
      ],
      "execution_count": null,
      "outputs": [
        {
          "output_type": "stream",
          "text": [
            "          y_true       y_pred\n",
            "0    3200.000000  3049.302979\n",
            "1    3104.000000  3155.121094\n",
            "2    3084.000000  3143.932129\n",
            "3    3008.870117  2857.845947\n",
            "4    2999.899902  2986.215576\n",
            "..           ...          ...\n",
            "100  3220.080078  2462.485840\n",
            "101  3203.530029  2646.609863\n",
            "102  3186.729980  2827.135498\n",
            "103  3162.580078  2708.228760\n",
            "104  3158.000000  2582.946045\n",
            "\n",
            "[105 rows x 2 columns]\n"
          ],
          "name": "stdout"
        }
      ]
    },
    {
      "cell_type": "markdown",
      "metadata": {
        "id": "0xKmZGswutac"
      },
      "source": [
        "#Results of the neural network with Google Trends"
      ]
    },
    {
      "cell_type": "markdown",
      "metadata": {
        "id": "MkcwLBaIPj_C"
      },
      "source": [
        "These results are not any better tbh. Part of the problem might be that amazon trends during christmas every year, which might confuse the model more than it helps. Also amazon makes money of a lot of different things (eg. AWS), which probalby affects the stock price more than the trend.  "
      ]
    },
    {
      "cell_type": "code",
      "metadata": {
        "colab": {
          "base_uri": "https://localhost:8080/",
          "height": 286
        },
        "id": "McxiW2wMfcTT",
        "outputId": "6a298c2b-0e52-4157-fa89-14231c469381"
      },
      "source": [
        "results2.plot()"
      ],
      "execution_count": null,
      "outputs": [
        {
          "output_type": "execute_result",
          "data": {
            "text/plain": [
              "<matplotlib.axes._subplots.AxesSubplot at 0x7f7a3e87d940>"
            ]
          },
          "metadata": {
            "tags": []
          },
          "execution_count": 126
        },
        {
          "output_type": "display_data",
          "data": {
            "image/png": "[encoded data removed]",
            "text/plain": [
              "<Figure size 432x288 with 1 Axes>"
            ]
          },
          "metadata": {
            "tags": [],
            "needs_background": "light"
          }
        }
      ]
    },
    {
      "cell_type": "code",
      "metadata": {
        "id": "JJ8YdJQxqqD-"
      },
      "source": [
        "results2['change_true'] = results2[\"y_true\"] - results2['y_true'].shift(+1, fill_value=train['close'].iloc[-1])\n",
        "results2['change_pred'] = results2[\"y_pred\"] - results2['y_pred'].shift(+1, fill_value=train['close'].iloc[-1])\n",
        "results2[\"change_dif\"] = results2[\"change_true\"]-results2[\"change_pred\"]"
      ],
      "execution_count": null,
      "outputs": []
    },
    {
      "cell_type": "code",
      "metadata": {
        "colab": {
          "base_uri": "https://localhost:8080/",
          "height": 419
        },
        "id": "_RlpOdxt_0wh",
        "outputId": "99ab9345-270e-489f-949c-0a5fa70783b6"
      },
      "source": [
        "results2"
      ],
      "execution_count": null,
      "outputs": [
        {
          "output_type": "execute_result",
          "data": {
            "text/html": [
              "<div>\n",
              "<style scoped>\n",
              "    .dataframe tbody tr th:only-of-type {\n",
              "        vertical-align: middle;\n",
              "    }\n",
              "\n",
              "    .dataframe tbody tr th {\n",
              "        vertical-align: top;\n",
              "    }\n",
              "\n",
              "    .dataframe thead th {\n",
              "        text-align: right;\n",
              "    }\n",
              "</style>\n",
              "<table border=\"1\" class=\"dataframe\">\n",
              "  <thead>\n",
              "    <tr style=\"text-align: right;\">\n",
              "      <th></th>\n",
              "      <th>y_true</th>\n",
              "      <th>y_pred</th>\n",
              "      <th>change_true</th>\n",
              "      <th>change_pred</th>\n",
              "      <th>change_dif</th>\n",
              "    </tr>\n",
              "  </thead>\n",
              "  <tbody>\n",
              "    <tr>\n",
              "      <th>0</th>\n",
              "      <td>3200.000000</td>\n",
              "      <td>3049.302979</td>\n",
              "      <td>642.040039</td>\n",
              "      <td>491.343018</td>\n",
              "      <td>150.697021</td>\n",
              "    </tr>\n",
              "    <tr>\n",
              "      <th>1</th>\n",
              "      <td>3104.000000</td>\n",
              "      <td>3155.121094</td>\n",
              "      <td>-96.000000</td>\n",
              "      <td>105.818115</td>\n",
              "      <td>-201.818115</td>\n",
              "    </tr>\n",
              "    <tr>\n",
              "      <th>2</th>\n",
              "      <td>3084.000000</td>\n",
              "      <td>3143.932129</td>\n",
              "      <td>-20.000000</td>\n",
              "      <td>-11.188965</td>\n",
              "      <td>-8.811035</td>\n",
              "    </tr>\n",
              "    <tr>\n",
              "      <th>3</th>\n",
              "      <td>3008.870117</td>\n",
              "      <td>2857.845947</td>\n",
              "      <td>-75.129883</td>\n",
              "      <td>-286.086182</td>\n",
              "      <td>210.956299</td>\n",
              "    </tr>\n",
              "    <tr>\n",
              "      <th>4</th>\n",
              "      <td>2999.899902</td>\n",
              "      <td>2986.215576</td>\n",
              "      <td>-8.970215</td>\n",
              "      <td>128.369629</td>\n",
              "      <td>-137.339844</td>\n",
              "    </tr>\n",
              "    <tr>\n",
              "      <th>...</th>\n",
              "      <td>...</td>\n",
              "      <td>...</td>\n",
              "      <td>...</td>\n",
              "      <td>...</td>\n",
              "      <td>...</td>\n",
              "    </tr>\n",
              "    <tr>\n",
              "      <th>100</th>\n",
              "      <td>3220.080078</td>\n",
              "      <td>2462.485840</td>\n",
              "      <td>52.040039</td>\n",
              "      <td>26.990479</td>\n",
              "      <td>25.049561</td>\n",
              "    </tr>\n",
              "    <tr>\n",
              "      <th>101</th>\n",
              "      <td>3203.530029</td>\n",
              "      <td>2646.609863</td>\n",
              "      <td>-16.550049</td>\n",
              "      <td>184.124023</td>\n",
              "      <td>-200.674072</td>\n",
              "    </tr>\n",
              "    <tr>\n",
              "      <th>102</th>\n",
              "      <td>3186.729980</td>\n",
              "      <td>2827.135498</td>\n",
              "      <td>-16.800049</td>\n",
              "      <td>180.525635</td>\n",
              "      <td>-197.325684</td>\n",
              "    </tr>\n",
              "    <tr>\n",
              "      <th>103</th>\n",
              "      <td>3162.580078</td>\n",
              "      <td>2708.228760</td>\n",
              "      <td>-24.149902</td>\n",
              "      <td>-118.906738</td>\n",
              "      <td>94.756836</td>\n",
              "    </tr>\n",
              "    <tr>\n",
              "      <th>104</th>\n",
              "      <td>3158.000000</td>\n",
              "      <td>2582.946045</td>\n",
              "      <td>-4.580078</td>\n",
              "      <td>-125.282715</td>\n",
              "      <td>120.702637</td>\n",
              "    </tr>\n",
              "  </tbody>\n",
              "</table>\n",
              "<p>105 rows × 5 columns</p>\n",
              "</div>"
            ],
            "text/plain": [
              "          y_true       y_pred  change_true  change_pred  change_dif\n",
              "0    3200.000000  3049.302979   642.040039   491.343018  150.697021\n",
              "1    3104.000000  3155.121094   -96.000000   105.818115 -201.818115\n",
              "2    3084.000000  3143.932129   -20.000000   -11.188965   -8.811035\n",
              "3    3008.870117  2857.845947   -75.129883  -286.086182  210.956299\n",
              "4    2999.899902  2986.215576    -8.970215   128.369629 -137.339844\n",
              "..           ...          ...          ...          ...         ...\n",
              "100  3220.080078  2462.485840    52.040039    26.990479   25.049561\n",
              "101  3203.530029  2646.609863   -16.550049   184.124023 -200.674072\n",
              "102  3186.729980  2827.135498   -16.800049   180.525635 -197.325684\n",
              "103  3162.580078  2708.228760   -24.149902  -118.906738   94.756836\n",
              "104  3158.000000  2582.946045    -4.580078  -125.282715  120.702637\n",
              "\n",
              "[105 rows x 5 columns]"
            ]
          },
          "metadata": {
            "tags": []
          },
          "execution_count": 128
        }
      ]
    },
    {
      "cell_type": "code",
      "metadata": {
        "colab": {
          "base_uri": "https://localhost:8080/",
          "height": 282
        },
        "id": "kwN-HbA-q4oJ",
        "outputId": "a20b7c62-3eb3-48bb-d2b7-6b2be5a90692"
      },
      "source": [
        "results2.iloc[:,2:4].plot()"
      ],
      "execution_count": null,
      "outputs": [
        {
          "output_type": "execute_result",
          "data": {
            "text/plain": [
              "<matplotlib.axes._subplots.AxesSubplot at 0x7f7a3cf109b0>"
            ]
          },
          "metadata": {
            "tags": []
          },
          "execution_count": 129
        },
        {
          "output_type": "display_data",
          "data": {
            "image/png": "[encoded data removed]",
            "text/plain": [
              "<Figure size 432x288 with 1 Axes>"
            ]
          },
          "metadata": {
            "tags": [],
            "needs_background": "light"
          }
        }
      ]
    },
    {
      "cell_type": "markdown",
      "metadata": {
        "id": "LeOVOk8Hu5VW"
      },
      "source": [
        "#Conclussion\r\n",
        "\r\n",
        "The only real takeaway from this assignment, is that predicting stock-prices based solely on a stocks price-history, and how often there is searched for the stock, it seems impossible to predict the stocks price correctly. \r\n",
        "\r\n",
        "For the data to be used in the M4 project, we intend to include various scrabes throughout the internet, such as gdelt, for articles concerning the stock company. We will then be trying to intepret the sentiments from each article, and use that aswell as an indicator for a potential change in stock-price. "
      ]
    },
    {
      "cell_type": "code",
      "metadata": {
        "id": "WrtRE7KLSDgE",
        "colab": {
          "base_uri": "https://localhost:8080/"
        },
        "outputId": "a563cf4f-dd42-459f-a434-db10f8e53e2d"
      },
      "source": [
        "!jupyter nbconvert --to html \"/content/M3_M4_Project.ipynb\""
      ],
      "execution_count": null,
      "outputs": [
        {
          "output_type": "stream",
          "text": [
            "[NbConvertApp] Converting notebook /content/M3_M4_Project.ipynb to html\n",
            "[NbConvertApp] Writing 576325 bytes to /content/M3_M4_Project.html\n"
          ],
          "name": "stdout"
        }
      ]
    }
  ]
}